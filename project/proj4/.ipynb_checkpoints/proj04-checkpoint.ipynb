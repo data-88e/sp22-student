{
 "cells": [
  {
   "cell_type": "code",
   "execution_count": null,
   "id": "cc96f8e2",
   "metadata": {
    "deletable": false,
    "editable": false
   },
   "outputs": [],
   "source": [
    "# Initialize Otter\n",
    "import otter\n",
    "grader = otter.Notebook(\"proj04.ipynb\")"
   ]
  },
  {
   "cell_type": "markdown",
   "id": "fd84bed5",
   "metadata": {},
   "source": [
    "<table style=\"width: 100%;\" id=\"nb-header\">\n",
    "    <tr style=\"background-color: transparent;\"><td>\n",
    "        <img src=\"https://data-88e.github.io/assets/images/blue_text.png\" width=\"250px\" style=\"margin-left: 0;\" />\n",
    "    </td><td>\n",
    "        <p style=\"text-align: right; font-size: 10pt;\"><strong>Economic Models</strong>, Spring 2022<br>\n",
    "            Dr. Eric Van Dusen <br>\n",
    "        Notebook by Vaidehi Bulusu <br>\n",
    "</table>"
   ]
  },
  {
   "cell_type": "markdown",
   "id": "0bd6e756",
   "metadata": {},
   "source": [
    "# Project 4: Econometrics\n",
    "\n",
    "In the textbook and this week's lecture, we gave you a theoretical introduction to econometrics. In this project, you'll get the chance to apply what you've learned and see how econometrics is actually used by economists!\n",
    "\n",
    "This project is based on an influential study on the relationship between a person's height and labor market outcomes, and is divided into 3 sections:\n",
    "\n",
    "1. Simple Linear Regression\n",
    "\n",
    "2. Multiple Linear Regression\n",
    "\n",
    "3. Reading Econometrics Tables\n",
    "\n",
    "You can refer to the [*Econometrics*](https://data-88e.github.io/textbook/content/11-econometrics/index.html) chapter in the textbook and week 11 resources for help on this project."
   ]
  },
  {
   "cell_type": "code",
   "execution_count": 1,
   "id": "17e64989",
   "metadata": {},
   "outputs": [],
   "source": [
    "from datascience import *\n",
    "import numpy as np\n",
    "import pandas as pd\n",
    "import matplotlib.pyplot as plt\n",
    "import statsmodels.api as sm\n",
    "import warnings\n",
    "warnings.simplefilter(action='ignore')\n",
    "plt.style.use('seaborn-muted')\n",
    "%matplotlib inline\n",
    "plt.rcParams[\"figure.figsize\"] = [10,7]"
   ]
  },
  {
   "cell_type": "markdown",
   "id": "b093b2c1",
   "metadata": {},
   "source": [
    " ## Part 1: Simple Linear Regression\n",
    "\n",
    "Several studies have identified a positive correlation between a person's height and labor market outcomes: on average, taller people have jobs that are of a higher status and pay more. In their paper, *[Stature and Status:\n",
    "Height, Ability, and Labor Market Outcomes](https://www.nber.org/system/files/working_papers/w12466/w12466.pdf)* (2008), economists Anne Case and Christina Paxson analyze the data from the US National Health Interview Survey in 1994 to explain this association. This is the data we will be using for our analysis.\n",
    "\n",
    "In the first part of the project, we will use simple (bivariate) linear regression to look at the association between a person's height and earnings, and consider the problems with limiting our regression model to just 1 regressor.\n",
    "\n",
    "We start by importing the `earnings.csv` dataset which contains information about the characteristics and labor market outcomes for 17,870 workers."
   ]
  },
  {
   "cell_type": "code",
   "execution_count": 2,
   "id": "22b15c46",
   "metadata": {},
   "outputs": [],
   "source": [
    "earnings = Table().read_table(\"earnings.csv\")\n",
    "earnings.show(5)"
   ]
  },
  {
   "cell_type": "markdown",
   "id": "f69dc8cf",
   "metadata": {},
   "source": [
    "<div class=\"alert alert-warning\">\n",
    "    \n",
    "Before proceeding, please read the <a href=\"https://wps.pearsoned.com/wps/media/objects/11422/11696965/data3eu/Earnings_and_Height_Description.pdf\" target=\"_blank\">data description</a> for this study which gives you information about each variable. **This is very important.**\n",
    "    \n",
    "</div>"
   ]
  },
  {
   "cell_type": "markdown",
   "id": "6f5284f7",
   "metadata": {
    "deletable": false,
    "editable": false
   },
   "source": [
    "<!-- BEGIN QUESTION -->\n",
    "\n",
    "**Question 1.1:** What do you expect the sign of the relationship between height and earnings to be? Explain your answer.\n",
    "\n",
    "<!--\n",
    "BEGIN QUESTION\n",
    "name: q1_1\n",
    "manual: true\n",
    "-->"
   ]
  },
  {
   "cell_type": "markdown",
   "id": "e6e39842",
   "metadata": {},
   "source": [
    "_Type your answer here, replacing this text._"
   ]
  },
  {
   "cell_type": "markdown",
   "id": "997e9abc",
   "metadata": {
    "deletable": false,
    "editable": false
   },
   "source": [
    "<!-- END QUESTION -->\n",
    "\n",
    "**Question 1.2:** Here's a simple linear regression equation to model the association between height and earnings:\n",
    "\n",
    "$$log(\\text{Earnings}) = \\beta_1 \\times \\text{Height} + \\alpha$$\n",
    "\n",
    "Perform a regression of `log_earnings` on `height`. Don't forget to take the log of the earnings column and add a constant term!\n",
    "\n",
    "<!--\n",
    "BEGIN QUESTION\n",
    "name: q1_2\n",
    "-->"
   ]
  },
  {
   "cell_type": "code",
   "execution_count": 3,
   "id": "4216660a",
   "metadata": {},
   "outputs": [],
   "source": [
    "y_1_2 = ...\n",
    "x_1_2 = ...\n",
    "model_1_2 = ...\n",
    "results_1_2 = ...\n",
    "results_1_2.summary()"
   ]
  },
  {
   "cell_type": "code",
   "execution_count": null,
   "id": "dcd9b6a8",
   "metadata": {
    "deletable": false,
    "editable": false
   },
   "outputs": [],
   "source": [
    "grader.check(\"q1_2\")"
   ]
  },
  {
   "cell_type": "markdown",
   "id": "b3378b9b",
   "metadata": {
    "deletable": false,
    "editable": false
   },
   "source": [
    "<!-- BEGIN QUESTION -->\n",
    "\n",
    "**Question 1.3:** Why should we include a constant term in the regression model?\n",
    "\n",
    "<!--\n",
    "BEGIN QUESTION\n",
    "name: q1_3\n",
    "manual: true\n",
    "-->"
   ]
  },
  {
   "cell_type": "markdown",
   "id": "e4452728",
   "metadata": {},
   "source": [
    "_Type your answer here, replacing this text._"
   ]
  },
  {
   "cell_type": "markdown",
   "id": "18f4a0d9",
   "metadata": {
    "deletable": false,
    "editable": false
   },
   "source": [
    "<!-- END QUESTION -->\n",
    "\n",
    "<!-- BEGIN QUESTION -->\n",
    "\n",
    "**Question 1.4:** Why should we take the log of earnings in this model?\n",
    "\n",
    "<!--\n",
    "BEGIN QUESTION\n",
    "name: q1_4\n",
    "manual: true\n",
    "-->"
   ]
  },
  {
   "cell_type": "markdown",
   "id": "9f11ccd1",
   "metadata": {},
   "source": [
    "_Type your answer here, replacing this text._"
   ]
  },
  {
   "cell_type": "markdown",
   "id": "04e9c6fb",
   "metadata": {
    "deletable": false,
    "editable": false
   },
   "source": [
    "<!-- END QUESTION -->\n",
    "\n",
    "**Question 1.5:** What is the estimated association between `log(earnings)` and `height`?\n",
    "\n",
    "<!--\n",
    "BEGIN QUESTION\n",
    "name: q1_5\n",
    "-->"
   ]
  },
  {
   "cell_type": "code",
   "execution_count": 10,
   "id": "fa8a9387",
   "metadata": {},
   "outputs": [],
   "source": [
    "result_1_4 = ...\n",
    "result_1_4"
   ]
  },
  {
   "cell_type": "code",
   "execution_count": null,
   "id": "09e6ea2d",
   "metadata": {
    "deletable": false,
    "editable": false
   },
   "outputs": [],
   "source": [
    "grader.check(\"q1_5\")"
   ]
  },
  {
   "cell_type": "markdown",
   "id": "49ca6f07",
   "metadata": {
    "deletable": false,
    "editable": false
   },
   "source": [
    "**Question 1.6:** Is the association statistically significant? Answer `True` or `False`.\n",
    "\n",
    "<!--\n",
    "BEGIN QUESTION\n",
    "name: q1_6\n",
    "-->"
   ]
  },
  {
   "cell_type": "code",
   "execution_count": 13,
   "id": "2c5fa2a3",
   "metadata": {},
   "outputs": [],
   "source": [
    "result_1_5 = ...\n",
    "result_1_5"
   ]
  },
  {
   "cell_type": "code",
   "execution_count": null,
   "id": "a7cef28d",
   "metadata": {
    "deletable": false,
    "editable": false
   },
   "outputs": [],
   "source": [
    "grader.check(\"q1_6\")"
   ]
  },
  {
   "cell_type": "markdown",
   "id": "4c955adb",
   "metadata": {
    "deletable": false,
    "editable": false
   },
   "source": [
    "<!-- BEGIN QUESTION -->\n",
    "\n",
    "**Question 1.7:** Interpret the slope on the `height` variable (including the units). Does the sign match what you expected in question 1.1?\n",
    "\n",
    "<!--\n",
    "BEGIN QUESTION\n",
    "name: q1_7\n",
    "manual: true\n",
    "-->"
   ]
  },
  {
   "cell_type": "markdown",
   "id": "2a237159",
   "metadata": {},
   "source": [
    "_Type your answer here, replacing this text._"
   ]
  },
  {
   "cell_type": "markdown",
   "id": "8897bfe8",
   "metadata": {
    "deletable": false,
    "editable": false
   },
   "source": [
    "<!-- END QUESTION -->\n",
    "\n",
    "<!-- BEGIN QUESTION -->\n",
    "\n",
    "**Question 1.8:** Interpret the intercept of the regression (including the units). Does this make practical sense? Explain your answer.\n",
    "\n",
    "<!--\n",
    "BEGIN QUESTION\n",
    "name: q1_8\n",
    "manual: true\n",
    "-->"
   ]
  },
  {
   "cell_type": "markdown",
   "id": "0f1ec2b8",
   "metadata": {},
   "source": [
    "_Type your answer here, replacing this text._"
   ]
  },
  {
   "cell_type": "markdown",
   "id": "489bf42f",
   "metadata": {
    "deletable": false,
    "editable": false
   },
   "source": [
    "<!-- END QUESTION -->\n",
    "\n",
    "<!-- BEGIN QUESTION -->\n",
    "\n",
    "**Question 1.9:** If the slope on the independent variable is statistically significant, can we infer a causal relationship between the two variables? Why or why not? When can you infer a causal relationship between 2 variables based on the results of the study?\n",
    "\n",
    "*Hint: Think about the type of study we're looking at.*\n",
    "\n",
    "<!--\n",
    "BEGIN QUESTION\n",
    "name: q1_9\n",
    "manual: true\n",
    "-->"
   ]
  },
  {
   "cell_type": "markdown",
   "id": "14d1f273",
   "metadata": {},
   "source": [
    "_Type your answer here, replacing this text._"
   ]
  },
  {
   "cell_type": "markdown",
   "id": "acbe37aa",
   "metadata": {
    "deletable": false,
    "editable": false
   },
   "source": [
    "<!-- END QUESTION -->\n",
    "\n",
    "**Question 1.10:** Use the slope and intercept from the regression in question 1.2 to generate predictions for `log(earnings)`.\n",
    "\n",
    "<!--\n",
    "BEGIN QUESTION\n",
    "name: q1_10\n",
    "-->"
   ]
  },
  {
   "cell_type": "code",
   "execution_count": 18,
   "id": "e3382427",
   "metadata": {},
   "outputs": [],
   "source": [
    "predictions_1_10 = ...\n",
    "predictions_1_10"
   ]
  },
  {
   "cell_type": "code",
   "execution_count": null,
   "id": "fbc6d4f6",
   "metadata": {
    "deletable": false,
    "editable": false
   },
   "outputs": [],
   "source": [
    "grader.check(\"q1_10\")"
   ]
  },
  {
   "cell_type": "markdown",
   "id": "7c7bbfef",
   "metadata": {
    "deletable": false,
    "editable": false
   },
   "source": [
    "**Question 1.11:** Calculate the RMSE for your regression predictions from question 1.9.\n",
    "\n",
    "<!--\n",
    "BEGIN QUESTION\n",
    "name: q1_11\n",
    "-->"
   ]
  },
  {
   "cell_type": "code",
   "execution_count": 28,
   "id": "ec454184",
   "metadata": {},
   "outputs": [],
   "source": [
    "rmse_1_11 = ...\n",
    "rmse_1_11"
   ]
  },
  {
   "cell_type": "code",
   "execution_count": null,
   "id": "93df23b6",
   "metadata": {
    "deletable": false,
    "editable": false
   },
   "outputs": [],
   "source": [
    "grader.check(\"q1_11\")"
   ]
  },
  {
   "cell_type": "markdown",
   "id": "e0c41137",
   "metadata": {
    "deletable": false,
    "editable": false
   },
   "source": [
    "<!-- BEGIN QUESTION -->\n",
    "\n",
    "**Question 1.12:** Interpret the RMSE value (including the units).\n",
    "\n",
    "<!--\n",
    "BEGIN QUESTION\n",
    "name: q1_12\n",
    "manual: true\n",
    "-->"
   ]
  },
  {
   "cell_type": "markdown",
   "id": "7b52a320",
   "metadata": {},
   "source": [
    "_Type your answer here, replacing this text._"
   ]
  },
  {
   "cell_type": "markdown",
   "id": "4f14e380",
   "metadata": {},
   "source": [
    "<!-- END QUESTION -->\n",
    "\n",
    "\n",
    "\n",
    "## Part 2: Multiple Linear Regression\n",
    "\n",
    "Now, let's perform multiple linear regression to account for potential confounding variables in our model. For simplicity, we will be using only the following additional regressors: `age`, `educ`, `sex` and `weight`."
   ]
  },
  {
   "cell_type": "markdown",
   "id": "fa35f0c6",
   "metadata": {
    "deletable": false,
    "editable": false
   },
   "source": [
    "<!-- BEGIN QUESTION -->\n",
    "\n",
    "**Question 2.1:** Pick 2 variables from the 4 additional variables we will be incorporating in the model (`age`, `educ`, `sex` and `weight`) that you think might be potential confounders in the study. Provide a brief explanation for why you think each of the variables may be a confounder. \n",
    "\n",
    "*Hint: Recall that a confounder is related to both the independent and dependent variables, so in your answer, make sure to talk about how each confounder is related to `height` and `weight`.*\n",
    "\n",
    "<!--\n",
    "BEGIN QUESTION\n",
    "name: q2_1\n",
    "manual: true\n",
    "-->"
   ]
  },
  {
   "cell_type": "markdown",
   "id": "25cae776",
   "metadata": {},
   "source": [
    "_Type your answer here, replacing this text._"
   ]
  },
  {
   "cell_type": "markdown",
   "id": "1e835549",
   "metadata": {
    "deletable": false,
    "editable": false
   },
   "source": [
    "<!-- END QUESTION -->\n",
    "\n",
    "**Question 2.2:** Perform another regression with the following new regressors: `age`, `educ`, `sex` and `weight` (also include `height`).\n",
    "\n",
    "<!--\n",
    "BEGIN QUESTION\n",
    "name: q2_2\n",
    "-->"
   ]
  },
  {
   "cell_type": "code",
   "execution_count": 30,
   "id": "297c1588",
   "metadata": {},
   "outputs": [],
   "source": [
    "y_2_2 = ...\n",
    "x_2_2 = ...\n",
    "model_2_2 = ...\n",
    "results_2_2 = ...\n",
    "results_2_2.summary()"
   ]
  },
  {
   "cell_type": "code",
   "execution_count": null,
   "id": "ef60b201",
   "metadata": {
    "deletable": false,
    "editable": false
   },
   "outputs": [],
   "source": [
    "grader.check(\"q2_2\")"
   ]
  },
  {
   "cell_type": "markdown",
   "id": "fb21ddd7",
   "metadata": {
    "deletable": false,
    "editable": false
   },
   "source": [
    "<!-- BEGIN QUESTION -->\n",
    "\n",
    "**Question 2.3:** Compare the coefficient on `height` from the regression model in question 2.2 to the coefficient on `height` from the regression model in question 1.2. What does this tell you about the nature of the omitted variable bias in the previous model (is it positive or negative)?\n",
    "\n",
    "<!--\n",
    "BEGIN QUESTION\n",
    "name: q2_3\n",
    "manual: true\n",
    "-->"
   ]
  },
  {
   "cell_type": "markdown",
   "id": "43021ef7",
   "metadata": {},
   "source": [
    "_Type your answer here, replacing this text._"
   ]
  },
  {
   "cell_type": "markdown",
   "id": "432f85d4",
   "metadata": {
    "deletable": false,
    "editable": false
   },
   "source": [
    "<!-- END QUESTION -->\n",
    "\n",
    "<!-- BEGIN QUESTION -->\n",
    "\n",
    "**Question 2.4:** Look at the regression coefficients for the additional variables we included in question 2.2. Do the coefficients align with your intuition from 2.1 (in terms how they are related to earnings)?\n",
    "\n",
    "<!--\n",
    "BEGIN QUESTION\n",
    "name: q2_4\n",
    "manual: true\n",
    "-->"
   ]
  },
  {
   "cell_type": "markdown",
   "id": "3cf7bb98",
   "metadata": {},
   "source": [
    "_Type your answer here, replacing this text._"
   ]
  },
  {
   "cell_type": "markdown",
   "id": "5a9c7203",
   "metadata": {
    "deletable": false,
    "editable": false
   },
   "source": [
    "<!-- END QUESTION -->\n",
    "\n",
    "<!-- BEGIN QUESTION -->\n",
    "\n",
    "**Question 2.5:** Let's consider the effect of gender on earnings. Do you think the relationship between height and earnings would be different based on gender? Explain your answer.\n",
    "\n",
    "<!--\n",
    "BEGIN QUESTION\n",
    "name: q2_5\n",
    "manual: true\n",
    "-->"
   ]
  },
  {
   "cell_type": "markdown",
   "id": "9e620609",
   "metadata": {},
   "source": [
    "_Type your answer here, replacing this text._"
   ]
  },
  {
   "cell_type": "markdown",
   "id": "d42bea51",
   "metadata": {
    "deletable": false,
    "editable": false
   },
   "source": [
    "<!-- END QUESTION -->\n",
    "\n",
    "<!-- BEGIN QUESTION -->\n",
    "\n",
    "**Question 2.6:** If we computed the RMSE for this regression model, do you think it would be higher or lower than the regression model we computed in 1.11?\n",
    "\n",
    "<!--\n",
    "BEGIN QUESTION\n",
    "name: q2_6\n",
    "manual: true\n",
    "-->"
   ]
  },
  {
   "cell_type": "markdown",
   "id": "ff9f8f4a",
   "metadata": {},
   "source": [
    "_Type your answer here, replacing this text._"
   ]
  },
  {
   "cell_type": "markdown",
   "id": "507702ac",
   "metadata": {
    "deletable": false,
    "editable": false
   },
   "source": [
    "<!-- END QUESTION -->\n",
    "\n",
    "<!-- BEGIN QUESTION -->\n",
    "\n",
    "**Question 2.7:** Now that we've accounted for some additional confounding variables do you think it makes sense for us to infer a causal relationship between height and log(earnings)? Explain your answer.\n",
    "\n",
    "<!--\n",
    "BEGIN QUESTION\n",
    "name: q2_7\n",
    "manual: true\n",
    "-->"
   ]
  },
  {
   "cell_type": "markdown",
   "id": "e0aa384e",
   "metadata": {},
   "source": [
    "_Type your answer here, replacing this text._"
   ]
  },
  {
   "cell_type": "markdown",
   "id": "f1e5458f",
   "metadata": {
    "deletable": false,
    "editable": false
   },
   "source": [
    "<!-- END QUESTION -->\n",
    "\n",
    "**Question 2.8:** Now let’s try to predict a person’s log(earnings) based on their characteristics.\n",
    "\n",
    "What would the predicted log(earnings) of a 35-year-old woman with a Bachelor's degree who is 64 inches tall and 124 pounds?\n",
    "\n",
    "*Hint: A person with a Bachelor's degree has completed 15 years of education.*\n",
    "\n",
    "<!--\n",
    "BEGIN QUESTION\n",
    "name: q2_8\n",
    "-->"
   ]
  },
  {
   "cell_type": "code",
   "execution_count": 46,
   "id": "5bbcc180",
   "metadata": {},
   "outputs": [],
   "source": [
    "prediction_2_8 = ...\n",
    "prediction_2_8"
   ]
  },
  {
   "cell_type": "code",
   "execution_count": null,
   "id": "76d56520",
   "metadata": {
    "deletable": false,
    "editable": false
   },
   "outputs": [],
   "source": [
    "grader.check(\"q2_8\")"
   ]
  },
  {
   "cell_type": "markdown",
   "id": "e8c472da",
   "metadata": {
    "deletable": false,
    "editable": false
   },
   "source": [
    "<!-- BEGIN QUESTION -->\n",
    "\n",
    "**Question 2.9:** Say you wanted to know the relationship between `sex` (which is a binary variable) and `log(earnings)` (which is a continuous variable). How would you compute the regression coefficient on `sex` without using Python?\n",
    "\n",
    "*Hint: It's a difference between 2 values.*\n",
    "\n",
    "<!--\n",
    "BEGIN QUESTION\n",
    "name: q2_9\n",
    "manual: true\n",
    "-->"
   ]
  },
  {
   "cell_type": "markdown",
   "id": "0f326ee4",
   "metadata": {},
   "source": [
    "_Type your answer here, replacing this text._"
   ]
  },
  {
   "cell_type": "markdown",
   "id": "e8ace1c6",
   "metadata": {},
   "source": [
    "<!-- END QUESTION -->\n",
    "\n",
    "\n",
    "\n",
    "## Part 3: Reading Econometrics Tables"
   ]
  },
  {
   "cell_type": "markdown",
   "id": "bbd684fc",
   "metadata": {},
   "source": [
    "Researchers tend to run multiple regression models which they summarize in econometrics tables.\n",
    "\n",
    "Below is a table taken from the paper. It shows the regression results from 2 studies on the relationship between height and earnings: the British Cohort Study (BCS) and National Child Development Study (NCDS).\n",
    "\n",
    "<img src = \"https://i.imgur.com/a2o9OPA.png\">"
   ]
  },
  {
   "cell_type": "markdown",
   "id": "ade40668",
   "metadata": {},
   "source": [
    "<div class=\"alert alert-warning\">\n",
    "    \n",
    "Make sure to read the table (including the note at the bottom) before proceeding.\n",
    "    \n",
    "</div>"
   ]
  },
  {
   "cell_type": "markdown",
   "id": "84fd75d2",
   "metadata": {},
   "source": [
    "Note that for the questions below, **log earnings** is the dependent variable. Recall the [interpretation of the slope](https://data-88e.github.io/textbook/content/01-demand/03-log-log.html) in this case."
   ]
  },
  {
   "cell_type": "markdown",
   "id": "a992c919",
   "metadata": {
    "deletable": false,
    "editable": false
   },
   "source": [
    "<!-- BEGIN QUESTION -->\n",
    "\n",
    "**Question 3.1:** We can see that in each study, the researchers estimated separate models for men and women. Why do you think this is?\n",
    "\n",
    "<!--\n",
    "BEGIN QUESTION\n",
    "name: q3_1\n",
    "manual: true\n",
    "-->"
   ]
  },
  {
   "cell_type": "markdown",
   "id": "7d4be21d",
   "metadata": {},
   "source": [
    "_Type your answer here, replacing this text._"
   ]
  },
  {
   "cell_type": "markdown",
   "id": "2d98c69d",
   "metadata": {
    "deletable": false,
    "editable": false
   },
   "source": [
    "<!-- END QUESTION -->\n",
    "\n",
    "<!-- BEGIN QUESTION -->\n",
    "\n",
    "**Question 3.2:** Look at the results of the British Cohort Study for men. There are 3 coefficients reported for height at age 30. Give a brief interpretation of each of these coefficients (including the units). In your explanation, talk about what is causing the differences among these coefficients (hint: look at the *Test scores* and *Extended controls* rows).\n",
    "\n",
    "Note: Assume height is measured in inches for this study.\n",
    "\n",
    "<!--\n",
    "BEGIN QUESTION\n",
    "name: q3_2\n",
    "manual: true\n",
    "-->"
   ]
  },
  {
   "cell_type": "markdown",
   "id": "91a0a942",
   "metadata": {},
   "source": [
    "_Type your answer here, replacing this text._"
   ]
  },
  {
   "cell_type": "markdown",
   "id": "f70365db",
   "metadata": {
    "deletable": false,
    "editable": false
   },
   "source": [
    "<!-- END QUESTION -->\n",
    "\n",
    "<!-- BEGIN QUESTION -->\n",
    "\n",
    "**Question 3.3:** Compare the third coefficient for men and women in the BCS (look at the 3rd and 6th columns). What does this tell you about the relationship between height and earnings for men and women? Does this align with your intuition in question 2.5?\n",
    "\n",
    "<!--\n",
    "BEGIN QUESTION\n",
    "name: q3_3\n",
    "manual: true\n",
    "-->"
   ]
  },
  {
   "cell_type": "markdown",
   "id": "4cc14425",
   "metadata": {},
   "source": [
    "_Type your answer here, replacing this text._"
   ]
  },
  {
   "cell_type": "markdown",
   "id": "ac838380",
   "metadata": {},
   "source": [
    "<!-- END QUESTION -->\n",
    "\n",
    "\n",
    "\n",
    "## Conclusion"
   ]
  },
  {
   "cell_type": "markdown",
   "id": "e0ccc99d",
   "metadata": {},
   "source": [
    "This brings us to the end of project 4! You've learned some key econometrics skills such as running regressions and reading econometrics tables. You've also developed an intuition for ordinary linear regression, omitted variable bias and regression with dummy variables.\n",
    "\n",
    "Also, we didn't cover a large part of Case and Paxson's [fascinating study](https://www.nber.org/system/files/working_papers/w12466/w12466.pdf) so if you're interested in how they explain the positive association between height and earnings, we recommend giving the paper a read!\n",
    "\n",
    "Congratulations on finishing your final DATA 88E project! We hope you enjoyed the course!"
   ]
  },
  {
   "cell_type": "markdown",
   "id": "bf960eae",
   "metadata": {},
   "source": [
    "---"
   ]
  },
  {
   "cell_type": "markdown",
   "id": "b2a31bd7",
   "metadata": {
    "deletable": false,
    "editable": false
   },
   "source": [
    "---\n",
    "\n",
    "To double-check your work, the cell below will rerun all of the autograder tests."
   ]
  },
  {
   "cell_type": "code",
   "execution_count": null,
   "id": "827dcf98",
   "metadata": {
    "deletable": false,
    "editable": false
   },
   "outputs": [],
   "source": [
    "grader.check_all()"
   ]
  },
  {
   "cell_type": "markdown",
   "id": "2b336b3c",
   "metadata": {
    "deletable": false,
    "editable": false
   },
   "source": [
    "## Submission\n",
    "\n",
    "Make sure you have run all cells in your notebook in order before running the cell below, so that all images/graphs appear in the output. The cell below will generate a zip file for you to submit. **Please save before exporting!**"
   ]
  },
  {
   "cell_type": "code",
   "execution_count": null,
   "id": "5ba359f8",
   "metadata": {
    "deletable": false,
    "editable": false
   },
   "outputs": [],
   "source": [
    "# Save your notebook first, then run this cell to export your submission.\n",
    "grader.export()"
   ]
  },
  {
   "cell_type": "markdown",
   "id": "dd4cbb5d",
   "metadata": {},
   "source": [
    " "
   ]
  }
 ],
 "metadata": {
  "kernelspec": {
   "display_name": "Python 3",
   "language": "python",
   "name": "python3"
  },
  "language_info": {
   "codemirror_mode": {
    "name": "ipython",
    "version": 3
   },
   "file_extension": ".py",
   "mimetype": "text/x-python",
   "name": "python",
   "nbconvert_exporter": "python",
   "pygments_lexer": "ipython3",
   "version": "3.8.8"
  }
 },
 "nbformat": 4,
 "nbformat_minor": 5
}
