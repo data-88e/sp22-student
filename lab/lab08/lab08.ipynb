{
 "cells": [
  {
   "cell_type": "code",
   "execution_count": null,
   "metadata": {
    "deletable": false,
    "editable": false
   },
   "outputs": [],
   "source": [
    "# Initialize Otter\n",
    "import otter\n",
    "grader = otter.Notebook(\"lab08.ipynb\")"
   ]
  },
  {
   "cell_type": "code",
   "execution_count": 46,
   "metadata": {},
   "outputs": [],
   "source": [
    "#Import packages\n",
    "from datascience import *\n",
    "import matplotlib.pyplot as plt\n",
    "%matplotlib inline \n",
    "\n",
    "import numpy as np\n",
    "import pandas as pd\n",
    "from matplotlib import patches"
   ]
  },
  {
   "cell_type": "markdown",
   "metadata": {},
   "source": [
    "<table style=\"width: 100%;\">\n",
    "    <tr style=\"background-color: transparent;\"><td>\n",
    "        <img src=\"https://data-88e.github.io/assets/images/blue_text.png\" width=\"250px\" style=\"margin-left: 0;\" />\n",
    "    </td><td>\n",
    "        <p style=\"text-align: right; font-size: 10pt;\"><strong>Economic Models</strong>, Fall 2022<br>\n",
    "            Peter F. Grinde-Hollevik<br>\n",
    "            Ray Zhou<br>\n",
    "            Dr. Eric Van Dusen<br>\n",
    "            Dr. Daniel Hammer<br>\n",
    "            Rohan Jha\n",
    "        </p></td></tr>\n",
    "</table>"
   ]
  },
  {
   "cell_type": "markdown",
   "metadata": {},
   "source": [
    "   # Lab 8: Constructing the MAC Curve for Methane"
   ]
  },
  {
   "cell_type": "markdown",
   "metadata": {},
   "source": [
    "Please refer to the \"Marginal Abatement Cost Curves\" chapter for a thorough introduction to abatement curves. This lab is an empirical application of what was covered in class. In this lab, we shall attempt to produce our very own Marginal Abatement Cost (MAC) Curve based on real world data!\n",
    "\n",
    "Unfortunately, data behind in the 2009 McKinsey Carbon Dioxide abatement curve is old and difficult to reproduce. For this lab, we'll rely on a dataset published by the International Energy Association for methane emissions from the oil and gas sector.  One important thing to keep in mind is that Methane is far more powerful than CO2 in trapping heat in the atmosphere; *80 times more potent in the first 20 years and 20 times more powerful when average over 100 years*. Methane emissions from the energy sector contribute a third of all human caused methane emissions.  \n",
    "\n",
    "**The dataset and documentation are from**: \n",
    "\n",
    "- Methane Emissions from Oil and Gas Report from IEA (https://www.iea.org/reports/methane-emissions-from-oil-and-gas)\n",
    "- IEA Methane Tracker (2021) (https://www.iea.org/articles/methane-tracker-database).\n",
    "\n",
    "However, we have cleaned the data a little bit (selected certain values, renamed/dropped certain columns) so it's easier to work with for the purpose of this lab. Please make a Piazza post if you want to find out the steps we took while cleaning the data!\n",
    "\n",
    "Let's start off with a summary about global oil and gas methane emissions from their report:"
   ]
  },
  {
   "cell_type": "markdown",
   "metadata": {},
   "source": [
    "<img src=\"SS.png\"  />"
   ]
  },
  {
   "cell_type": "markdown",
   "metadata": {},
   "source": [
    "The chart on the left indicates where these methane emissions occur within the oil and gas industry (look at the x-axis - the values are in kilotons!).  The chart on the right indicates where the IEA estimates fall with respect to other recent studies.  These charts clearly illustrate the enormous potential of methane emission abatement in oil and gas production worldwide. With high abatement potential, it is important to understand the various abatement technologies and their costs - let's try to build a MAC Curve to do so. "
   ]
  },
  {
   "cell_type": "markdown",
   "metadata": {},
   "source": [
    "### The MAC Curve"
   ]
  },
  {
   "cell_type": "markdown",
   "metadata": {},
   "source": [
    "Before attempting to replicate the MAC curve, let's review the information it holds."
   ]
  },
  {
   "cell_type": "markdown",
   "metadata": {
    "deletable": false,
    "editable": false
   },
   "source": [
    "<!-- BEGIN QUESTION -->\n",
    "\n",
    "**Question 1:** What do the X and Y axes of a MAC curve represent?\n",
    "\n",
    "<!--\n",
    "BEGIN QUESTION\n",
    "name: q1\n",
    "manual: true\n",
    "-->"
   ]
  },
  {
   "cell_type": "markdown",
   "metadata": {},
   "source": [
    "_Type your answer here, replacing this text._"
   ]
  },
  {
   "cell_type": "markdown",
   "metadata": {
    "deletable": false,
    "editable": false
   },
   "source": [
    "<!-- END QUESTION -->\n",
    "\n",
    "<!-- BEGIN QUESTION -->\n",
    "\n",
    "**Question 2:** Why does the Y-axis include negative values?\n",
    "\n",
    "<!--\n",
    "BEGIN QUESTION\n",
    "name: q2\n",
    "manual: true\n",
    "-->"
   ]
  },
  {
   "cell_type": "markdown",
   "metadata": {},
   "source": [
    "_Type your answer here, replacing this text._"
   ]
  },
  {
   "cell_type": "markdown",
   "metadata": {
    "deletable": false,
    "editable": false
   },
   "source": [
    "<!-- END QUESTION -->\n",
    "\n",
    "<!-- BEGIN QUESTION -->\n",
    "\n",
    "**Question 3:** How might the Emissions Abatement alternative promote a greater reduction in GHGs compared to the Business-as-Usual (BAU) approach?\n",
    "\n",
    "<!--\n",
    "BEGIN QUESTION\n",
    "name: q3\n",
    "manual: true\n",
    "-->"
   ]
  },
  {
   "cell_type": "markdown",
   "metadata": {},
   "source": [
    "_Type your answer here, replacing this text._"
   ]
  },
  {
   "cell_type": "markdown",
   "metadata": {},
   "source": [
    "<!-- END QUESTION -->\n",
    "\n",
    "\n",
    "\n",
    "Let's first try to construct a MAC for all abatement technologies in the Asia Pacific region. We'll start by importing a dataset on methane abatement from the International Environmental Agency (IEA). "
   ]
  },
  {
   "cell_type": "code",
   "execution_count": 47,
   "metadata": {},
   "outputs": [],
   "source": [
    "abatement_table = Table.read_table(\"abatement_data.csv\")\n",
    "abatement_table"
   ]
  },
  {
   "cell_type": "markdown",
   "metadata": {
    "deletable": false,
    "editable": false
   },
   "source": [
    "<!-- BEGIN QUESTION -->\n",
    "\n",
    "**Question 4:** Interpret the column `Abatement technology`. Where does it fit into the MAC Curve? \n",
    "<!--\n",
    "BEGIN QUESTION\n",
    "name: q4\n",
    "manual: true\n",
    "-->"
   ]
  },
  {
   "cell_type": "markdown",
   "metadata": {},
   "source": [
    "_Type your answer here, replacing this text._"
   ]
  },
  {
   "cell_type": "markdown",
   "metadata": {
    "deletable": false,
    "editable": false
   },
   "source": [
    "<!-- END QUESTION -->\n",
    "\n",
    "**Question  5:**  The second column in the table is `Region`. To begin with, let's select the Asia Pacific region, accounting for approximately 1/4 of all emissions. In the cell below, please select all the rows in `abatement_table` where the region is the Asia Pacific and save this new table to `abatement_table_ap`. Please make sure you don't change the original `abatement_table` by accident.\n",
    "<!--\n",
    "BEGIN QUESTION\n",
    "name: q5\n",
    "-->"
   ]
  },
  {
   "cell_type": "code",
   "execution_count": 48,
   "metadata": {},
   "outputs": [],
   "source": [
    "abatement_table_ap = ...\n",
    "abatement_table_ap"
   ]
  },
  {
   "cell_type": "code",
   "execution_count": null,
   "metadata": {
    "deletable": false,
    "editable": false
   },
   "outputs": [],
   "source": [
    "grader.check(\"q5\")"
   ]
  },
  {
   "cell_type": "markdown",
   "metadata": {},
   "source": [
    "### Taxes on the MAC Curve\n",
    "\n",
    "As discusses in class and the textbook, we can use the MAC curve to find the total abatement potential of an excise tax."
   ]
  },
  {
   "cell_type": "markdown",
   "metadata": {
    "deletable": false,
    "editable": false
   },
   "source": [
    "<!-- BEGIN QUESTION -->\n",
    "\n",
    "**Question 6:** In your own words, what is an excise tax? Where does it go on a MAC curve?\n",
    "<!--\n",
    "BEGIN QUESTION\n",
    "name: q6\n",
    "manual: true\n",
    "-->"
   ]
  },
  {
   "cell_type": "markdown",
   "metadata": {},
   "source": [
    "_Type your answer here, replacing this text._"
   ]
  },
  {
   "cell_type": "markdown",
   "metadata": {
    "deletable": false,
    "editable": false
   },
   "source": [
    "<!-- END QUESTION -->\n",
    "\n",
    "**Question 7.1:** Calculate the total abatement for a tax of 4 dollars on methane emissions. Do this by first filtering  `abatement_table_ap` to only include the rows where the cost is less than or equal to \\$4 and saving this new table to `abatement_cost_4`. Then, set `abatement_at_4` equal to all the abatement potential that will be reduced if this tax was placed. `abatement_at_4` should just be a number (measured in kilotons).\n",
    "<!--\n",
    "BEGIN QUESTION\n",
    "name: q7_1\n",
    "-->"
   ]
  },
  {
   "cell_type": "code",
   "execution_count": 50,
   "metadata": {},
   "outputs": [],
   "source": [
    "abatement_below_4 = ...\n",
    "abatement_at_4 = ...\n",
    "abatement_at_4\n"
   ]
  },
  {
   "cell_type": "code",
   "execution_count": null,
   "metadata": {
    "deletable": false,
    "editable": false
   },
   "outputs": [],
   "source": [
    "grader.check(\"q7_1\")"
   ]
  },
  {
   "cell_type": "markdown",
   "metadata": {
    "deletable": false,
    "editable": false
   },
   "source": [
    "**Question 7.2:** Define a function named `total_abatement` that takes in a tax level and does the same procedure as above to calculate the total abatement.\n",
    "<!--\n",
    "BEGIN QUESTION\n",
    "name: q6_1\n",
    "-->"
   ]
  },
  {
   "cell_type": "code",
   "execution_count": 53,
   "metadata": {},
   "outputs": [],
   "source": [
    "def total_abatement(tax_level):\n",
    "    abatement_below_tax_level = ...\n",
    "    abatement_at_tax_level = ...\n",
    "    return ... \n"
   ]
  },
  {
   "cell_type": "code",
   "execution_count": null,
   "metadata": {
    "deletable": false,
    "editable": false
   },
   "outputs": [],
   "source": [
    "grader.check(\"q6_1\")"
   ]
  },
  {
   "cell_type": "markdown",
   "metadata": {
    "deletable": false,
    "editable": false
   },
   "source": [
    "<!-- BEGIN QUESTION -->\n",
    "\n",
    "**Question 7.3:** Explain what this function does in terms of the MAC curve - what does it output and how does it get that number from the information on the curve?\n",
    "<!--\n",
    "BEGIN QUESTION\n",
    "name: q7_3\n",
    "manual: true\n",
    "-->"
   ]
  },
  {
   "cell_type": "markdown",
   "metadata": {},
   "source": [
    "_Type your answer here, replacing this text._"
   ]
  },
  {
   "cell_type": "markdown",
   "metadata": {
    "deletable": false,
    "editable": false
   },
   "source": [
    "<!-- END QUESTION -->\n",
    "\n",
    "**Question 8:** In order to create the MAC curve, create a table of abatement technologies using `abatement_table_ap`. The table should contain columns named as `Abatement Cost` and `Cumulative Abatement Potential`. `Abatement Cost` should contain the costs of abatements and it should be sorted in ascending order, while `Cumulative Abatement Potential` should contain the total abatement potential of all technologies below the corresponding abatement cost.\n",
    "\n",
    "<!--\n",
    "BEGIN QUESTION\n",
    "name: q8\n",
    "-->"
   ]
  },
  {
   "cell_type": "code",
   "execution_count": 58,
   "metadata": {},
   "outputs": [],
   "source": [
    "cumulative_potential_abatement_array = ...\n",
    "abatement_table_with_cumulative = ...\n",
    "abatement_cumulative_sorted = abatement_table_with_cumulative.sort('Abatement Cost') \n",
    "abatement_cumulative_sorted\n"
   ]
  },
  {
   "cell_type": "code",
   "execution_count": null,
   "metadata": {
    "deletable": false,
    "editable": false
   },
   "outputs": [],
   "source": [
    "grader.check(\"q8\")"
   ]
  },
  {
   "cell_type": "markdown",
   "metadata": {},
   "source": [
    "#### Plotting Functions\n",
    "Some data manipulations are required to visualize the MAC Curve. For example, the width of the columns has to be the quantity of abatement and the height (positive or negative) has to be the cost. The function below does these manipulations for you.\n"
   ]
  },
  {
   "cell_type": "code",
   "execution_count": 33,
   "metadata": {},
   "outputs": [],
   "source": [
    "# Making columnn widths for the Asia Pacific _ap Region\n",
    "def find_x_pos(widths):\n",
    "    cumulative_widths = [0]\n",
    "    cumulative_widths.extend(np.cumsum(widths))\n",
    "    half_widths = [i/2 for i in widths]\n",
    "    x_pos = []\n",
    "    for i in range(0, len(half_widths)):\n",
    "        x_pos.append(half_widths[i] + cumulative_widths[i])\n",
    "    return x_pos\n",
    "\n",
    "#Prepare the data for plotting\n",
    "width_group = abatement_table_ap.column('Abatement Potential')\n",
    "height_group = abatement_table_ap.column('Abatement Cost')\n",
    "new_x_group = find_x_pos(width_group)"
   ]
  },
  {
   "cell_type": "markdown",
   "metadata": {},
   "source": [
    "### Policy Analysis Tool\n",
    "Now lets add a tool in to see the effects of a tax. The following function takes in a number `tax` and a table similar to abatement_table_ap, and it outputs how much abatement would be reduced if a tax equal to `tax` was implemented, based on data from the table.\n"
   ]
  },
  {
   "cell_type": "code",
   "execution_count": 36,
   "metadata": {},
   "outputs": [],
   "source": [
    "def methane_tax(tax, table):\n",
    "    if tax < min(table.column('Abatement Cost')):\n",
    "        print(\"No Abatement\")\n",
    "    else:\n",
    "        abatement = table.where('Abatement Cost', are.below_or_equal_to(tax))\n",
    "        total_abatement = sum(abatement.column('Abatement Potential'))\n",
    "        abatement_technologies = abatement.column('Abatement technology')\n",
    "        \n",
    "        print('Total Abatement (kt CH4): ', np.round(total_abatement,2))\n",
    "        print(\"\")"
   ]
  },
  {
   "cell_type": "markdown",
   "metadata": {
    "deletable": false,
    "editable": false
   },
   "source": [
    "<!-- BEGIN QUESTION -->\n",
    "\n",
    "**Question 9:** What do the first two lines of codes underneath the `def` statement do? Why are they necessary?\n",
    "<!--\n",
    "BEGIN QUESTION\n",
    "name: q9\n",
    "manual: true\n",
    "-->"
   ]
  },
  {
   "cell_type": "markdown",
   "metadata": {},
   "source": [
    "_Type your answer here, replacing this text._"
   ]
  },
  {
   "cell_type": "markdown",
   "metadata": {},
   "source": [
    "<!-- END QUESTION -->\n",
    "\n",
    "\n",
    "\n",
    "### Plotting the MAC Curve with the tax line\n",
    "The function below takes the methane_tax function and plots all the possible abatement opportunities. Try to understand what each \"plt\" part does if you're interested!"
   ]
  },
  {
   "cell_type": "code",
   "execution_count": 39,
   "metadata": {},
   "outputs": [],
   "source": [
    "def group_plot(tax):\n",
    "    print(f\"Methane Tax ($/MBtu): ${tax}\")\n",
    "    methane_tax(tax, abatement_table_ap)\n",
    "    plt.figure(figsize=(16,10))\n",
    "    plt.bar(new_x_group, height_group,width=width_group,edgecolor = 'black')\n",
    "    plt.title('The MAC Curve for Methane with a tax of $4')\n",
    "    plt.xlabel('Abatement Potential KtCH4')\n",
    "    plt.ylabel('Abatement Cost $/MBtu')\n",
    "    plt.axhline(y=tax, color='r',linewidth = 2)\n",
    "    \n",
    "group_plot(4)"
   ]
  },
  {
   "cell_type": "markdown",
   "metadata": {
    "deletable": false,
    "editable": false
   },
   "source": [
    "<!-- BEGIN QUESTION -->\n",
    "\n",
    "**Question 10:** Looking at the curve, what is the relation between the red line and the printed `Total Abatement`?\n",
    "<!--\n",
    "BEGIN QUESTION\n",
    "name: q10\n",
    "manual: true\n",
    "-->"
   ]
  },
  {
   "cell_type": "markdown",
   "metadata": {},
   "source": [
    "_Type your answer here, replacing this text._"
   ]
  },
  {
   "cell_type": "markdown",
   "metadata": {},
   "source": [
    "<!-- END QUESTION -->\n",
    "\n",
    "\n",
    "\n",
    "This is an applied MAC for Methane emissions in the Asia-Pacific region! Super cool.\n",
    "\n",
    "\n",
    "Let's make the plot even more instructive by creating a color mapping of the different abatement technologies.\n",
    "The solution to this is giving each a different color from a Python dictionary. Don't worry if you don't understand the code below!"
   ]
  },
  {
   "cell_type": "code",
   "execution_count": 61,
   "metadata": {},
   "outputs": [],
   "source": [
    "#Prepare data for plotting (second round)\n",
    "width = abatement_table_ap.column('Abatement Potential')\n",
    "height = abatement_table_ap.column('Abatement Cost')\n",
    "new_x = find_x_pos(width)\n",
    "\n",
    "#Let's give each type of technology a different color!\n",
    "abatement_colors_dict = {}\n",
    "count = 0\n",
    "colors = ['#EC5F67', '#F29056', '#F9C863', '#99C794', '#5FB3B3', '#6699CC', '#C594C5','#85E827','#F165FD','#1F9F7F','#945CF8','#ff3a1d','#2a8506']\n",
    "for i in set(abatement_table_ap['Abatement technology']):\n",
    "    abatement_colors_dict[i] = colors[count]\n",
    "    count += 1\n",
    "\n",
    "colors_mapped = list(pd.Series(abatement_table_ap['Abatement technology']).map(abatement_colors_dict))\n",
    "abatement_table_ap = abatement_table_ap.with_column('Color', colors_mapped)"
   ]
  },
  {
   "cell_type": "code",
   "execution_count": 62,
   "metadata": {},
   "outputs": [],
   "source": [
    "#The Methane curve plot - function!\n",
    "def mckinsey_curve(tax, abatement_table):\n",
    "    print(f\"Methane Tax: ${tax}\")\n",
    "    methane_tax(tax, abatement_table_ap)\n",
    "    plt.figure(figsize=(18,12))\n",
    "    plt.bar(new_x, height, width=width, linewidth=0.1, color=abatement_table['Color'], edgecolor = \"black\")\n",
    "    plt.title('Methane Abatement Cost Curve (MAC)')\n",
    "    plt.xlabel('Abatement Potential KtCH4')\n",
    "    plt.ylabel('Abatement Cost  $/MBtu')\n",
    "    plt.axhline(y=tax, color='r', linewidth = 2)\n",
    "\n",
    "    plt.figure(figsize=(5,1))\n",
    "    plt.bar(abatement_colors_dict.keys(), 1, color = abatement_colors_dict.values())\n",
    "    plt.xticks(rotation=60)\n",
    "    plt.title('Legend')\n",
    "    \n",
    "mckinsey_curve(4, abatement_table_ap)"
   ]
  },
  {
   "cell_type": "markdown",
   "metadata": {},
   "source": [
    "Nice Plot! From here, we can differentiate the multiple methane abatement technologies on a cost basis, finding the most efficient ways of reducing methane emissions from gas production.\n",
    "\n",
    "Looking at the Asia-Pacific Region, we can see that most of the opportunities on this graph have a negative cost - meaning that it makes economic sense to make the technological improvements. We also observe the result of introducing a tax: with a tax of $3 per ton, we expect the total abatement to be almost 4300 tons within this industry. \n",
    "\n",
    "However, unfortunately, our analysis is likely flawed as the MAC curve isn't necessarily perfect."
   ]
  },
  {
   "cell_type": "markdown",
   "metadata": {
    "deletable": false,
    "editable": false
   },
   "source": [
    "<!-- BEGIN QUESTION -->\n",
    "\n",
    "**Question 11:** What are two limitations of the MAC? Describe each in 2 sentences or less.\n",
    "<!--\n",
    "BEGIN QUESTION\n",
    "name: q11\n",
    "manual: true\n",
    "-->"
   ]
  },
  {
   "cell_type": "markdown",
   "metadata": {},
   "source": [
    "_Type your answer here, replacing this text._"
   ]
  },
  {
   "cell_type": "markdown",
   "metadata": {},
   "source": [
    "<!-- END QUESTION -->\n",
    "\n",
    "\n",
    "\n",
    "We can also repeat the process of constructing a MAC curve, but for North America!"
   ]
  },
  {
   "cell_type": "code",
   "execution_count": 42,
   "metadata": {},
   "outputs": [],
   "source": [
    "abatement_table_us = abatement_table.where('Region', 'North America')\n",
    "\n",
    "#Prepare data for plotting (North America. _us)\n",
    "width = ...\n",
    "height = ...\n",
    "new_x = find_x_pos(width)\n",
    "\n",
    "colors_mapped = list(pd.Series(abatement_table_us['Abatement technology']).map(abatement_colors_dict))\n",
    "abatement_table_us = abatement_table_us.with_column('Color', colors_mapped)\n",
    "\n",
    "mckinsey_curve(4, abatement_table_us)"
   ]
  },
  {
   "cell_type": "markdown",
   "metadata": {},
   "source": [
    "Finally, lets build the MAC Curve for global emissions across all regions."
   ]
  },
  {
   "cell_type": "code",
   "execution_count": 63,
   "metadata": {},
   "outputs": [],
   "source": [
    "width = abatement_table.column('Abatement Potential')\n",
    "height = abatement_table.column('Abatement Cost')\n",
    "new_x = find_x_pos(width)\n",
    "\n",
    "colors_mapped = list(pd.Series(abatement_table['Abatement technology']).map(abatement_colors_dict))\n",
    "abatement_table = abatement_table.with_column('Color', colors_mapped)\n",
    "\n",
    "mckinsey_curve(4, abatement_table)"
   ]
  },
  {
   "cell_type": "markdown",
   "metadata": {
    "deletable": false,
    "editable": false
   },
   "source": [
    "<!-- BEGIN QUESTION -->\n",
    "\n",
    "**Question 12:** Compare the three plots above on at least two points. You can consider the shape, degree of negative costs (and what that says about the methane market), different abatement technologies, which technologies you would start off abating and which technologies would be your last choice in each region.\n",
    "\n",
    "<!--\n",
    "BEGIN QUESTION\n",
    "name: q11\n",
    "manual: true\n",
    "-->"
   ]
  },
  {
   "cell_type": "markdown",
   "metadata": {},
   "source": [
    "_Type your answer here, replacing this text._"
   ]
  },
  {
   "cell_type": "markdown",
   "metadata": {},
   "source": [
    "<!-- END QUESTION -->\n",
    "\n",
    "\n",
    "\n",
    "### Challenge for the student:"
   ]
  },
  {
   "cell_type": "markdown",
   "metadata": {},
   "source": [
    "You might have noticed how the author of this chapter (Peter) repeats certain lines of code. My challenge to you would be to find these lines and write one big function (or multiple small ones) that streamlines the whole process. Let me know at hollevik@berkeley.edu or post on Piazza when you figure it out! "
   ]
  },
  {
   "cell_type": "markdown",
   "metadata": {},
   "source": [
    "**Congratulations! You finished Lab 8!**"
   ]
  },
  {
   "cell_type": "markdown",
   "metadata": {},
   "source": [
    "*This lab was built by Peter F. Grinde-Hollevik and Ray Zhou*"
   ]
  },
  {
   "cell_type": "markdown",
   "metadata": {
    "deletable": false,
    "editable": false
   },
   "source": [
    "---\n",
    "\n",
    "To double-check your work, the cell below will rerun all of the autograder tests."
   ]
  },
  {
   "cell_type": "code",
   "execution_count": null,
   "metadata": {
    "deletable": false,
    "editable": false
   },
   "outputs": [],
   "source": [
    "grader.check_all()"
   ]
  },
  {
   "cell_type": "markdown",
   "metadata": {
    "deletable": false,
    "editable": false
   },
   "source": [
    "## Submission\n",
    "\n",
    "Make sure you have run all cells in your notebook in order before running the cell below, so that all images/graphs appear in the output. The cell below will generate a zip file for you to submit. **Please save before exporting!**"
   ]
  },
  {
   "cell_type": "code",
   "execution_count": null,
   "metadata": {
    "deletable": false,
    "editable": false
   },
   "outputs": [],
   "source": [
    "# Save your notebook first, then run this cell to export your submission.\n",
    "grader.export()"
   ]
  },
  {
   "cell_type": "markdown",
   "metadata": {},
   "source": [
    " "
   ]
  }
 ],
 "metadata": {
  "kernelspec": {
   "display_name": "Python 3",
   "language": "python",
   "name": "python3"
  },
  "language_info": {
   "codemirror_mode": {
    "name": "ipython",
    "version": 3
   },
   "file_extension": ".py",
   "mimetype": "text/x-python",
   "name": "python",
   "nbconvert_exporter": "python",
   "pygments_lexer": "ipython3",
   "version": "3.8.8"
  }
 },
 "nbformat": 4,
 "nbformat_minor": 4
}
