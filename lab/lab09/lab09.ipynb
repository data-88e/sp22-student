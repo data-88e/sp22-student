{
 "cells": [
  {
   "cell_type": "code",
   "execution_count": null,
   "id": "4d7e9f4e",
   "metadata": {
    "deletable": false,
    "editable": false
   },
   "outputs": [],
   "source": [
    "# Initialize Otter\n",
    "import otter\n",
    "grader = otter.Notebook(\"lab09.ipynb\")"
   ]
  },
  {
   "cell_type": "markdown",
   "id": "d2f6c156",
   "metadata": {},
   "source": [
    "<table style=\"width: 100%;\">\n",
    "    <tr style=\"background-color: transparent;\"><td>\n",
    "        <img src=\"https://data-88e.github.io/assets/images/blue_text.png\" width=\"250px\" style=\"margin-left: 0;\" />\n",
    "    </td><td>\n",
    "        <p style=\"text-align: right; font-size: 10pt;\"><strong>Economic Models</strong>, Spring 2022<br>\n",
    "            Dr. Eric Van Dusen<br>\n",
    "        Andrei Caprau<br>\n",
    "        Sreeja Apparaju<br>\n",
    "        Umar Maniku<br>\n",
    "        Rohan Jha<br></p></td></tr>\n",
    "</table>"
   ]
  },
  {
   "cell_type": "markdown",
   "id": "7afee7a6",
   "metadata": {},
   "source": [
    "# Lab 9: Finance"
   ]
  },
  {
   "cell_type": "markdown",
   "id": "947c3443",
   "metadata": {},
   "source": [
    "In this lab we'll go over some of the concepts taught in lecture and explore how we can better understand these concepts."
   ]
  },
  {
   "cell_type": "code",
   "execution_count": 1,
   "id": "39cafd37",
   "metadata": {},
   "outputs": [],
   "source": [
    "pip install yfinance"
   ]
  },
  {
   "cell_type": "code",
   "execution_count": 2,
   "id": "822f561f",
   "metadata": {},
   "outputs": [],
   "source": [
    "import yfinance as yf\n",
    "import numpy as np\n",
    "import matplotlib.pyplot as plt\n",
    "import matplotlib.patches as patches\n",
    "import sympy\n",
    "from ipywidgets import interact, interactive, fixed, interact_manual\n",
    "import ipywidgets as widgets\n",
    "from IPython.display import display\n",
    "from scipy import stats\n",
    "import warnings\n",
    "from datascience import *\n",
    "warnings.filterwarnings('ignore')\n",
    "plt.style.use(\"seaborn-muted\")\n",
    "%matplotlib inline"
   ]
  },
  {
   "cell_type": "markdown",
   "id": "54af87cf",
   "metadata": {},
   "source": [
    "## Compounding Interest"
   ]
  },
  {
   "cell_type": "markdown",
   "id": "58c66261",
   "metadata": {},
   "source": [
    "We mentioned in this week's lesson how interest in one year builds on top of not only the principal amount of money deposited into an account, but also the interest earned in previous years. This can be very powerful.\n",
    "\n",
    "Below is a tool that simulates a retirement or savings account. Each year, a fixed amount is deposited into the account. This is represented by `deposits`. In addition, the account compounds interest from last year's balance, with constant interest rate `r`. **`r` is expressed as a proportion.** So if an account yields 10% interest, `r = 0.1`. `t` is how many years this account accrues interest. In this example, if `t` is 0, the balance in the account is just the deposit as no interest has been accrued. If `t` is 1, the balance in the account is the initial deposit with interest compounded, plus the next year's deposit."
   ]
  },
  {
   "cell_type": "markdown",
   "id": "5c97af58",
   "metadata": {
    "deletable": false,
    "editable": false
   },
   "source": [
    "**Question 1:** Complete the code for `plot_comp_interest`. Notice that the list called `balance` tracks the current balance in the account each year. We've given you the first element in that list. For each year after the first, how do you calculate the balance in the account? \n",
    "\n",
    "After completing the code for `plot_comp_interest`, please assign the variable `balance_calc` to the balance you have after 5 years for a deposit of 10,000 at a rate of 5%. In order to pass the autograder tests for this question, please assign `balance_calc` answer to a numerical value rather than a function call (i.e. do the function call in another cell and then copy-paste the numerical answer).\n",
    "\n",
    "*Hint*: Recall that the account grows through interest and yearly deposits.\n",
    "\n",
    "<!--\n",
    "BEGIN QUESTION\n",
    "name: q1\n",
    "-->"
   ]
  },
  {
   "cell_type": "code",
   "execution_count": 13,
   "id": "8411424f",
   "metadata": {},
   "outputs": [],
   "source": [
    "def plot_comp_interest(deposits, r, t):\n",
    "    # This initiates a list where we will store the balance\n",
    "    # in the account for each year.\n",
    "    balance = np.array([])\n",
    "    balance = np.append(balance, deposits)\n",
    "    \n",
    "    # For each year, this adds an element to the list of \n",
    "    # balances.\n",
    "    for _ in range(t):\n",
    "        balance = np.append(balance, balance.item(-1) * ... + ...)\n",
    "        \n",
    "    # Code for plotting, don't edit\n",
    "    plt.figure(figsize=(8,6))\n",
    "    plt.plot(np.arange(t + 1), balance)\n",
    "    plt.xlabel('Time in Years')\n",
    "    plt.ylabel('Account Balance')\n",
    "    plt.title('Account Balance Over Time')\n",
    "    plt.ylim((0, 1000000))\n",
    "    plt.xlim((0, t))\n",
    "    \n",
    "    print('Balance after {} years: {}'.format(t, np.round(balance.item(-1), 2)))\n",
    "    print('Balance if there were no interest: {}'.format(deposits * (t + 1)))\n",
    "    return balance.item(-1)\n",
    "balance_calc = ..."
   ]
  },
  {
   "cell_type": "code",
   "execution_count": null,
   "id": "03c8845d",
   "metadata": {
    "deletable": false,
    "editable": false
   },
   "outputs": [],
   "source": [
    "grader.check(\"q1\")"
   ]
  },
  {
   "cell_type": "markdown",
   "id": "d20bae30",
   "metadata": {},
   "source": [
    "Run the cell below to generate an interactive plot where you can adjust the three variables in `plot_comp_interest` to see what happens to the balance in the account."
   ]
  },
  {
   "cell_type": "code",
   "execution_count": 17,
   "id": "527003dd",
   "metadata": {},
   "outputs": [],
   "source": [
    "deposits_slider = widgets.IntSlider(min = 500, max = 10000, step = 500, value = 5000)\n",
    "r_slider = widgets.FloatSlider(min = 0.01, max = 0.2, step = 0.01, value = 0.1)\n",
    "t_slider = widgets.IntSlider(min = 10, max = 30, step = 1, value = 20)\n",
    "display(widgets.interactive(plot_comp_interest, deposits = deposits_slider, r = r_slider, t = t_slider))"
   ]
  },
  {
   "cell_type": "markdown",
   "id": "63a10175",
   "metadata": {
    "deletable": false,
    "editable": false
   },
   "source": [
    "**Question 2**: Try out the sliders. Assign `True` to the respective variable if the answer to the question is \"yes\", and `False` if the answer to the question is \"no\".\n",
    "1. What happens as you increase the amount of fixed deposits? Does the balance in the account grow faster?\n",
    "2. What happens as the interest rate increases? Does the balance in the account grow faster?\n",
    "3. What happens as you invest into the account for longer periods of time? Are you left with a smaller account than if you had invested for a shorter period of time?\n",
    "\n",
    "<!--\n",
    "BEGIN QUESTION\n",
    "name: q2\n",
    "points:\n",
    "    - 0\n",
    "    - 0\n",
    "    - 0\n",
    "    - 0.3333\n",
    "    - 0.3333\n",
    "    - 0.3334\n",
    "-->"
   ]
  },
  {
   "cell_type": "code",
   "execution_count": 6,
   "id": "8cb12561",
   "metadata": {},
   "outputs": [],
   "source": [
    "q2_1 = ...\n",
    "q2_2 = ...\n",
    "q2_3 = ..."
   ]
  },
  {
   "cell_type": "code",
   "execution_count": null,
   "id": "66929361",
   "metadata": {
    "deletable": false,
    "editable": false
   },
   "outputs": [],
   "source": [
    "grader.check(\"q2\")"
   ]
  },
  {
   "cell_type": "markdown",
   "id": "eece1126",
   "metadata": {},
   "source": [
    "## Graphing Stocks\n",
    "\n",
    "For the following questions, we will finding the returns for Apple and Tesla stocks. Similar to our lecture notebook, we will first be plotting the time series graph for Apple and Tesla's stock prices. Then, we will be plotting their returns on the same graph like we did in lecture for S&P500 and NASDAQ. "
   ]
  },
  {
   "cell_type": "markdown",
   "id": "ce7c4657",
   "metadata": {},
   "source": [
    "Below, we define `data_APTL` that contains the stocks information for Apple and Tesla from June 29, 2010 (the date Tesla IPO'd) until 9th Novemeber, 2021."
   ]
  },
  {
   "cell_type": "code",
   "execution_count": 25,
   "id": "e7cc00aa",
   "metadata": {},
   "outputs": [],
   "source": [
    "data_APTL = yf.download((\"AAPL\", 'TSLA'), start=\"2010-06-29\", end=\"2021-11-09\")\n"
   ]
  },
  {
   "cell_type": "code",
   "execution_count": 19,
   "id": "40c8d847",
   "metadata": {},
   "outputs": [],
   "source": [
    "data_AT = data_APTL.iloc[:, [2,3]]\n",
    "data_AP = data_APTL.iloc[:, 0]\n",
    "data_TL = data_APTL.iloc[:, 1]\n",
    "dAP = np.array(len(data_AP)-1)\n",
    "for i in range(len(data_AP)-1):\n",
    "    dat = ((data_AP[i] - data_AP[i+1])/data_AP[i])*100\n",
    "    dAP = np.append(dAP,dat)\n",
    "dTL = np.array(len(data_TL)-1)\n",
    "for i in range(len(data_TL)-1):\n",
    "    dat = ((data_TL[i] - data_TL[i+1])/data_TL[i])*100\n",
    "    dTL = np.append(dTL,dat)\n",
    "data_AT['AP Returns'] = dAP\n",
    "data_AT['TL Returns'] = dTL"
   ]
  },
  {
   "cell_type": "markdown",
   "id": "cbd9c29a",
   "metadata": {},
   "source": [
    "The above code is written in Pandas and you don't need to understand it for this class. It essentially calculates the return rate (formula we discussed in the lecture). Just run the 2 cells below - they should produce graphs which you will look at to answer questions 3.1 and 3.2. If you're not sure what the graphs represent, please make sure to look at the titles of the graphs."
   ]
  },
  {
   "cell_type": "code",
   "execution_count": 20,
   "id": "7055fa62",
   "metadata": {},
   "outputs": [],
   "source": [
    "data_AT.iloc[:,[0,1]].plot(color = ('blue', 'red'), figsize=(10,8), alpha =0.3, title = 'Time Series Graph for Closing Prices of Tesla and Apple');\n"
   ]
  },
  {
   "cell_type": "markdown",
   "id": "d899bcfc",
   "metadata": {},
   "source": [
    "**Question 3.1:** Comment on the closing price of Apple and Tesla over the years."
   ]
  },
  {
   "cell_type": "markdown",
   "id": "e070c9cc",
   "metadata": {},
   "source": [
    "_Type your answer here, replacing this text._"
   ]
  },
  {
   "cell_type": "code",
   "execution_count": 61,
   "id": "2055ac29",
   "metadata": {},
   "outputs": [],
   "source": [
    "data_AT[['AP Returns', 'TL Returns']].iloc[1:].plot(color = ('blue', 'red'), figsize=(10,8), alpha =0.3, title = \"Returns for Apple and Tesla\");\n"
   ]
  },
  {
   "cell_type": "markdown",
   "id": "50ef8722",
   "metadata": {},
   "source": [
    "**Question 3.2:** Comment on the returns for Apple and Tesla over the years."
   ]
  },
  {
   "cell_type": "markdown",
   "id": "24c7c288",
   "metadata": {},
   "source": [
    "_Type your answer here, replacing this text._"
   ]
  },
  {
   "cell_type": "markdown",
   "id": "c2faf84f",
   "metadata": {},
   "source": [
    "**Question 3.3:** Now, define data_new to download the data for any 2 stocks you're interested in over the same time period as in q3.1 and q3.2. We have already provided the basic code below - just input in the tickers for the stocks you're interested in at the right places. You can find some company stickers (the 3-4 letter abbreviations) [here](https://www.nasdaq.com/market-activity/stocks/screener)."
   ]
  },
  {
   "cell_type": "code",
   "execution_count": 118,
   "id": "e7ad22a7",
   "metadata": {},
   "outputs": [],
   "source": [
    "data_NEW = yf.download((..., ...), start=\"2010-06-29\", end=\"2021-11-09\")"
   ]
  },
  {
   "cell_type": "markdown",
   "id": "63343c5c",
   "metadata": {},
   "source": [
    "The code cell below does the same pandas manipulations as above to calculate the return rate for your stocks."
   ]
  },
  {
   "cell_type": "code",
   "execution_count": 123,
   "id": "0144bd4f",
   "metadata": {},
   "outputs": [],
   "source": [
    "data_one = data_NEW.iloc[:, [2,3]]\n",
    "data_two = data_NEW.iloc[:, 0]\n",
    "data_three = data_NEW.iloc[:, 1]\n",
    "dtwo = np.array(len(data_two)-1)\n",
    "for i in range(len(data_two)-1):\n",
    "    dat = ((data_two[i] - data_two[i+1])/data_two[i])*100\n",
    "    dtwo = np.append(dtwo,dat)\n",
    "dthree = np.array(len(data_three)-1)\n",
    "for i in range(len(data_three)-1):\n",
    "    dat = ((data_three[i] - data_three[i+1])/data_three[i])*100\n",
    "    dthree = np.append(dthree,dat)\n",
    "col_1_33 = data_one.columns[0][1]\n",
    "col_2_33 = data_one.columns[1][1]\n",
    "data_one[f'Returns for {col_1_33}'] = dtwo\n",
    "data_one[f'Returns for {col_2_33}'] = dthree\n"
   ]
  },
  {
   "cell_type": "code",
   "execution_count": 124,
   "id": "2fd01bf4",
   "metadata": {},
   "outputs": [],
   "source": [
    "data_one.iloc[:,[0,1]].plot(color = ('blue', 'red'), figsize=(10,8), alpha =0.3, title = 'Time Series Graph for Closing Prices of your 2 stocks');\n",
    "\n"
   ]
  },
  {
   "cell_type": "markdown",
   "id": "9af5b02f",
   "metadata": {},
   "source": [
    "**Question 3.4:** Comment on the closing price of your chosen stocks."
   ]
  },
  {
   "cell_type": "markdown",
   "id": "3731209e",
   "metadata": {},
   "source": [
    "_Type your answer here, replacing this text._"
   ]
  },
  {
   "cell_type": "code",
   "execution_count": 125,
   "id": "4b35b6a3",
   "metadata": {},
   "outputs": [],
   "source": [
    "data_one[[f'Returns for {col_1_33}', f'Returns for {col_2_33}']].iloc[1:].plot(color = ('blue', 'red'), figsize=(10,8), alpha =0.3, title = \"Returns for your chosen stocks\");\n"
   ]
  },
  {
   "cell_type": "markdown",
   "id": "63ee9ba1",
   "metadata": {},
   "source": [
    "**Question 3.5:** Comment on the returns of your chosen stocks over the years."
   ]
  },
  {
   "cell_type": "markdown",
   "id": "e9b45ff6",
   "metadata": {},
   "source": [
    "_Type your answer here, replacing this text._"
   ]
  },
  {
   "cell_type": "markdown",
   "id": "4547c8c0",
   "metadata": {},
   "source": [
    "**Question 3.6:** Think of a stock that would've increased rapidly during COVID. Provide a reason as to why they may have improved."
   ]
  },
  {
   "cell_type": "markdown",
   "id": "5e26deae",
   "metadata": {},
   "source": [
    "_Type your answer here, replacing this text._"
   ]
  },
  {
   "cell_type": "markdown",
   "id": "b4a04c3e",
   "metadata": {},
   "source": [
    "**Question 3.7:** Think of a stock that would've decreased rapidly during COVID. Provide a reason as to why they may have suffered."
   ]
  },
  {
   "cell_type": "markdown",
   "id": "12740c7e",
   "metadata": {},
   "source": [
    "_Type your answer here, replacing this text._"
   ]
  },
  {
   "cell_type": "markdown",
   "id": "9ea5e3af",
   "metadata": {},
   "source": [
    "**Question 3.8:** Now, define data_covid to include the data for the 2 stocks you discussed in questions 3.6 and 3.7. This time, you will be looking these stocks from the start of 2020 until the day right before lecture (10th April) - a time period chosen to help you see the effects of COVID! We have already provided the basic code below - just input in the tickers for the stocks you're interested in at the right places. "
   ]
  },
  {
   "cell_type": "code",
   "execution_count": 52,
   "id": "1aa43940",
   "metadata": {},
   "outputs": [],
   "source": [
    "data_covid = yf.download((..., ...), start=\"2020-01-01\", end=\"2022-04-10\")"
   ]
  },
  {
   "cell_type": "markdown",
   "id": "11ac006b",
   "metadata": {},
   "source": [
    "The code cell below does the same pandas manipulations as above to calculate the return rate for your stocks."
   ]
  },
  {
   "cell_type": "code",
   "execution_count": 111,
   "id": "5570677a",
   "metadata": {},
   "outputs": [],
   "source": [
    "data_one_covid = data_covid.iloc[:, [2,3]]\n",
    "data_two = data_covid.iloc[:, 0]\n",
    "data_three = data_covid.iloc[:, 1]\n",
    "dtwo = np.array(len(data_two)-1)\n",
    "for i in range(len(data_two)-1):\n",
    "    dat = ((data_two[i] - data_two[i+1])/data_two[i])*100\n",
    "    dtwo = np.append(dtwo,dat)\n",
    "dthree = np.array(len(data_three)-1)\n",
    "for i in range(len(data_three)-1):\n",
    "    dat = ((data_three[i] - data_three[i+1])/data_three[i])*100\n",
    "    dthree = np.append(dthree,dat)\n",
    "col_1_38 = data_covid.columns[0][1]\n",
    "col_2_38 = data_covid.columns[1][1]\n",
    "data_one_covid[f'Returns for {col_1_38}'] = dtwo\n",
    "data_one_covid[f'Returns for {col_2_38}'] = dthree"
   ]
  },
  {
   "cell_type": "code",
   "execution_count": 112,
   "id": "d9963244",
   "metadata": {},
   "outputs": [],
   "source": [
    "data_one_covid.iloc[:,[0,1]].plot(color = ('blue', 'red'), figsize=(10,8), alpha =0.3, title = 'Time Series Graph for Closing Prices of your 2 stocks');\n",
    "\n"
   ]
  },
  {
   "cell_type": "markdown",
   "id": "81cf79bd",
   "metadata": {},
   "source": [
    "**Question 3.9:** Comment on the closing price of your chosen stocks. Did the stock you expected to perform well actually outperform the stock you expected to not perform well?"
   ]
  },
  {
   "cell_type": "markdown",
   "id": "ac68b538",
   "metadata": {},
   "source": [
    "_Type your answer here, replacing this text._"
   ]
  },
  {
   "cell_type": "code",
   "execution_count": 114,
   "id": "67b0e737",
   "metadata": {},
   "outputs": [],
   "source": [
    "data_one_covid[[f'Returns for {col_1_38}', f'Returns for {col_2_38}']].iloc[1:].plot(color = ('blue', 'red'), figsize=(10,8), alpha =0.3, title = \"Returns for your chosen stocks\");\n"
   ]
  },
  {
   "cell_type": "markdown",
   "id": "e589872f",
   "metadata": {},
   "source": [
    "**Question 3.10:** Comment on the returns of your chosen stocks over the years. "
   ]
  },
  {
   "cell_type": "markdown",
   "id": "3a85b6ef",
   "metadata": {},
   "source": [
    "_Type your answer here, replacing this text._"
   ]
  },
  {
   "cell_type": "markdown",
   "id": "a4964ae9",
   "metadata": {},
   "source": [
    "## Options - Extra Credit\n",
    "\n",
    "All of the questions below this point are extra credit. Answering these questions will require knowledge on options that wasn't discussed in class. You can learn about options from either the textbook or watching the [spring 2020 lecture](https://drive.google.com/file/d/167T82PN4mj_3sveZxDTUYCmU0eNRgWAZ/view?usp=sharing) for this class (the relevant discussion on options starts at approximately 31:40).\n",
    "\n",
    "In the following section you will be asked a series of short questions regarding options. Set the variable for each question equal to your answer."
   ]
  },
  {
   "cell_type": "markdown",
   "id": "e26007d0",
   "metadata": {
    "deletable": false,
    "editable": false
   },
   "source": [
    "**Question 4.1:** Let's say that you are interested in purchasing the stock of Tesla, but owning Tesla stock makes you nervous due to the volatile nature of the stock price. Therefore, you would like to hedge your holdings by purchasing options. If you purchase 100 shares of Tesla, what kind of option would you need to purchase to hedge against extreme losses in the event that Tesla's price drops? Please pick one of the four following options: `'long call'`, `'long put'`, `'short call'`, `'short put'`, making sure that your answer is a string that exactly matches one of the options.\n",
    "\n",
    "<!--\n",
    "BEGIN QUESTION\n",
    "name: q4_1\n",
    "points:\n",
    "    - 0\n",
    "    - 0\n",
    "    - 1\n",
    "-->"
   ]
  },
  {
   "cell_type": "code",
   "execution_count": 56,
   "id": "1e23338c",
   "metadata": {},
   "outputs": [],
   "source": [
    "q4_1 = ..."
   ]
  },
  {
   "cell_type": "code",
   "execution_count": null,
   "id": "5e6664fe",
   "metadata": {
    "deletable": false,
    "editable": false
   },
   "outputs": [],
   "source": [
    "grader.check(\"q4_1\")"
   ]
  },
  {
   "cell_type": "markdown",
   "id": "adbf92bd",
   "metadata": {
    "deletable": false,
    "editable": false
   },
   "source": [
    "**Question 4.2:** Continuing from the scenario above, let's say you purchase 100 shares of the Tesla stock for a price of \\\\$1000 each. Additionally, you purchased a long put for \\\\$100 with the following properties: strike of \\\\$800, expiration in one week. Immediately after making these purchases, assuming that they constitute the entirety of your portfolio, how much is your portfolio worth? For this group of questions we will acknowledge that options have value and not ignore their cost.\n",
    "\n",
    "<!--\n",
    "BEGIN QUESTION\n",
    "name: q4_2\n",
    "points:\n",
    "    - 0\n",
    "    - 0\n",
    "    - 0\n",
    "    - 1\n",
    "-->"
   ]
  },
  {
   "cell_type": "code",
   "execution_count": 60,
   "id": "e59e9e3b",
   "metadata": {},
   "outputs": [],
   "source": [
    "q4_2 = ..."
   ]
  },
  {
   "cell_type": "code",
   "execution_count": null,
   "id": "e545e8f6",
   "metadata": {
    "deletable": false,
    "editable": false
   },
   "outputs": [],
   "source": [
    "grader.check(\"q4_2\")"
   ]
  },
  {
   "cell_type": "markdown",
   "id": "4f59a42c",
   "metadata": {
    "deletable": false,
    "editable": false
   },
   "source": [
    "**Question 4.3:** Continuing from above, how much is your portfolio worth after one week has passed, assuming that Tesla's price remains at \\\\$1000 the entire time?\n",
    "\n",
    "<!--\n",
    "BEGIN QUESTION\n",
    "name: q4_3\n",
    "points:\n",
    "    - 0\n",
    "    - 1\n",
    "-->"
   ]
  },
  {
   "cell_type": "code",
   "execution_count": 65,
   "id": "64d5376a",
   "metadata": {},
   "outputs": [],
   "source": [
    "q4_3 = ..."
   ]
  },
  {
   "cell_type": "code",
   "execution_count": null,
   "id": "43086d6d",
   "metadata": {
    "deletable": false,
    "editable": false
   },
   "outputs": [],
   "source": [
    "grader.check(\"q4_3\")"
   ]
  },
  {
   "cell_type": "markdown",
   "id": "b4560cb9",
   "metadata": {
    "deletable": false,
    "editable": false
   },
   "source": [
    "**Question 4.4:** Continuing from above, suppose that Tesla's price remained at \\\\$1000 for one week, but after that its price dropped to \\\\$700. Displeased with this, you decide to sell off your portfolio. How much did you gain/lose in this scenario, from portfolio creation till now. If you lost money, please give your answer as a negative number.\n",
    "\n",
    "<!--\n",
    "BEGIN QUESTION\n",
    "name: q4_4\n",
    "points:\n",
    "    - 0\n",
    "    - 0.5\n",
    "    - 0.5\n",
    "    - 1\n",
    "-->"
   ]
  },
  {
   "cell_type": "code",
   "execution_count": 68,
   "id": "95b8bb22",
   "metadata": {},
   "outputs": [],
   "source": [
    "q4_4 = ..."
   ]
  },
  {
   "cell_type": "code",
   "execution_count": null,
   "id": "7c4f93c0",
   "metadata": {
    "deletable": false,
    "editable": false
   },
   "outputs": [],
   "source": [
    "grader.check(\"q4_4\")"
   ]
  },
  {
   "cell_type": "markdown",
   "id": "4e5075f8",
   "metadata": {
    "deletable": false,
    "editable": false
   },
   "source": [
    "**Question 4.5:** Suppose now you're in a similar situation as above, but instead Tesla's price drops to \\\\$700 the day after you form your portfolio. Displeased with this, you decide to sell off your portfolio, utilizing any options if it is profitable for you to do so. How much did you gain/lose in this scenario, from portfolio creation till now. If you lost money, please give your answer as a negative number.\n",
    "\n",
    "<!--\n",
    "BEGIN QUESTION\n",
    "name: q4_5\n",
    "points:\n",
    "    - 0\n",
    "    - 0.3333\n",
    "    - 0.3333\n",
    "    - 0.3334\n",
    "    - 1\n",
    "-->"
   ]
  },
  {
   "cell_type": "code",
   "execution_count": 73,
   "id": "ccae0857",
   "metadata": {},
   "outputs": [],
   "source": [
    "q4_5 = ..."
   ]
  },
  {
   "cell_type": "code",
   "execution_count": null,
   "id": "5f5c5c39",
   "metadata": {
    "deletable": false,
    "editable": false
   },
   "outputs": [],
   "source": [
    "grader.check(\"q4_5\")"
   ]
  },
  {
   "cell_type": "markdown",
   "id": "53240da2",
   "metadata": {
    "deletable": false,
    "editable": false
   },
   "source": [
    "**Question 4.6:** Suppose now you're in a similar situation as above (you have a portfolio of 100 shares of Tesla and one long put on Tesla), but after one week has passed, Tesla's price goes up to \\\\$1100 (remember you bought it at \\\\$1000). Satisfied with this, you decide to sell off your portfolio, utilizing any options if it is profitable for you to do so. How much did you gain (lose) in this scenario, from portfolio creation till now. If you lost money, please give your answer as a negative number.\n",
    "\n",
    "<!--\n",
    "BEGIN QUESTION\n",
    "name: q4_6\n",
    "points:\n",
    "    - 0\n",
    "    - 0.5\n",
    "    - 0.5\n",
    "    - 1\n",
    "-->"
   ]
  },
  {
   "cell_type": "code",
   "execution_count": 79,
   "id": "426a7a4a",
   "metadata": {},
   "outputs": [],
   "source": [
    "q4_6 = ..."
   ]
  },
  {
   "cell_type": "code",
   "execution_count": null,
   "id": "766e3d37",
   "metadata": {
    "deletable": false,
    "editable": false
   },
   "outputs": [],
   "source": [
    "grader.check(\"q4_6\")"
   ]
  },
  {
   "cell_type": "markdown",
   "id": "04d1630d",
   "metadata": {
    "deletable": false,
    "editable": false
   },
   "source": [
    "**Question 5.1:** Not wanting to live with the stress of owning a volatile stock like Tesla, you decide to create a new portfolio, this time with 100 shares of Apple stock for which you paid \\\\$350 apiece. Suppose that you have strong faith in the fundamentals of Apple, and don't mind temporary losses due to drops in Apple's price. You would, however, like to limit your potential gains and make some money by *selling* one call on Apple. The properties of this short call are as follows: you sold it for \\\\$200, it has a strike of \\\\$400, and it expires in one month. How much did it cost you to form this portfolio? For this question please define your answer as a positive number.\n",
    "\n",
    "<!--\n",
    "BEGIN QUESTION\n",
    "name: q5_1\n",
    "points:\n",
    "    - 0\n",
    "    - 0\n",
    "    - 1\n",
    "-->"
   ]
  },
  {
   "cell_type": "code",
   "execution_count": 84,
   "id": "6d9723ea",
   "metadata": {},
   "outputs": [],
   "source": [
    "q5_1 = ..."
   ]
  },
  {
   "cell_type": "code",
   "execution_count": null,
   "id": "90b6e7bd",
   "metadata": {
    "deletable": false,
    "editable": false
   },
   "outputs": [],
   "source": [
    "grader.check(\"q5_1\")"
   ]
  },
  {
   "cell_type": "markdown",
   "id": "b1d0f9e4",
   "metadata": {
    "deletable": false,
    "editable": false
   },
   "source": [
    "**Question 5.2:** Suppose Apple's stock price doesn't really change throughout the next month, and the option you sold expires worthless. After one month has passed from portfolio formation, you decide to sell another call option on Apple, with the same properties as above. Now how much has this portfolio cost you, from its creation till now? Again, please define your answer as a positive number.\n",
    "\n",
    "<!--\n",
    "BEGIN QUESTION\n",
    "name: q5_2\n",
    "points:\n",
    "    - 0\n",
    "    - 0\n",
    "    - 1\n",
    "-->"
   ]
  },
  {
   "cell_type": "code",
   "execution_count": 88,
   "id": "6dca3ddc",
   "metadata": {},
   "outputs": [],
   "source": [
    "q5_2 = ..."
   ]
  },
  {
   "cell_type": "code",
   "execution_count": null,
   "id": "1379cab3",
   "metadata": {
    "deletable": false,
    "editable": false
   },
   "outputs": [],
   "source": [
    "grader.check(\"q5_2\")"
   ]
  },
  {
   "cell_type": "markdown",
   "id": "45a98e9c",
   "metadata": {
    "deletable": false,
    "editable": false
   },
   "source": [
    "**Question 5.3:** In fact, Apple's stock price doesn't really change for the next year. Assuming you repeat this process month after month for 12 months starting from portfolio creation (where you sell a call option on Apple that ends up expiring worthless one month later) how much has this portfolio cost you, from its creation till now? Again, please define your answer as a positive number.\n",
    "\n",
    "<!--\n",
    "BEGIN QUESTION\n",
    "name: q5_3\n",
    "points:\n",
    "    - 0\n",
    "    - 0\n",
    "    - 0\n",
    "    - 1\n",
    "-->"
   ]
  },
  {
   "cell_type": "code",
   "execution_count": 92,
   "id": "8e92cc57",
   "metadata": {},
   "outputs": [],
   "source": [
    "q5_3 = ..."
   ]
  },
  {
   "cell_type": "code",
   "execution_count": null,
   "id": "13e18a11",
   "metadata": {
    "deletable": false,
    "editable": false
   },
   "outputs": [],
   "source": [
    "grader.check(\"q5_3\")"
   ]
  },
  {
   "cell_type": "markdown",
   "id": "d43a36db",
   "metadata": {
    "deletable": false,
    "editable": false
   },
   "source": [
    "**Question 5.4:** Continuing from above, after 12 months of this procedure have passed, you have now sold your 13th overall call option on Apple. The next day, Apple announces the AppleCar and their stock price jumps to \\\\$450. Because of this, your short call gets exercised, thus closing out your portfolio. How much money have you made (or lost) as a result of this portfolio, from creation till now? If you lost money, please give your answer as a negative number?\n",
    "\n",
    "<!--\n",
    "BEGIN QUESTION\n",
    "name: q5_4\n",
    "points:\n",
    "    - 0\n",
    "    - 1\n",
    "    - 1\n",
    "-->"
   ]
  },
  {
   "cell_type": "code",
   "execution_count": 126,
   "id": "c8965ea5",
   "metadata": {},
   "outputs": [],
   "source": [
    "q5_4 = ..."
   ]
  },
  {
   "cell_type": "code",
   "execution_count": null,
   "id": "fae372d0",
   "metadata": {
    "deletable": false,
    "editable": false
   },
   "outputs": [],
   "source": [
    "grader.check(\"q5_4\")"
   ]
  },
  {
   "cell_type": "markdown",
   "id": "dcb77952",
   "metadata": {},
   "source": [
    "#### Question 6\n",
    "\n",
    "1. What happens to the price of a call as volatility of the underlying stock increases? Why do you think this happens?\n",
    "2. What happens to the price of a put as volatility of the underlying stock increases? Why do you think this happens?\n",
    "3. Given these two answers above, what happens to the prices of the portfolios created in Questions 4.2 and 5.1 as volatility of the underlying stock increases?"
   ]
  },
  {
   "cell_type": "markdown",
   "id": "95c71408",
   "metadata": {},
   "source": [
    "_Type your answer here, replacing this text._"
   ]
  },
  {
   "cell_type": "markdown",
   "id": "e38ea826",
   "metadata": {},
   "source": [
    "## Conclusion"
   ]
  },
  {
   "cell_type": "markdown",
   "id": "a2fa9a88",
   "metadata": {},
   "source": [
    "In the first part of the lab, we explored the power of compounding interest with code. In the second part of the lab, we graphed various stocks against each other and considered how external shocks (like COVID) can affect a stock's price. In the third, extra credit, portion of the lab, we turned our attention to options and portfolios. Hopefully, you now have a stronger base understanding of the fundamentals of financial markets. "
   ]
  },
  {
   "cell_type": "markdown",
   "id": "30fbadb7",
   "metadata": {
    "deletable": false,
    "editable": false
   },
   "source": [
    "---\n",
    "\n",
    "To double-check your work, the cell below will rerun all of the autograder tests."
   ]
  },
  {
   "cell_type": "code",
   "execution_count": null,
   "id": "365deaa3",
   "metadata": {
    "deletable": false,
    "editable": false
   },
   "outputs": [],
   "source": [
    "grader.check_all()"
   ]
  },
  {
   "cell_type": "markdown",
   "id": "3effea81",
   "metadata": {
    "deletable": false,
    "editable": false
   },
   "source": [
    "## Submission\n",
    "\n",
    "Make sure you have run all cells in your notebook in order before running the cell below, so that all images/graphs appear in the output. The cell below will generate a zip file for you to submit. **Please save before exporting!**"
   ]
  },
  {
   "cell_type": "code",
   "execution_count": null,
   "id": "e4b3b063",
   "metadata": {
    "deletable": false,
    "editable": false
   },
   "outputs": [],
   "source": [
    "# Save your notebook first, then run this cell to export your submission.\n",
    "grader.export(pdf=False)"
   ]
  },
  {
   "cell_type": "markdown",
   "id": "014a71bf",
   "metadata": {},
   "source": [
    " "
   ]
  }
 ],
 "metadata": {
  "kernelspec": {
   "display_name": "Python 3",
   "language": "python",
   "name": "python3"
  },
  "language_info": {
   "codemirror_mode": {
    "name": "ipython",
    "version": 3
   },
   "file_extension": ".py",
   "mimetype": "text/x-python",
   "name": "python",
   "nbconvert_exporter": "python",
   "pygments_lexer": "ipython3",
   "version": "3.8.8"
  }
 },
 "nbformat": 4,
 "nbformat_minor": 5
}
