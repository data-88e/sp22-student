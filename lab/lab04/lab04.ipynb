{
 "cells": [
  {
   "cell_type": "markdown",
   "metadata": {},
   "source": [
    "```\n",
    "BEGIN ASSIGNMENT\n",
    "requirements: ../../requirements.txt\n",
    "overwrite_requirements: true\n",
    "solutions_pdf: true\n",
    "export_cell:\n",
    "    pdf: false\n",
    "generate:\n",
    "    seed: 42\n",
    "    show_stdout: true\n",
    "files:\n",
    "    - utils.py\n",
    "    - pwt100.csv\n",
    "plugins:\n",
    "    - otter.plugins.builtin.GoogleSheetsGradeOverride:\n",
    "        credentials_json_path: ../../sheets-api-credentials.json\n",
    "        sheet_url: https://docs.google.com/spreadsheets/d/1WhPrOz4x18CABYVTHgbThSZgjSL07fwZx4_mOJWs4Ic/edit\n",
    "```"
   ]
  },
  {
   "cell_type": "markdown",
   "metadata": {},
   "source": [
    "<table style=\"width: 100%;\">\n",
    "    <tr style=\"background-color: transparent;\"><td>\n",
    "        <img src=\"https://data-88e.github.io/assets/images/blue_text.png\" width=\"250px\" style=\"margin-left: 0;\" />\n",
    "    </td><td>\n",
    "        <p style=\"text-align: right; font-size: 10pt;\"><strong>Economic Models</strong>, Spring 2022<br>\n",
    "            Dr. Eric Van Dusen <br>\n",
    "            Notebook by: Umar Maniku </p></td></tr>\n",
    "</table>"
   ]
  },
  {
   "cell_type": "markdown",
   "metadata": {},
   "source": [
    "# Lab 4: The Cobb-Douglas Production Function"
   ]
  },
  {
   "cell_type": "code",
   "execution_count": 1,
   "metadata": {},
   "outputs": [],
   "source": [
    "from utils import *\n",
    "import matplotlib.pyplot as plt\n",
    "import numpy as np\n",
    "import pandas as pd \n",
    "import seaborn as sns\n",
    "import plotly.graph_objs as go\n",
    "from plotly.offline import download_plotlyjs, init_notebook_mode, plot, iplot\n",
    "from ipywidgets import interact, interactive, fixed, interact_manual\n",
    "import ipywidgets as widgets\n",
    "from IPython.display import display\n",
    "#import nbinteract as nbi\n",
    "import warnings\n",
    "warnings.filterwarnings('ignore')\n",
    "%matplotlib inline\n",
    "plt.style.use(\"seaborn-muted\")"
   ]
  },
  {
   "cell_type": "markdown",
   "metadata": {},
   "source": [
    "## Part 1: Production and Cobb-Douglas Functions in Macroeconomics"
   ]
  },
  {
   "cell_type": "markdown",
   "metadata": {},
   "source": [
    "### The Cobb-Douglas Production Function"
   ]
  },
  {
   "cell_type": "markdown",
   "metadata": {},
   "source": [
    "The Cobb-Douglas Production Function is as follows:\n",
    "$$\n",
    "f(K, L) = K^\\alpha L^\\beta \\\\\n",
    "Y = A \\cdot f(K, L) = A K^\\alpha L^\\beta\n",
    "$$\n",
    "where $\\alpha$ and $\\beta$ are exponents.\n",
    "\n",
    "A common simplification is that $\\beta = 1 - \\alpha$. We will later explore the implications of this statement. For now, let us rewrite the above function:\n",
    "\n",
    "$$\n",
    "Y = A K^\\alpha L^{1 - \\alpha}\n",
    "$$\n",
    "\n",
    "Note that this is a function of two variables, $K$ and $L$. If we were to plot this function utilizing both variables, we would need a 3D plot with $K$, $L$ and $Y$ each having their own axis. For now, let us gain greater insight of what this function will look like by holding one variable constant and plot the other versus output.\n",
    "\n",
    "For the first case, let us visualize the Cobb-Douglas Production Function with output as a function of capital, holding the amount of labor constant at $\\bar L$."
   ]
  },
  {
   "cell_type": "markdown",
   "metadata": {},
   "source": [
    "**Question 1.1** Define ```cobb_douglas```, a function that calculates output using the Cobb-Douglas function. This should work for constant, decreasing and increasing returns to scale. We have provided an ```if-else``` structure to faciliate your implementation. Note that the syntax `beta = None` tells Python that the default argument for the `beta` argument is the value `None`. This is not a number, so you'll need to handle this case.\n",
    "\n",
    "_Hint:_ When do we substitute $\\beta = 1 - \\alpha$?\n",
    "\n",
    "```\n",
    "BEGIN QUESTION\n",
    "name: q1_1\n",
    "```"
   ]
  },
  {
   "cell_type": "code",
   "execution_count": 2,
   "metadata": {},
   "outputs": [],
   "source": [
    "def cobb_douglas(A, K, L, alpha, beta = None):\n",
    "    # BEGIN SOLUTION NO PROMPT\n",
    "    if beta is None:\n",
    "        return A * K ** alpha * L ** (1 - alpha)\n",
    "    else:\n",
    "        return A * K ** alpha * L ** (beta)\n",
    "    # END SOLUTION\n",
    "    \"\"\" # BEGIN PROMPT\n",
    "    if ...:\n",
    "        return ...\n",
    "    else:\n",
    "        return ...\n",
    "    \"\"\"; # END PROMPT"
   ]
  },
  {
   "cell_type": "code",
   "execution_count": 3,
   "metadata": {},
   "outputs": [
    {
     "data": {
      "text/plain": [
       "True"
      ]
     },
     "execution_count": 3,
     "metadata": {},
     "output_type": "execute_result"
    }
   ],
   "source": [
    "# TEST\n",
    "np.isclose(cobb_douglas(1, 2, 2, 0.5), 2.0000000000000004)"
   ]
  },
  {
   "cell_type": "code",
   "execution_count": 4,
   "metadata": {},
   "outputs": [
    {
     "data": {
      "text/plain": [
       "True"
      ]
     },
     "execution_count": 4,
     "metadata": {},
     "output_type": "execute_result"
    }
   ],
   "source": [
    "# TEST\n",
    "np.isclose(cobb_douglas(1, 4, 0.5, 0.2, 1.1), 0.6155722066724582)"
   ]
  },
  {
   "cell_type": "code",
   "execution_count": 5,
   "metadata": {},
   "outputs": [
    {
     "data": {
      "text/plain": [
       "True"
      ]
     },
     "execution_count": 5,
     "metadata": {},
     "output_type": "execute_result"
    }
   ],
   "source": [
    "# TEST\n",
    "cobb_douglas(1, 2, 2, 0.5) == cobb_douglas(1, 2, 2, 0.5, 0.5)"
   ]
  },
  {
   "cell_type": "markdown",
   "metadata": {},
   "source": [
    "**Question 1.2** Now let's plot Cobb-Douglas as a function of the capital stock, holding labor constant at $\\bar L$. To do this, we'll a function called `cobb_douglas_plotter_K` that takes in the Cobb-Douglas model parameters to create an array of values for $Y$ called `Y_s`. In the function body, fill in the correct values for `K_s` and `Y_s`. `K_s` should be an array of the possible values of $K$ in the range $[0, 1]$ using intervals of 0.01. When you have completed the function, call it using $A = 1$, $\\bar L = 0.5$, and $\\alpha = 0.4$.\n",
    "\n",
    "_Hint:_ Your `cobb_douglas` function can take any of its parameters as an array.\n",
    "\n",
    "```\n",
    "BEGIN QUESTION\n",
    "name: q1_2\n",
    "manual: true\n",
    "```"
   ]
  },
  {
   "cell_type": "code",
   "execution_count": 6,
   "metadata": {},
   "outputs": [
    {
     "data": {
      "image/png": "[encoded data removed]",
      "text/plain": [
       "<Figure size 432x288 with 1 Axes>"
      ]
     },
     "metadata": {
      "needs_background": "light"
     },
     "output_type": "display_data"
    }
   ],
   "source": [
    "def cobb_douglas_plotter_K(A, L_bar, alpha):\n",
    "    # BEGIN SOLUTION NO PROMPT\n",
    "    K_s = np.arange(0, 1.01, 0.01)\n",
    "    Y_s = cobb_douglas(A, K_s, L_bar, alpha)\n",
    "    # END SOLUTION\n",
    "    \"\"\" # BEGIN PROMPT\n",
    "    K_s = ...\n",
    "    Y_s = ...\n",
    "        \"\"\"; # END PROMPT\n",
    "    \n",
    "    ### Do not edit the code below; this does the plotting ###\n",
    "    plt.plot(K_s, Y_s)\n",
    "    plt.title(fr\"Cobb-Douglas with $\\bar L$ = {L_bar}, $A$ = {A} and $\\alpha$ = {alpha}\")\n",
    "    plt.xlabel(\"Capital Stock\")\n",
    "    plt.ylabel(\"Output\");\n",
    "\n",
    "\n",
    "cobb_douglas_plotter_K(1, 0.5, 0.4) # SOLUTION"
   ]
  },
  {
   "cell_type": "markdown",
   "metadata": {},
   "source": [
    "If you defined the function correctly, you should notice some of the properties in the graph above:\n",
    "1. It is increasing. This is called increasing returns to capital wherein any increase in capital will lead to an increase in output, assuming that labor is held constant.\n",
    "2. It is concave (increasing at a decreasing rate). This is called diminishing marginal returns to capital wherein any additional unit of capital will lead to smaller and smaller increases in capital.\n",
    "\n",
    "We can do the same thing but holding capital constant and letting labor vary."
   ]
  },
  {
   "cell_type": "code",
   "execution_count": 7,
   "metadata": {},
   "outputs": [
    {
     "data": {
      "image/png": "[encoded data removed]",
      "text/plain": [
       "<Figure size 432x288 with 1 Axes>"
      ]
     },
     "metadata": {
      "needs_background": "light"
     },
     "output_type": "display_data"
    }
   ],
   "source": [
    "cobb_douglas_plotter_L(1, 0.5, 0.4)"
   ]
  },
  {
   "cell_type": "markdown",
   "metadata": {},
   "source": [
    "We notice that the same properties hold: the function is exhibiting both increasing returns to labor and diminishing marginal returns to labor. This is because we selected the same parameters as when we plotted output versus capital stock. The cell below has the same function call, but try using different parameters and observe what happens to its shape."
   ]
  },
  {
   "cell_type": "code",
   "execution_count": 8,
   "metadata": {},
   "outputs": [
    {
     "data": {
      "image/png": "[encoded data removed]",
      "text/plain": [
       "<Figure size 432x288 with 1 Axes>"
      ]
     },
     "metadata": {
      "needs_background": "light"
     },
     "output_type": "display_data"
    }
   ],
   "source": [
    "# Change the parameters below\n",
    "# First parameter: alpha, Second parameter: Fixed value of K, Third parameter: beta\n",
    "\n",
    "cobb_douglas_plotter_L(2, 0.9, 0.7)"
   ]
  },
  {
   "cell_type": "markdown",
   "metadata": {},
   "source": [
    "### Implications for cross-country comparisons"
   ]
  },
  {
   "cell_type": "markdown",
   "metadata": {},
   "source": [
    "Work by Professors C.W. Cobb and P.H. Douglas found that production or output was a weighted average of the log of capital and labor. The equation for Cobb-Douglas production functions were the result of their research, especially when a log transformation was applied to the equation:\n",
    "\n",
    "$$\\begin{aligned}\n",
    "Y &= A K^\\alpha L^{1 - \\alpha} \\\\\n",
    "\\ln Y &= \\ln A + \\alpha \\ln K + (1 - \\alpha) \\ln L\n",
    "\\end{aligned}\n",
    "$$\n",
    "\n",
    "Note that this is exactly the weighted average that the two Professors found in their empirical findings: capital and labor are weighted by $\\alpha$ and $1 - \\alpha$ respectively. However, this is still showing production as a function of two variables, $K$ and $L$. Rearranging the equation yields something interesting:\n",
    "\n",
    "$$\\begin{aligned}\n",
    "\\ln Y &= \\ln A + \\alpha \\ln K + \\ln L - \\alpha \\ln L \\\\\n",
    "\\ln Y- \\ln L &= \\ln A + \\alpha \\ln K - \\ln L \\\\\n",
    "\\ln \\dfrac{Y}{L} &= \\ln A + \\alpha \\ln \\dfrac{K}{L}\n",
    "\\end{aligned}\n",
    "$$\n",
    "\n",
    "The Cobb-Douglas function is now an equation in 1 variable: $\\ln \\frac{K}{L}$, making it linear instead of exponential."
   ]
  },
  {
   "cell_type": "markdown",
   "metadata": {},
   "source": [
    "**Question 1.3** Now that we have linearly transformed Cobb-Douglas, how can we use the function defined above to recover $A$ and $\\alpha$ values for a country? In the spaces below, describe how you could get $A$ and $\\alpha$ when presented with a plot of $\\ln \\dfrac{Y}{L}$ vs. $\\ln \\dfrac{K}{L}$.\n",
    "\n",
    "*Hint*: Check lecture notes!\n",
    "\n",
    "```\n",
    "BEGIN QUESTION\n",
    "name: q1_3\n",
    "manual: true\n",
    "```"
   ]
  },
  {
   "cell_type": "markdown",
   "metadata": {},
   "source": [
    "- $A$:\n",
    "\n",
    "- $\\alpha$:"
   ]
  },
  {
   "cell_type": "markdown",
   "metadata": {},
   "source": [
    "<div class=\"alert alert-danger\">\n",
    "    \n",
    "<strong>SOLUTION:</strong>\n",
    "- $A$: $\\ln (A)$ is the intercept term on the plot. Thus, we exponentiate the intercept to get $A = \\exp \\left (\\ln A \\right)$\n",
    "\n",
    "- $\\alpha$: $\\alpha$ is the slope term on the plot\n",
    "\n",
    "</div>"
   ]
  },
  {
   "cell_type": "markdown",
   "metadata": {},
   "source": [
    "Now that you've identified a process of capturing all parts of the Cobb-Douglas function, we are now able to compare  values of $A$ and $\\alpha$ between countries, and by extension how capital and labor are deployed in different ways between nations. We will now learn about the significance of $A$ and $\\alpha$ in the sections below. The upcoming project will have you try this on a broad range of nations from 1990 to 2019."
   ]
  },
  {
   "cell_type": "markdown",
   "metadata": {},
   "source": [
    "### Shifts in $A$ and its effect on output"
   ]
  },
  {
   "cell_type": "code",
   "execution_count": 9,
   "metadata": {},
   "outputs": [
    {
     "data": {
      "application/vnd.jupyter.widget-view+json": {
       "model_id": "592f3d14ec404c579952f7bab3a89f05",
       "version_major": 2,
       "version_minor": 0
      },
      "text/plain": [
       "interactive(children=(FloatSlider(value=1.0, description='A', max=10.0, min=0.5, step=0.5), Output()), _dom_cl…"
      ]
     },
     "metadata": {},
     "output_type": "display_data"
    }
   ],
   "source": [
    "A_slider = widgets.FloatSlider(min = 0.5, max = 10, step = 0.5, value = 1)\n",
    "display(widgets.interactive(change_A, A = A_slider))"
   ]
  },
  {
   "cell_type": "markdown",
   "metadata": {},
   "source": [
    "Supply or total factor productivity shocks could cause $A$ to change. These occur if there is a change in total output for a given level of capital and labor. Examples of these include financial crises, technology shocks, natural environment/disasters and energy prices. \n",
    "\n",
    "Favorable shocks rotate the production function upward through an increase in $A$. Thus, each unit of input from capital and labor now simultaneously produce more output. What does this mean for the rental rate of capital and the real wage? Recall the functions for both of them:\n",
    "\n",
    "$$\\begin{aligned}\n",
    "MPL &= \\dfrac{\\partial Y}{\\partial L} \\\\\n",
    "&= A (1 - \\alpha) \\left ( \\dfrac{K}{L} \\right )^{\\alpha} \\\\\n",
    "MPK &= \\dfrac{\\partial Y}{\\partial K} \\\\\n",
    "&= \\alpha A \\left ( \\dfrac{L}{K} \\right )^{1 - \\alpha} \\\\\n",
    "\\end{aligned}\n",
    "$$\n",
    "\n",
    "Both MPK and MPL will increase by a factor of $A$. Thus, it would be more expensive to hire an additional unit of labor or rent an additional unit of capital. As they are both more productive than they previously were, they are both more valuable to a business and thus will cost more.\n",
    "\n",
    "\n",
    "Negative shocks do the opposite. They rotate the production function downward through a decrease in $A$. Each unit of input is now less productive, meaning that both the rental rate of capital and the real wage are lower."
   ]
  },
  {
   "cell_type": "markdown",
   "metadata": {},
   "source": [
    "**Question 1.4.** Give at least one example of an event, government program or activity that can change or has changed a country's $A$ or Total Factor Productivity for better or worse. In at least one sentence, explain why you selected that event.\n",
    "\n",
    "```\n",
    "BEGIN QUESTION\n",
    "name: q1_4\n",
    "manual: true\n",
    "```"
   ]
  },
  {
   "cell_type": "markdown",
   "metadata": {},
   "source": [
    "<div class=\"alert alert-danger\">\n",
    "    \n",
    "<strong>SOLUTION:</strong>\n",
    "\n",
    "Any reasonable example with good justification would receive full credit.\n",
    "</div>"
   ]
  },
  {
   "cell_type": "markdown",
   "metadata": {},
   "source": [
    "### Differences in $\\alpha$ and their effects on output"
   ]
  },
  {
   "cell_type": "code",
   "execution_count": 10,
   "metadata": {},
   "outputs": [
    {
     "data": {
      "application/vnd.jupyter.widget-view+json": {
       "model_id": "7e674f75608e48128b94094cb18792a4",
       "version_major": 2,
       "version_minor": 0
      },
      "text/plain": [
       "interactive(children=(FloatSlider(value=0.5, description='alpha', max=1.0, min=0.1), Output()), _dom_classes=(…"
      ]
     },
     "metadata": {},
     "output_type": "display_data"
    }
   ],
   "source": [
    "alpha_slider = widgets.FloatSlider(min = 0.1, max = 1, step = 0.1, value = 0.5)\n",
    "display(widgets.interactive(change_alpha, alpha = alpha_slider))"
   ]
  },
  {
   "cell_type": "markdown",
   "metadata": {},
   "source": [
    "$\\alpha$ and $\\beta$ are called the output elasticities of capital and labor, respectively. They measure the responsiveness of output to a change in the levels of either labor or capital, holding all else constant. This means that if $\\alpha$ or $\\beta$ were high, then any small increase in their respective input would lead to a relatively large increase in output. As an example, if $\\alpha$ were 0.4, then a 1% increase in capital would lead to a 0.4% increase in output."
   ]
  },
  {
   "cell_type": "markdown",
   "metadata": {},
   "source": [
    "**Question 1.5.** Let's link this back to Cobb-Douglas' simplifying assumption of constant returns to scale. Recall that this means $\\alpha = 1 - \\beta$. If a nation has a high $\\alpha$, what does this mean about how resources are allocated?\n",
    "\n",
    "```\n",
    "BEGIN QUESTION\n",
    "name: q1_5\n",
    "manual: true\n",
    "```"
   ]
  },
  {
   "cell_type": "markdown",
   "metadata": {},
   "source": [
    "<div class=\"alert alert-danger\">\n",
    "    \n",
    "<strong>SOLUTION:</strong>\n",
    "\n",
    "An increase in $\\alpha$ necessarily means $\\beta$ decreases. This reveals something important when comparing countries: the higher the $\\alpha$, the more capital-intensive the country's production is. Similarly, a high $\\beta$ value means a country is more labor-intensive. This means that figuring out what $\\alpha$ and $\\beta$ are for a nation gives economists and policymakers insight as to which resources bear the brunt of production.\n",
    "\n",
    "</div>"
   ]
  },
  {
   "cell_type": "markdown",
   "metadata": {},
   "source": [
    "### Returns to scale"
   ]
  },
  {
   "cell_type": "markdown",
   "metadata": {},
   "source": [
    "The significance of the exponents adding up to 1, i.e. $\\alpha + \\beta = 1$, is that this implies **constant returns to scale**. If all inputs are scaled by a common non-zero factor, the output will be scaled by that same factor. Below is a generalization of this:\n",
    "\n",
    "$$\n",
    "\\begin{aligned}\n",
    "Y &= A (c \\cdot K)^\\alpha (c \\cdot L)^{1 - \\alpha} \\\\\n",
    "&= A c^\\alpha K ^ \\alpha c^{1 - \\alpha}L^{1 - \\alpha} \\\\\n",
    "&= A c^{\\alpha + 1 - \\alpha}K^\\alpha L^{1 - \\alpha} \\\\\n",
    "&= c \\cdot A K^\\alpha L^{1 - \\alpha}\n",
    "\\end{aligned}\n",
    "$$\n",
    "\n",
    "Thus, any increase in either of the inputs will lead to a 1-1 increase in output. This is a significant assumption to make, as it essentially incentivizes companies to continue to \"scale\" their production inputs. They are not losing out on how much return is produced - they are getting output that matches exactly what they put into production.\n",
    "\n",
    "The alternative case is when $\\alpha + \\beta < 1$. This is called **decreasing returns to scale**, and occurs when a company scales their production inputs by a factor of $c$, but gets a scaling in output that is less than $c$.\n",
    "\n",
    "The last case is when $\\alpha + \\beta > 1$. This is called **increasing returns to scale**, and occurs when a company increases their production inputs by $c$, but gets an increase in output that is greater than $c$.\n",
    "\n",
    "Let us visually examine how values of $\\alpha$ and $\\beta$ affect output."
   ]
  },
  {
   "cell_type": "code",
   "execution_count": 11,
   "metadata": {},
   "outputs": [
    {
     "data": {
      "application/vnd.jupyter.widget-view+json": {
       "model_id": "a51347d905704ba690f22fc7a56da231",
       "version_major": 2,
       "version_minor": 0
      },
      "text/plain": [
       "interactive(children=(FloatSlider(value=1.0, description='alpha_beta_sum', max=3.0, min=0.1), Output()), _dom_…"
      ]
     },
     "metadata": {},
     "output_type": "display_data"
    }
   ],
   "source": [
    "alpha_beta_slider = widgets.FloatSlider(min = 0.1, max = 3, step = 0.1, value = 1)\n",
    "display(widgets.interactive(change_alpha_beta, alpha_beta_sum = alpha_beta_slider))"
   ]
  },
  {
   "cell_type": "markdown",
   "metadata": {},
   "source": [
    "**Question 1.6.** True or False: In the hypothetical case where a company can increase inputs to infinity, all cases of returns to scale result in infinite output. Thus, the owner of the company in such a scenario would not care if their production exhibited decreasing, constant or increasing returns to scale. What would the company prefer?\n",
    "\n",
    "```\n",
    "BEGIN QUESTION\n",
    "name: q1_6\n",
    "manual: true\n",
    "```"
   ]
  },
  {
   "cell_type": "markdown",
   "metadata": {},
   "source": [
    "<div class=\"alert alert-danger\">\n",
    "    \n",
    "<strong>SOLUTION:</strong>\n",
    "\n",
    "False. Increasing Returns to scale reaches infinite output faster than the other two cases.\n",
    "\n",
    "</div>"
   ]
  },
  {
   "cell_type": "markdown",
   "metadata": {},
   "source": [
    "---"
   ]
  },
  {
   "cell_type": "markdown",
   "metadata": {},
   "source": [
    "## Part 2: Real-world Datasets and Jupyter's File System\n",
    "\n",
    "The second part of this lab will go over how to download a dataset, convert it into a format you can interact with through Jupyter notebboks, and prepare it for analysis. This is an essential skill for future classes and in industry, as you will be able to leverage the flexibility of Python and Jupyter notebooks for any kind of data analysis work.\n",
    "\n",
    "### Downloading the Dataset\n",
    "\n",
    "In almost all cases in industry, you will have to find the dataset that can answer the question you are trying to solve. However, as we are introducing you to this process, we will be providing the link to such a dataset.\n",
    "\n",
    "We will be using \"Penn World Table\" (PWT), a dataset that catalogues information on relative levels of income, output, inputs and productivity for 182 countries between 1950 and 2019. It was compiled by the University of Groningen.\n",
    "\n",
    "This is the dataset you will be using for Project 2. This lab will provide a broad overview of the data you will be working with.\n",
    "\n",
    "Once you have found a dataset, you must be able to download or otherwise convert the file into a format Python can read. The most common and easily-read type is a .csv or Comma Seperated Values file. Data analysis packages used in future classes and industry, like Pandas and datascience, have functions that convert .csv files into Tables. We are going to go through such a process now."
   ]
  },
  {
   "cell_type": "markdown",
   "metadata": {},
   "source": [
    "**Question 2.1**\n",
    "1. Go to: https://www.rug.nl/ggdc/productivity/pwt/ and download the Excel datafile. While Python can read Excel files, it's better able to interpret .csv files as they are simpler.\n",
    "2. Open the Excel file, select the \"Data\" sheet, then File > Save As. Type in a file name and change the file format to CSV UTF-8 (Comma-delimited) (.csv). It should be among \"common formats\". If a warning appears, select \"Ok\". This is because CSVs can only represent data on a single spreadsheet. As this Excel file has multiple spreadsheets, Excel will only convert the active sheet (\"Data\" - the one we care about) into a .csv file. \n"
   ]
  },
  {
   "cell_type": "markdown",
   "metadata": {},
   "source": [
    "### Uploading a Dataset to Jupyter\n",
    "\n",
    "If you right-click on the Jupyter logo on the top left of the notebook and select \"Open Link in New Tab\", this will send you to the Jupyter file structure on DataHub. This is very similar to the file structure on your own computer. Your current location is at the root of this file structure tree. Go ahead and explore - many of the materials from your other classes that use Jupyter notebooks can be seen. Just be careful not to delete or rename files. \n",
    "\n",
    "Let's try to navigate to the folder where this notebook is located: `sp22-student > lab > lab04`."
   ]
  },
  {
   "cell_type": "markdown",
   "metadata": {},
   "source": [
    "**Question 2.2**\n",
    "\n",
    "1. Upload the .csv file you just downloaded to the same folder as this notebook. Uploading is accomplished by dragging and dropping the file into the file explorer window.\n",
    "2. Assign the variable `file_name` below such that it matches the name of the CSV file that you just uploaded \n",
    "3. Run the code cell below.\n",
    "4. If your file gets read in with all the data being stored in just 1 column, it's likely an issue with the default separator value for your computer. If this happens, try changing the `sep=','` to `sep=';'` in the line where you read in the table.\n",
    "\n",
    "```\n",
    "BEGIN QUESTION\n",
    "name: q2_2\n",
    "```"
   ]
  },
  {
   "cell_type": "code",
   "execution_count": 12,
   "metadata": {
    "scrolled": true
   },
   "outputs": [
    {
     "data": {
      "text/html": [
       "<table border=\"1\" class=\"dataframe\">\n",
       "    <thead>\n",
       "        <tr>\n",
       "            <th>countrycode</th> <th>country</th> <th>currency_unit</th> <th>year</th> <th>rgdpe</th> <th>rgdpo</th> <th>pop</th> <th>emp</th> <th>avh</th> <th>hc</th> <th>ccon</th> <th>cda</th> <th>cgdpe</th> <th>cgdpo</th> <th>cn</th> <th>ck</th> <th>ctfp</th> <th>cwtfp</th> <th>rgdpna</th> <th>rconna</th> <th>rdana</th> <th>rnna</th> <th>rkna</th> <th>rtfpna</th> <th>rwtfpna</th> <th>labsh</th> <th>irr</th> <th>delta</th> <th>xr</th> <th>pl_con</th> <th>pl_da</th> <th>pl_gdpo</th> <th>i_cig</th> <th>i_xm</th> <th>i_xr</th> <th>i_outlier</th> <th>i_irr</th> <th>cor_exp</th> <th>statcap</th> <th>csh_c</th> <th>csh_i</th> <th>csh_g</th> <th>csh_x</th> <th>csh_m</th> <th>csh_r</th> <th>pl_c</th> <th>pl_i</th> <th>pl_g</th> <th>pl_x</th> <th>pl_m</th> <th>pl_n</th> <th>pl_k</th>\n",
       "        </tr>\n",
       "    </thead>\n",
       "    <tbody>\n",
       "        <tr>\n",
       "            <td>ABW        </td> <td>Aruba  </td> <td>Aruban Guilder</td> <td>1950</td> <td>nan  </td> <td>nan  </td> <td>nan </td> <td>nan </td> <td>nan </td> <td>nan </td> <td>nan </td> <td>nan </td> <td>nan  </td> <td>nan  </td> <td>nan </td> <td>nan </td> <td>nan </td> <td>nan  </td> <td>nan   </td> <td>nan   </td> <td>nan  </td> <td>nan </td> <td>nan </td> <td>nan   </td> <td>nan    </td> <td>nan  </td> <td>nan </td> <td>nan  </td> <td>nan </td> <td>nan   </td> <td>nan  </td> <td>nan    </td> <td>nan  </td> <td>nan </td> <td>nan </td> <td>nan      </td> <td>nan  </td> <td>nan    </td> <td>nan    </td> <td>nan  </td> <td>nan  </td> <td>nan  </td> <td>nan  </td> <td>nan  </td> <td>nan  </td> <td>nan </td> <td>nan </td> <td>nan </td> <td>nan </td> <td>nan </td> <td>nan </td> <td>nan </td>\n",
       "        </tr>\n",
       "        <tr>\n",
       "            <td>ABW        </td> <td>Aruba  </td> <td>Aruban Guilder</td> <td>1951</td> <td>nan  </td> <td>nan  </td> <td>nan </td> <td>nan </td> <td>nan </td> <td>nan </td> <td>nan </td> <td>nan </td> <td>nan  </td> <td>nan  </td> <td>nan </td> <td>nan </td> <td>nan </td> <td>nan  </td> <td>nan   </td> <td>nan   </td> <td>nan  </td> <td>nan </td> <td>nan </td> <td>nan   </td> <td>nan    </td> <td>nan  </td> <td>nan </td> <td>nan  </td> <td>nan </td> <td>nan   </td> <td>nan  </td> <td>nan    </td> <td>nan  </td> <td>nan </td> <td>nan </td> <td>nan      </td> <td>nan  </td> <td>nan    </td> <td>nan    </td> <td>nan  </td> <td>nan  </td> <td>nan  </td> <td>nan  </td> <td>nan  </td> <td>nan  </td> <td>nan </td> <td>nan </td> <td>nan </td> <td>nan </td> <td>nan </td> <td>nan </td> <td>nan </td>\n",
       "        </tr>\n",
       "        <tr>\n",
       "            <td>ABW        </td> <td>Aruba  </td> <td>Aruban Guilder</td> <td>1952</td> <td>nan  </td> <td>nan  </td> <td>nan </td> <td>nan </td> <td>nan </td> <td>nan </td> <td>nan </td> <td>nan </td> <td>nan  </td> <td>nan  </td> <td>nan </td> <td>nan </td> <td>nan </td> <td>nan  </td> <td>nan   </td> <td>nan   </td> <td>nan  </td> <td>nan </td> <td>nan </td> <td>nan   </td> <td>nan    </td> <td>nan  </td> <td>nan </td> <td>nan  </td> <td>nan </td> <td>nan   </td> <td>nan  </td> <td>nan    </td> <td>nan  </td> <td>nan </td> <td>nan </td> <td>nan      </td> <td>nan  </td> <td>nan    </td> <td>nan    </td> <td>nan  </td> <td>nan  </td> <td>nan  </td> <td>nan  </td> <td>nan  </td> <td>nan  </td> <td>nan </td> <td>nan </td> <td>nan </td> <td>nan </td> <td>nan </td> <td>nan </td> <td>nan </td>\n",
       "        </tr>\n",
       "        <tr>\n",
       "            <td>ABW        </td> <td>Aruba  </td> <td>Aruban Guilder</td> <td>1953</td> <td>nan  </td> <td>nan  </td> <td>nan </td> <td>nan </td> <td>nan </td> <td>nan </td> <td>nan </td> <td>nan </td> <td>nan  </td> <td>nan  </td> <td>nan </td> <td>nan </td> <td>nan </td> <td>nan  </td> <td>nan   </td> <td>nan   </td> <td>nan  </td> <td>nan </td> <td>nan </td> <td>nan   </td> <td>nan    </td> <td>nan  </td> <td>nan </td> <td>nan  </td> <td>nan </td> <td>nan   </td> <td>nan  </td> <td>nan    </td> <td>nan  </td> <td>nan </td> <td>nan </td> <td>nan      </td> <td>nan  </td> <td>nan    </td> <td>nan    </td> <td>nan  </td> <td>nan  </td> <td>nan  </td> <td>nan  </td> <td>nan  </td> <td>nan  </td> <td>nan </td> <td>nan </td> <td>nan </td> <td>nan </td> <td>nan </td> <td>nan </td> <td>nan </td>\n",
       "        </tr>\n",
       "        <tr>\n",
       "            <td>ABW        </td> <td>Aruba  </td> <td>Aruban Guilder</td> <td>1954</td> <td>nan  </td> <td>nan  </td> <td>nan </td> <td>nan </td> <td>nan </td> <td>nan </td> <td>nan </td> <td>nan </td> <td>nan  </td> <td>nan  </td> <td>nan </td> <td>nan </td> <td>nan </td> <td>nan  </td> <td>nan   </td> <td>nan   </td> <td>nan  </td> <td>nan </td> <td>nan </td> <td>nan   </td> <td>nan    </td> <td>nan  </td> <td>nan </td> <td>nan  </td> <td>nan </td> <td>nan   </td> <td>nan  </td> <td>nan    </td> <td>nan  </td> <td>nan </td> <td>nan </td> <td>nan      </td> <td>nan  </td> <td>nan    </td> <td>nan    </td> <td>nan  </td> <td>nan  </td> <td>nan  </td> <td>nan  </td> <td>nan  </td> <td>nan  </td> <td>nan </td> <td>nan </td> <td>nan </td> <td>nan </td> <td>nan </td> <td>nan </td> <td>nan </td>\n",
       "        </tr>\n",
       "    </tbody>\n",
       "</table>\n",
       "<p>... (12805 rows omitted)</p>"
      ],
      "text/plain": [
       "<IPython.core.display.HTML object>"
      ]
     },
     "metadata": {},
     "output_type": "display_data"
    }
   ],
   "source": [
    "file_name = \"pwt100.csv\" # SOLUTION\n",
    "\n",
    "data = Table.read_table(file_name, sep=',') #If you have separator value issues, change the sep variable here.\n",
    "data.show(5)"
   ]
  },
  {
   "cell_type": "code",
   "execution_count": 13,
   "metadata": {},
   "outputs": [],
   "source": [
    "# TEST\n",
    "assert data.num_rows == 12810\n",
    "assert data.num_columns == 52\n",
    "assert type(data) == Table"
   ]
  },
  {
   "cell_type": "code",
   "execution_count": 14,
   "metadata": {},
   "outputs": [],
   "source": [
    "# TEST\n",
    "assert data.group(\"countrycode\").num_rows == 183\n",
    "assert data.group(\"year\").num_rows == 70"
   ]
  },
  {
   "cell_type": "code",
   "execution_count": 15,
   "metadata": {},
   "outputs": [],
   "source": [
    "# TEST\n",
    "assert data.where(\"countrycode\", \"USA\").where(\"year\", 1956).column(\"hc\")[0] == '2,662317276'"
   ]
  },
  {
   "cell_type": "markdown",
   "metadata": {},
   "source": [
    "Congratulations! You've uploaded and read in your first dataset! Below are a few questions that will help you get to know the data you will be working with."
   ]
  },
  {
   "cell_type": "markdown",
   "metadata": {},
   "source": [
    "**Question 2.3.** Are there missing values in `data`? What transformation could we do on the data to mitigate against this?\n",
    "\n",
    "```\n",
    "BEGIN QUESTION\n",
    "name: q2_3\n",
    "manual: true\n",
    "```"
   ]
  },
  {
   "cell_type": "markdown",
   "metadata": {},
   "source": [
    "<div class=\"alert alert-danger\">\n",
    "    \n",
    "<strong>SOLUTION:</strong>\n",
    "There are a lot of missing values in ```data```. To solve this problem, we can either impute or replace the missing values or drop the rows with missing data. In some cases, we can even build predictive models to infer what the values should have been - but this would only work when we have a **lot** of other, well-defined data. \n",
    "</div>"
   ]
  },
  {
   "cell_type": "markdown",
   "metadata": {},
   "source": [
    "**Question 2.4.** Based on our discussion of the Cobb-Douglas Production Function, which columns would be most beneficial for our analysis?\n",
    "\n",
    "```\n",
    "BEGIN QUESTION\n",
    "name: q2_4\n",
    "manual: true\n",
    "```"
   ]
  },
  {
   "cell_type": "markdown",
   "metadata": {},
   "source": [
    "<div class=\"alert alert-danger\">\n",
    "    \n",
    "<strong>SOLUTION:</strong>\n",
    "Based on Cobb-Douglas, the most important variables are output or GDP ($Y$), capital stock ($K$), and labor ($L$). From the data, any column about GDP (```rgdpe, cgdpe```), labor force (```emp```) and capital stock (```cn, ck```) would be of interest to us.\n",
    "    \n",
    "</div>"
   ]
  },
  {
   "cell_type": "markdown",
   "metadata": {},
   "source": [
    "**Question 2.5.** Create a list of all of the countries in `data`. Call it `countries`. Think about 2-3 countries you would like to explore in the upcoming project.\n",
    "\n",
    "_Hint:_ How do we get the unique values in a column?\n",
    "\n",
    "```\n",
    "BEGIN QUESTION\n",
    "name: q2_5\n",
    "```"
   ]
  },
  {
   "cell_type": "code",
   "execution_count": 16,
   "metadata": {},
   "outputs": [
    {
     "data": {
      "text/plain": [
       "array(['Albania', 'Algeria', 'Angola', 'Anguilla', 'Antigua and Barbuda',\n",
       "       'Argentina', 'Armenia', 'Aruba', 'Australia', 'Austria',\n",
       "       'Azerbaijan', 'Bahamas', 'Bahrain', 'Bangladesh', 'Barbados',\n",
       "       'Belarus', 'Belgium', 'Belize', 'Benin', 'Bermuda', 'Bhutan',\n",
       "       'Bolivia (Plurinational State of)', 'Bosnia and Herzegovina',\n",
       "       'Botswana', 'Brazil', 'British Virgin Islands',\n",
       "       'Brunei Darussalam', 'Bulgaria', 'Burkina Faso', 'Burundi',\n",
       "       'Cabo Verde', 'Cambodia', 'Cameroon', 'Canada', 'Cayman Islands',\n",
       "       'Central African Republic', 'Chad', 'Chile', 'China',\n",
       "       'China, Hong Kong SAR', 'China, Macao SAR', 'Colombia', 'Comoros',\n",
       "       'Congo', 'Costa Rica', 'Croatia', 'Curaçao', 'Cyprus',\n",
       "       'Czech Republic', \"Côte d'Ivoire\", 'D.R. of the Congo', 'Denmark',\n",
       "       'Djibouti', 'Dominica', 'Dominican Republic', 'Ecuador', 'Egypt',\n",
       "       'El Salvador', 'Equatorial Guinea', 'Estonia', 'Eswatini',\n",
       "       'Ethiopia', 'Fiji', 'Finland', 'France', 'Gabon', 'Gambia',\n",
       "       'Georgia', 'Germany', 'Ghana', 'Greece', 'Grenada', 'Guatemala',\n",
       "       'Guinea', 'Guinea-Bissau', 'Guyana', 'Haiti', 'Honduras',\n",
       "       'Hungary', 'Iceland', 'India', 'Indonesia',\n",
       "       'Iran (Islamic Republic of)', 'Iraq', 'Ireland', 'Israel', 'Italy',\n",
       "       'Jamaica', 'Japan', 'Jordan', 'Kazakhstan', 'Kenya', 'Kuwait',\n",
       "       'Kyrgyzstan', \"Lao People's DR\", 'Latvia', 'Lebanon', 'Lesotho',\n",
       "       'Liberia', 'Lithuania', 'Luxembourg', 'Madagascar', 'Malawi',\n",
       "       'Malaysia', 'Maldives', 'Mali', 'Malta', 'Mauritania', 'Mauritius',\n",
       "       'Mexico', 'Mongolia', 'Montenegro', 'Montserrat', 'Morocco',\n",
       "       'Mozambique', 'Myanmar', 'Namibia', 'Nepal', 'Netherlands',\n",
       "       'New Zealand', 'Nicaragua', 'Niger', 'Nigeria', 'North Macedonia',\n",
       "       'Norway', 'Oman', 'Pakistan', 'Panama', 'Paraguay', 'Peru',\n",
       "       'Philippines', 'Poland', 'Portugal', 'Qatar', 'Republic of Korea',\n",
       "       'Republic of Moldova', 'Romania', 'Russian Federation', 'Rwanda',\n",
       "       'Saint Kitts and Nevis', 'Saint Lucia', 'Sao Tome and Principe',\n",
       "       'Saudi Arabia', 'Senegal', 'Serbia', 'Seychelles', 'Sierra Leone',\n",
       "       'Singapore', 'Sint Maarten (Dutch part)', 'Slovakia', 'Slovenia',\n",
       "       'South Africa', 'Spain', 'Sri Lanka',\n",
       "       'St. Vincent and the Grenadines', 'State of Palestine', 'Sudan',\n",
       "       'Suriname', 'Sweden', 'Switzerland', 'Syrian Arab Republic',\n",
       "       'Taiwan', 'Tajikistan', 'Thailand', 'Togo', 'Trinidad and Tobago',\n",
       "       'Tunisia', 'Turkey', 'Turkmenistan', 'Turks and Caicos Islands',\n",
       "       'U.R. of Tanzania: Mainland', 'Uganda', 'Ukraine',\n",
       "       'United Arab Emirates', 'United Kingdom', 'United States',\n",
       "       'Uruguay', 'Uzbekistan', 'Venezuela (Bolivarian Republic of)',\n",
       "       'Viet Nam', 'Yemen', 'Zambia', 'Zimbabwe'], dtype='<U34')"
      ]
     },
     "execution_count": 16,
     "metadata": {},
     "output_type": "execute_result"
    }
   ],
   "source": [
    "countries = data.group(\"country\").column(\"country\") # SOLUTION\n",
    "countries"
   ]
  },
  {
   "cell_type": "code",
   "execution_count": 17,
   "metadata": {},
   "outputs": [],
   "source": [
    "# TEST\n",
    "assert type(countries) == np.ndarray"
   ]
  },
  {
   "cell_type": "code",
   "execution_count": 18,
   "metadata": {},
   "outputs": [],
   "source": [
    "# TEST\n",
    "assert countries[100] == 'Luxembourg'\n",
    "assert len(countries) == 183"
   ]
  },
  {
   "cell_type": "markdown",
   "metadata": {},
   "source": [
    "---"
   ]
  },
  {
   "cell_type": "markdown",
   "metadata": {},
   "source": [
    "## Credits\n",
    "\n",
    "We would like to thank Professor Raymond Hawkins for his input and Lecture 4 of his Economics 100B course at UC Berkeley, which informed parts of this notebook.\n",
    "\n",
    "Further, we reference the University of Groningen's Penn World Table 10.0 Dataset throughout this notebook:\n",
    "\n",
    "Feenstra, Robert C., Robert Inklaar and Marcel P. Timmer (2015), \"The Next Generation of the Penn World Table\" American Economic Review, 105(10), 3150-3182, available for download at www.ggdc.net/pwt"
   ]
  }
 ],
 "metadata": {
  "@webio": {
   "lastCommId": null,
   "lastKernelId": null
  },
  "kernelspec": {
   "display_name": "Python 3",
   "language": "python",
   "name": "python3"
  },
  "language_info": {
   "codemirror_mode": {
    "name": "ipython",
    "version": 3
   },
   "file_extension": ".py",
   "mimetype": "text/x-python",
   "name": "python",
   "nbconvert_exporter": "python",
   "pygments_lexer": "ipython3",
   "version": "3.8.8"
  }
 },
 "nbformat": 4,
 "nbformat_minor": 4
}
