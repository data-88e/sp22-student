{
 "cells": [
  {
   "cell_type": "code",
   "execution_count": null,
   "metadata": {
    "deletable": false,
    "editable": false
   },
   "outputs": [],
   "source": [
    "# Initialize Otter\n",
    "import otter\n",
    "grader = otter.Notebook(\"lab10.ipynb\")"
   ]
  },
  {
   "cell_type": "markdown",
   "metadata": {
    "cell_id": "00000-fbc1280d-78ce-4c4a-a437-d0b2c85f32a1",
    "deepnote_cell_type": "markdown",
    "tags": []
   },
   "source": [
    "<table style=\"width: 100%;\" id=\"nb-header\">\n",
    "    <tr style=\"background-color: transparent;\"><td>\n",
    "        <img src=\"https://data-88e.github.io/assets/images/blue_text.png\" width=\"250px\" style=\"margin-left: 0;\" />\n",
    "    </td><td>\n",
    "        <p style=\"text-align: right; font-size: 10pt;\"><strong>Economic Models</strong>, Spring 2022<br>\n",
    "            Dr. Eric Van Dusen <br>\n",
    "        Alan Liang <br>\n",
    "            Umar Maniku<br>\n",
    "            Yiyang Chen <br>\n",
    "            Bennett Somerville <br>\n",
    "</table>"
   ]
  },
  {
   "cell_type": "markdown",
   "metadata": {
    "cell_id": "00001-311d4cd6-e221-4f0b-aa4f-ae28b4cd0708",
    "deepnote_cell_type": "markdown",
    "tags": []
   },
   "source": [
    "# Lab 10: Macroeconomic Policy"
   ]
  },
  {
   "cell_type": "code",
   "execution_count": 1,
   "metadata": {
    "cell_id": "00000-45c93090-e487-4ff0-bb52-350d099bea59",
    "deepnote_cell_type": "code",
    "deepnote_to_be_reexecuted": false,
    "execution_millis": 130,
    "execution_start": 1617004432781,
    "source_hash": "94d23af7",
    "tags": []
   },
   "outputs": [],
   "source": [
    "!pip install fredapi\n",
    "import pandas as pd\n",
    "import numpy as np\n",
    "import matplotlib.pyplot as plt\n",
    "from datascience import * \n",
    "from ipywidgets import interact, interactive, fixed, interact_manual\n",
    "import ipywidgets as widgets\n",
    "from scipy.optimize import curve_fit\n",
    "import math\n",
    "from math import *\n",
    "import seaborn as sns\n",
    "import itertools\n",
    "from fredapi import Fred\n",
    "%matplotlib inline"
   ]
  },
  {
   "cell_type": "markdown",
   "metadata": {},
   "source": [
    "## Macroeconomic Data and FRED API"
   ]
  },
  {
   "cell_type": "markdown",
   "metadata": {},
   "source": [
    "We will start by first downloading some macroeconomic data from FRED. In this notebook, we will introduce the FRED API (Application Programming Interface).  "
   ]
  },
  {
   "cell_type": "markdown",
   "metadata": {},
   "source": [
    "**What is an API?**  \n",
    "In contrast to a user interface, which connects a computer to a person, an application programming interface (API) connects computers or pieces of software to each other. It is not intended to be used directly by a person (the end user) other than a computer programmer who is incorporating it into the software. An API is often made up of different parts which act as tools or services that are available to the programmer. A program or a programmer that uses one of these parts is said to call that portion of the API. The calls that make up the API are also known as subroutines, methods, requests, or endpoints. An API specification defines these calls, meaning that it explains how to use or implement them. [Wikipedia]"
   ]
  },
  {
   "cell_type": "markdown",
   "metadata": {},
   "source": [
    "### Part 1: Get the API Key\n",
    "\n",
    "In most cases, you will need to get an API key in order to access an API. For some resources, it involves some paperwork to apply and/or limited free usage. For FRED, the process of getting an API key is simple. Make an account and request the API key [here](https://fred.stlouisfed.org/docs/api/api_key.html)."
   ]
  },
  {
   "cell_type": "markdown",
   "metadata": {
    "deletable": false,
    "editable": false
   },
   "source": [
    "**Question 1.1:** Request a FRED API key and paste it below.\n",
    "\n",
    "<!--\n",
    "BEGIN QUESTION\n",
    "name: q1_1\n",
    "-->"
   ]
  },
  {
   "cell_type": "code",
   "execution_count": 2,
   "metadata": {},
   "outputs": [],
   "source": [
    "my_api_key = \"YOUR API KEY HERE\"\n"
   ]
  },
  {
   "cell_type": "code",
   "execution_count": null,
   "metadata": {
    "deletable": false,
    "editable": false
   },
   "outputs": [],
   "source": [
    "grader.check(\"q1_1\")"
   ]
  },
  {
   "cell_type": "markdown",
   "metadata": {},
   "source": [
    "### Part 2: Access the API using the `fredapi` package\n",
    "\n",
    "In lecture, we discussed how to use APIs generally. In this lab, we skip straight to using the `fredapi` package to interact with the FRED API. First, we initialize a `Fred` object with our API key."
   ]
  },
  {
   "cell_type": "code",
   "execution_count": 4,
   "metadata": {},
   "outputs": [],
   "source": [
    "fred = Fred(api_key=my_api_key)"
   ]
  },
  {
   "cell_type": "markdown",
   "metadata": {},
   "source": [
    "To access data from the FRED API, we need to know the series ID for the data we want. You can find this using the [FRED](https://fred.stlouisfed.org) website. For example, by searching for GDP, we can see on the [FRED page for Gross Domestic Product](https://fred.stlouisfed.org/series/GDP) that the series ID is GDP, as written in parentheses."
   ]
  },
  {
   "cell_type": "code",
   "execution_count": 5,
   "metadata": {},
   "outputs": [],
   "source": [
    "gdp_df = pd.DataFrame(fred.get_series('GDP'))\n",
    "gdp_df.head(10)"
   ]
  },
  {
   "cell_type": "code",
   "execution_count": 6,
   "metadata": {},
   "outputs": [],
   "source": [
    "gdp_df.plot(figsize=(15, 10));"
   ]
  },
  {
   "cell_type": "markdown",
   "metadata": {
    "deletable": false,
    "editable": false
   },
   "source": [
    "<!-- BEGIN QUESTION -->\n",
    "\n",
    "**Question 2.1**: Find the series ID for the federal funds rate, and use it to graph the federal funds rate over time.\n",
    "\n",
    "*Hint: There are multiple series ID for the federal funds rate; use the one that updates monthly. You may need to click \"2 other formats\" to find the series that updates monthly.*\n",
    "\n",
    "<!--\n",
    "BEGIN QUESTION\n",
    "name: q2_1\n",
    "manual: true\n",
    "-->"
   ]
  },
  {
   "cell_type": "code",
   "execution_count": 7,
   "metadata": {},
   "outputs": [],
   "source": [
    "fred.get_series(...).plot(figsize=(15, 10)); "
   ]
  },
  {
   "cell_type": "markdown",
   "metadata": {
    "deletable": false,
    "editable": false
   },
   "source": [
    "<!-- END QUESTION -->\n",
    "\n",
    "<!-- BEGIN QUESTION -->\n",
    "\n",
    "**Question 2.2**: How does the FFR over the past 15 years compare to the FFR before then, and how is this related to the discussion of the FFR in lecture? What may have caused the initial decrease? 2-3 sentences will suffice.\n",
    "\n",
    "<!--\n",
    "BEGIN QUESTION\n",
    "name: q2_2\n",
    "manual: true\n",
    "-->"
   ]
  },
  {
   "cell_type": "markdown",
   "metadata": {},
   "source": [
    "_Type your answer here, replacing this text._"
   ]
  },
  {
   "cell_type": "markdown",
   "metadata": {
    "deletable": false,
    "editable": false
   },
   "source": [
    "<!-- END QUESTION -->\n",
    "\n",
    "<!-- BEGIN QUESTION -->\n",
    "\n",
    "**Question 2.3**: Find the series ID for the unemployment rate, and use it to graph the unemployment rate over time.\n",
    "\n",
    "<!--\n",
    "BEGIN QUESTION\n",
    "name: q2_3\n",
    "manual: true\n",
    "-->"
   ]
  },
  {
   "cell_type": "code",
   "execution_count": 8,
   "metadata": {},
   "outputs": [],
   "source": [
    "fred.get_series(...).plot(figsize=(15, 10));"
   ]
  },
  {
   "cell_type": "markdown",
   "metadata": {
    "deletable": false,
    "editable": false
   },
   "source": [
    "<!-- END QUESTION -->\n",
    "\n",
    "<!-- BEGIN QUESTION -->\n",
    "\n",
    "**Question 2.4**: What spikes do you see over the past 30 years? What do they correlate with? 2-3 sentences will suffice.\n",
    "\n",
    "<!--\n",
    "BEGIN QUESTION\n",
    "name: q2_4\n",
    "manual: true\n",
    "-->"
   ]
  },
  {
   "cell_type": "markdown",
   "metadata": {},
   "source": [
    "_Type your answer here, replacing this text._"
   ]
  },
  {
   "cell_type": "markdown",
   "metadata": {
    "deletable": false,
    "editable": false
   },
   "source": [
    "<!-- END QUESTION -->\n",
    "\n",
    "<!-- BEGIN QUESTION -->\n",
    "\n",
    "**Question 2.5**: Find the series ID for the consumer price index that excludes food and energy, and use it to graph inflation over time. In this case, we want to get quarterly data and put the data in units of percent change from a year ago, because the percent change in CPI tells us the inflation rate. To find the values of these parameters parameters, look at [the FRED documentation for the `fred/series/observations` endpoint](https://fred.stlouisfed.org/docs/api/fred/series_observations.html).\n",
    "\n",
    "\n",
    "<!--\n",
    "BEGIN QUESTION\n",
    "name: q2_5\n",
    "manual: true\n",
    "-->"
   ]
  },
  {
   "cell_type": "code",
   "execution_count": 9,
   "metadata": {},
   "outputs": [],
   "source": [
    "fred.get_series(..., frequency=..., units=...).plot(figsize=(15, 10));"
   ]
  },
  {
   "cell_type": "markdown",
   "metadata": {
    "deletable": false,
    "editable": false
   },
   "source": [
    "<!-- END QUESTION -->\n",
    "\n",
    "<!-- BEGIN QUESTION -->\n",
    "\n",
    "**Question 2.6**: What do you notice about inflation over the past 2 years? In 2008? Why might these trends exist? 2-3 sentences will suffice.\n",
    "\n",
    "<!--\n",
    "BEGIN QUESTION\n",
    "name: q2_6\n",
    "manual: true\n",
    "-->"
   ]
  },
  {
   "cell_type": "markdown",
   "metadata": {},
   "source": [
    "_Type your answer here, replacing this text._"
   ]
  },
  {
   "cell_type": "markdown",
   "metadata": {},
   "source": [
    "<!-- END QUESTION -->\n",
    "\n",
    "\n",
    "\n",
    "### Part 3: Use the FRED API to graph a Phillips curve"
   ]
  },
  {
   "cell_type": "markdown",
   "metadata": {
    "deletable": false,
    "editable": false
   },
   "source": [
    "<!-- BEGIN QUESTION -->\n",
    "\n",
    "**Question 3.1**: Recalling what you learned in lecutre, what macroeconomic indicators does the Phillips curve relate? Is the correlation usually negative or positive? What is the intuition behind this relationship? 3-4 sentences will suffice.\n",
    "\n",
    "<!--\n",
    "BEGIN QUESTION\n",
    "name: q3_1\n",
    "manual: true\n",
    "-->"
   ]
  },
  {
   "cell_type": "markdown",
   "metadata": {},
   "source": [
    "_Type your answer here, replacing this text._"
   ]
  },
  {
   "cell_type": "markdown",
   "metadata": {},
   "source": [
    "<!-- END QUESTION -->\n",
    "\n",
    "\n",
    "\n",
    "To start, we will use the unemployment rate and inflation data to graph a Phillips curve. The `fred` package's `get_series` function returns a Pandas series, which we turn into a Pandas dataframe. To convert to Data 8 tables, we use, the `datascience` package's `Table.from_df` function."
   ]
  },
  {
   "cell_type": "code",
   "execution_count": 10,
   "metadata": {},
   "outputs": [],
   "source": [
    "unemployment_table = Table.from_df(\n",
    "    pd.DataFrame(\n",
    "        fred.get_series('UNRATE')\n",
    "    ).rename(columns={0:'unemployment_rate'}).reset_index()\n",
    ")\n",
    "unemployment_table"
   ]
  },
  {
   "cell_type": "markdown",
   "metadata": {},
   "source": [
    "Next, we will grab the inflation data like we did in question 2.5."
   ]
  },
  {
   "cell_type": "code",
   "execution_count": 11,
   "metadata": {},
   "outputs": [],
   "source": [
    "inflation_table = Table.from_df(\n",
    "    pd.DataFrame(\n",
    "        fred.get_series('CPILFESL', units='pc1', frequency='q')\n",
    "    ).rename(columns={0:'inflation_rate'}).dropna().reset_index()\n",
    ")\n",
    "inflation_table"
   ]
  },
  {
   "cell_type": "markdown",
   "metadata": {
    "deletable": false,
    "editable": false
   },
   "source": [
    "<!-- BEGIN QUESTION -->\n",
    "\n",
    "**Question 3.2**: We now have to *join* the two datasets. This should be familiar from Data 8, but if you need a quick refresher, feel free to reference over [section 8.4 in the Data 8 textbook](https://inferentialthinking.com/chapters/08/4/Joining_Tables_by_Columns.html). Each row in our `phillips_curve_table` should report the unemployment rate and CPI for the same date, if `unemployment_table` and `inflation_table` both have data at that date.\n",
    "\n",
    "<!--\n",
    "BEGIN QUESTION\n",
    "name: q3_2\n",
    "manual: true\n",
    "-->"
   ]
  },
  {
   "cell_type": "code",
   "execution_count": 24,
   "metadata": {},
   "outputs": [],
   "source": [
    "phillips_curve_table = ...\n",
    "phillips_curve_table"
   ]
  },
  {
   "cell_type": "markdown",
   "metadata": {
    "deletable": false,
    "editable": false
   },
   "source": [
    "<!-- END QUESTION -->\n",
    "\n",
    "<!-- BEGIN QUESTION -->\n",
    "\n",
    "**Question 3.3**: Graph the Phillips curve, showing the relationship between the unemployment rate and inflation.\n",
    "\n",
    "<!--\n",
    "BEGIN QUESTION\n",
    "name: q3_3\n",
    "manual: true\n",
    "-->"
   ]
  },
  {
   "cell_type": "code",
   "execution_count": 15,
   "metadata": {},
   "outputs": [],
   "source": [
    "phillips_curve_table.scatter(..., ..., width=15, height=10)\n",
    "plt.xlabel(\"Unemployment\")\n",
    "plt.ylabel(\"Inflation\");"
   ]
  },
  {
   "cell_type": "markdown",
   "metadata": {
    "deletable": false,
    "editable": false
   },
   "source": [
    "<!-- END QUESTION -->\n",
    "\n",
    "<!-- BEGIN QUESTION -->\n",
    "\n",
    "**Question 3.4**: Let's add a \"decade\" column to the table so we can color the points based on what decade they fell in. To do this, write a function (named `find_year_for_date`) that returns the decade of a given date, and then apply it to the `index` column on the `phillips_curve_table`. If you need a refresher on the `apply` function, consult [the Data 8 textbook](https://inferentialthinking.com/chapters/08/1/Applying_a_Function_to_a_Column.html).\n",
    "\n",
    "*Hint: you can get the year of the `date` parameter with `date.year`.*\n",
    "\n",
    "<!--\n",
    "BEGIN QUESTION\n",
    "name: q3_4\n",
    "manual: true\n",
    "-->"
   ]
  },
  {
   "cell_type": "code",
   "execution_count": 16,
   "metadata": {},
   "outputs": [],
   "source": [
    "def find_year_for_date(date):\n",
    "    the_year = ...\n",
    "    nearest_decade = ...\n",
    "    return nearest_decade\n",
    "\n",
    "phillips_curve_table = phillips_curve_table.with_columns(\n",
    "    'decade', \n",
    "    ...\n",
    ")\n",
    "phillips_curve_table"
   ]
  },
  {
   "cell_type": "markdown",
   "metadata": {},
   "source": [
    "<!-- END QUESTION -->\n",
    "\n",
    "\n",
    "\n",
    "The code for the graph below is beyond the scope of this course. You don't need to understand it but feel free to find the documentation for the seaborn package if you're interested."
   ]
  },
  {
   "cell_type": "code",
   "execution_count": 20,
   "metadata": {},
   "outputs": [],
   "source": [
    "plt.figure(figsize=(15, 10))\n",
    "sns.scatterplot(x=\"unemployment_rate\", y=\"inflation_rate\", data=phillips_curve_table, \n",
    "                hue=\"decade\", palette=\"bright\", alpha=0.75)\n",
    "plt.xlabel(\"Unemployment\")\n",
    "plt.ylabel(\"Core Inflation\")\n",
    "plt.show();"
   ]
  },
  {
   "cell_type": "markdown",
   "metadata": {},
   "source": [
    "We can add best fit lines for each decade, too."
   ]
  },
  {
   "cell_type": "code",
   "execution_count": 21,
   "metadata": {},
   "outputs": [],
   "source": [
    "sns.lmplot(x=\"unemployment_rate\", y=\"inflation_rate\", data=phillips_curve_table.to_df(), \n",
    "                hue=\"decade\", palette=\"bright\", ci=None, height=10)\n",
    "plt.xlabel(\"Unemployment\")\n",
    "plt.ylabel(\"Core Inflation\")\n",
    "plt.show();"
   ]
  },
  {
   "cell_type": "markdown",
   "metadata": {
    "deletable": false,
    "editable": false
   },
   "source": [
    "<!-- BEGIN QUESTION -->\n",
    "\n",
    "**Question 3.5**: What trends do you notice? Recalling question 3.1, does the traditional relationship behind the Phillips curve always hold? If not, why might that be?\n",
    "\n",
    "<!--\n",
    "BEGIN QUESTION\n",
    "name: q3_5\n",
    "manual: true\n",
    "-->"
   ]
  },
  {
   "cell_type": "markdown",
   "metadata": {},
   "source": [
    "_Type your answer here, replacing this text._"
   ]
  },
  {
   "cell_type": "markdown",
   "metadata": {},
   "source": [
    "<!-- END QUESTION -->\n",
    "\n",
    "\n",
    "\n",
    "**Congratulations!** You are done with your final lab Data 88E this semester! This lab gave you a brief taste of applying data science to macroeconomic indicators. We sincerely hope you enjoyed this lab, as well as our course in general. Please remember to fill out your course evaluations so we can learn from your feedback! "
   ]
  },
  {
   "cell_type": "markdown",
   "metadata": {
    "deletable": false,
    "editable": false
   },
   "source": [
    "---\n",
    "\n",
    "To double-check your work, the cell below will rerun all of the autograder tests."
   ]
  },
  {
   "cell_type": "code",
   "execution_count": null,
   "metadata": {
    "deletable": false,
    "editable": false
   },
   "outputs": [],
   "source": [
    "grader.check_all()"
   ]
  },
  {
   "cell_type": "markdown",
   "metadata": {
    "deletable": false,
    "editable": false
   },
   "source": [
    "## Submission\n",
    "\n",
    "Make sure you have run all cells in your notebook in order before running the cell below, so that all images/graphs appear in the output. The cell below will generate a zip file for you to submit. **Please save before exporting!**"
   ]
  },
  {
   "cell_type": "code",
   "execution_count": null,
   "metadata": {
    "deletable": false,
    "editable": false
   },
   "outputs": [],
   "source": [
    "# Save your notebook first, then run this cell to export your submission.\n",
    "grader.export(pdf=False)"
   ]
  },
  {
   "cell_type": "markdown",
   "metadata": {},
   "source": [
    " "
   ]
  }
 ],
 "metadata": {
  "deepnote": {},
  "deepnote_execution_queue": [],
  "deepnote_notebook_id": "59984a21-9207-47a0-80d4-a0f6e905e666",
  "kernelspec": {
   "display_name": "Python 3",
   "language": "python",
   "name": "python3"
  },
  "language_info": {
   "codemirror_mode": {
    "name": "ipython",
    "version": 3
   },
   "file_extension": ".py",
   "mimetype": "text/x-python",
   "name": "python",
   "nbconvert_exporter": "python",
   "pygments_lexer": "ipython3",
   "version": "3.8.8"
  }
 },
 "nbformat": 4,
 "nbformat_minor": 4
}
