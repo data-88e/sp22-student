{
 "cells": [
  {
   "cell_type": "code",
   "execution_count": null,
   "metadata": {
    "deletable": false,
    "editable": false
   },
   "outputs": [],
   "source": [
    "# Initialize Otter\n",
    "import otter\n",
    "grader = otter.Notebook(\"lab06.ipynb\")"
   ]
  },
  {
   "cell_type": "markdown",
   "metadata": {},
   "source": [
    "<table style=\"width: 100%;\" id=\"nb-header>\">\n",
    "        <tr style=\"background-color: transparent;\"><td>\n",
    "            <img src=\"https://data-88e.github.io/assets/images/blue_text.png\" width=\"250px\" style=\"margin-left: 0;\" />\n",
    "        </td><td>\n",
    "            <p style=\"text-align: right; font-size: 10pt;\"><strong>Economic Models</strong>, Spring 2022<br>\n",
    "                Dr. Eric Van Dusen<br>\n",
    "            Lab by Chris Pyles, Isabella Siu</p></td></tr>\n",
    "    </table>"
   ]
  },
  {
   "cell_type": "markdown",
   "metadata": {},
   "source": [
    "# Lab 6: Game Theory\n",
    "\n",
    "In this lab, we will review some of the game theory topics covered this week and review the prisoner's dilemma in preparation for the project."
   ]
  },
  {
   "cell_type": "code",
   "execution_count": 2,
   "metadata": {},
   "outputs": [],
   "source": [
    "from datascience import *\n",
    "import numpy as np\n",
    "import matplotlib.pyplot as plt\n",
    "%matplotlib inline\n",
    "import sympy\n",
    "solve = lambda x,y: sympy.solve(x-y)[0] if len(sympy.solve(x-y))==1 else \"Not Single Solution\"\n",
    "sympy.init_printing(print_builtin=False)"
   ]
  },
  {
   "cell_type": "markdown",
   "metadata": {},
   "source": [
    "### Question 1\n",
    "\n",
    "Consider the game defined by the payoff matrix below. In this game, the players cannot communicate when picking a strategy but know their opponent's history.\n",
    "\n",
    "<table class=\"payoff-matrix\" style=\"text-align: center; table-layout: fixed;\">\n",
    "    <tr style=\"background-color: #FFF;\">\n",
    "        <td></td>\n",
    "        <td></td>\n",
    "        <td style=\"text-align: center;\" colspan=\"2\">Player 2</td>\n",
    "    </tr>\n",
    "    <tr>\n",
    "        <td></td>\n",
    "        <td></td>\n",
    "        <td width=\"85\">Strategy A</td>\n",
    "        <td width=\"85\">Strategy B</td>\n",
    "    </tr>\n",
    "    <tr>\n",
    "        <td rowspan=\"2\" style=\"background-color: #FFF;\">Player 1</td>\n",
    "        <td>Strategy A</td>\n",
    "        <td>State 1<br>(3, -2)</td>\n",
    "        <td>State 2<br>(5, -5)</td>\n",
    "    </tr>\n",
    "    <tr>\n",
    "        <td>Strategy B</td>\n",
    "        <td>State 3<br>(-5, 5)</td>\n",
    "        <td>State 4<br>(4, -1)</td>\n",
    "    </tr>\n",
    "</table>"
   ]
  },
  {
   "cell_type": "markdown",
   "metadata": {
    "deletable": false,
    "editable": false
   },
   "source": [
    "**Question 1.1:** Assign `cooperative`, `symmetric`, `simultaneous`, and `perfect` below to `True` or `False` indicate whether that trait corresponds to this game. For example, if the game was assymetric, you would set `symmetric = False`.\n",
    "\n",
    "<!--\n",
    "BEGIN QUESTION\n",
    "name: q1_1\n",
    "-->"
   ]
  },
  {
   "cell_type": "code",
   "execution_count": 3,
   "metadata": {},
   "outputs": [],
   "source": [
    "cooperative = ...\n",
    "symmetric = ...\n",
    "simultaneous = ...\n",
    "perfect = ..."
   ]
  },
  {
   "cell_type": "code",
   "execution_count": null,
   "metadata": {
    "deletable": false,
    "editable": false
   },
   "outputs": [],
   "source": [
    "grader.check(\"q1_1\")"
   ]
  },
  {
   "cell_type": "markdown",
   "metadata": {
    "deletable": false,
    "editable": false
   },
   "source": [
    "**Question 1.2:** Does this game have any Nash equilibria? List the numbers of the states in the payoff matrix above that correspond to Nash equilibria, if any, in the array `nash_equilibria` below. Leave the array empty if there are no Nash equilibria.\n",
    "\n",
    "<!--\n",
    "BEGIN QUESTION\n",
    "name: q1_2\n",
    "points:\n",
    "    - 0\n",
    "    - 0\n",
    "    - 1\n",
    "-->"
   ]
  },
  {
   "cell_type": "code",
   "execution_count": 6,
   "metadata": {},
   "outputs": [],
   "source": [
    "nash_equilibria = make_array()\n",
    "nash_equilibria"
   ]
  },
  {
   "cell_type": "code",
   "execution_count": null,
   "metadata": {
    "deletable": false,
    "editable": false
   },
   "outputs": [],
   "source": [
    "grader.check(\"q1_2\")"
   ]
  },
  {
   "cell_type": "markdown",
   "metadata": {},
   "source": [
    "### Question 2\n",
    "\n",
    "In this section, we'll run through the application of the Cournot and Bertrand competition models. For this question, we'll be analyzing the rideshare duopoly of Uber and Lyft, who we will say share a marginal cost of $c$ = \\\\$3 per ride. Suppose the market demand is $P = -2.39 Q + 87.42$."
   ]
  },
  {
   "cell_type": "markdown",
   "metadata": {
    "deletable": false,
    "editable": false
   },
   "source": [
    "**Question 2.1:** Using SymPy, create a symbol for $Q$ and assign `market_demand` to the market demand curve for rideshares.\n",
    "\n",
    "<!--\n",
    "BEGIN QUESTION\n",
    "name: q2_1\n",
    "-->"
   ]
  },
  {
   "cell_type": "code",
   "execution_count": 10,
   "metadata": {},
   "outputs": [],
   "source": [
    "Q = ...\n",
    "market_demand = ...\n",
    "market_demand"
   ]
  },
  {
   "cell_type": "code",
   "execution_count": null,
   "metadata": {
    "deletable": false,
    "editable": false
   },
   "outputs": [],
   "source": [
    "grader.check(\"q2_1\")"
   ]
  },
  {
   "cell_type": "markdown",
   "metadata": {},
   "source": [
    "We'll start by assuming that Uber and Lyft form a Cournot duopoly and that Uber is trying to determine what output level to produce at under the assumption that Lyft will be producing at 15 units of output."
   ]
  },
  {
   "cell_type": "markdown",
   "metadata": {
    "deletable": false,
    "editable": false
   },
   "source": [
    "**Question 2.2:** Assign `profit_function` to Uber's profit function under the assumption that Lyft will produce 15 units of output.\n",
    "\n",
    "<!--\n",
    "BEGIN QUESTION\n",
    "name: q2_2\n",
    "points: 2\n",
    "-->"
   ]
  },
  {
   "cell_type": "code",
   "execution_count": 13,
   "metadata": {},
   "outputs": [],
   "source": [
    "q_1 = ...\n",
    "q_2 = ...\n",
    "P = ...\n",
    "c = ...\n",
    "\n",
    "profit = ...\n",
    "profit_function = ...\n",
    "profit_function"
   ]
  },
  {
   "cell_type": "code",
   "execution_count": null,
   "metadata": {
    "deletable": false,
    "editable": false
   },
   "outputs": [],
   "source": [
    "grader.check(\"q2_2\")"
   ]
  },
  {
   "cell_type": "markdown",
   "metadata": {
    "deletable": false,
    "editable": false
   },
   "source": [
    "**Question 2.3:** Assign `q_1_star` to Uber's best response function based on `profit_function`. Recall that $\\frac{\\partial \\pi_1}{\\partial q_1} = 2mq_1 + mq_2 + b - c$. `q_1_star` should generate a numerical value equal to $q_1^*$. **Do not** calculate the answer by hand and then just write it in the cell below; instead, use Sympy to calculate the answer below.\n",
    "<!--\n",
    "BEGIN QUESTION\n",
    "name: q2_3\n",
    "points:\n",
    "    - 0\n",
    "    - 1\n",
    "-->"
   ]
  },
  {
   "cell_type": "code",
   "execution_count": 36,
   "metadata": {},
   "outputs": [],
   "source": [
    "q_1_star = ...\n",
    "q_1_star"
   ]
  },
  {
   "cell_type": "code",
   "execution_count": null,
   "metadata": {
    "deletable": false,
    "editable": false
   },
   "outputs": [],
   "source": [
    "grader.check(\"q2_3\")"
   ]
  },
  {
   "cell_type": "markdown",
   "metadata": {
    "deletable": false,
    "editable": false
   },
   "source": [
    "**Question 2.4:** Finally, given Uber's optimal output level $q_1^*$, calculate the price at which it will sell $p_1^*$.\n",
    "\n",
    "<!--\n",
    "BEGIN QUESTION\n",
    "name: q2_4\n",
    "-->"
   ]
  },
  {
   "cell_type": "code",
   "execution_count": 47,
   "metadata": {},
   "outputs": [],
   "source": [
    "p_1_star = ...\n",
    "\n",
    "print(f\"Uber's output level: {q_1_star:.0f}\")\n",
    "print(f\"Uber's price: ${p_1_star:.2f}\")"
   ]
  },
  {
   "cell_type": "code",
   "execution_count": null,
   "metadata": {
    "deletable": false,
    "editable": false
   },
   "outputs": [],
   "source": [
    "grader.check(\"q2_4\")"
   ]
  },
  {
   "cell_type": "markdown",
   "metadata": {},
   "source": [
    "Now let's examine Uber and Lyft as a Bertrand duopoly. The marginal cost and market demand will remain the same."
   ]
  },
  {
   "cell_type": "markdown",
   "metadata": {
    "deletable": false,
    "editable": false
   },
   "source": [
    "**Question 2.5:** Find the monopoly price and quantity `p_m` and `q_m` using SymPy. You can reuse the `market_demand` curve from earlier. Again, don't copy-paste the coefficients - use Sympy for your calculations.\n",
    "\n",
    "<!--\n",
    "BEGIN QUESTION\n",
    "name: q2_5\n",
    "points:\n",
    "    - 0\n",
    "    - 0\n",
    "    - 1\n",
    "    - 1\n",
    "-->"
   ]
  },
  {
   "cell_type": "code",
   "execution_count": 51,
   "metadata": {},
   "outputs": [],
   "source": [
    "marginal_revenue = ...\n",
    "q_m = ...\n",
    "p_m = ...\n",
    "\n",
    "print(f\"Monopoly price: ${p_m:.2f}\")\n",
    "print(f\"Monopoly quantity: {q_m:.0f}\")"
   ]
  },
  {
   "cell_type": "code",
   "execution_count": null,
   "metadata": {
    "deletable": false,
    "editable": false
   },
   "outputs": [],
   "source": [
    "grader.check(\"q2_5\")"
   ]
  },
  {
   "cell_type": "markdown",
   "metadata": {
    "deletable": false,
    "editable": false
   },
   "source": [
    "**Question 2.6:** Using the monopoly price and quantity, if Uber believes that Lyft will sell at \\\\$15 and we select $h=0.25$, what is the value of Uber's reaction function? Assign it to `uber_price`.\n",
    "\n",
    "<!--\n",
    "BEGIN QUESTION\n",
    "name: q2_6\n",
    "-->"
   ]
  },
  {
   "cell_type": "code",
   "execution_count": 40,
   "metadata": {},
   "outputs": [],
   "source": [
    "uber_price = ...\n",
    "uber_price"
   ]
  },
  {
   "cell_type": "code",
   "execution_count": null,
   "metadata": {
    "deletable": false,
    "editable": false
   },
   "outputs": [],
   "source": [
    "grader.check(\"q2_6\")"
   ]
  },
  {
   "cell_type": "markdown",
   "metadata": {
    "deletable": false,
    "editable": false
   },
   "source": [
    "<!-- BEGIN QUESTION -->\n",
    "\n",
    "### Question 3\n",
    "\n",
    "The [tragedy of the commons](https://en.wikipedia.org/wiki/Tragedy_of_the_commons) is a situation in which a group of people make use of a shared resource wherein each individual, for their own gain and in opposition to the common good, depletes or spoils a resource, resulting in a lack of that resource for the entire group. We can think of this \"commons\" as any shared and unregulated resource, such as the fresh water in aquifers or natural gas. \n",
    "\n",
    "Explain how the members of the group can be viewed as players in a multiplayer prisoner's dilemma. What behaviors correspond to \"cooperation\" and \"defection\"? What outcome is best for the collective? What outcome represents the tragedy of the commons? What is the Nash equilibrium of this situation, in the context of the tragedy of the commons?\n",
    "\n",
    "<!--\n",
    "BEGIN QUESTION\n",
    "name: q3\n",
    "manual: true\n",
    "-->"
   ]
  },
  {
   "cell_type": "markdown",
   "metadata": {},
   "source": [
    "_Type your answer here, replacing this text._"
   ]
  },
  {
   "cell_type": "markdown",
   "metadata": {
    "deletable": false,
    "editable": false
   },
   "source": [
    "---\n",
    "\n",
    "To double-check your work, the cell below will rerun all of the autograder tests."
   ]
  },
  {
   "cell_type": "code",
   "execution_count": null,
   "metadata": {
    "deletable": false,
    "editable": false
   },
   "outputs": [],
   "source": [
    "grader.check_all()"
   ]
  },
  {
   "cell_type": "markdown",
   "metadata": {
    "deletable": false,
    "editable": false
   },
   "source": [
    "## Submission\n",
    "\n",
    "Make sure you have run all cells in your notebook in order before running the cell below, so that all images/graphs appear in the output. The cell below will generate a zip file for you to submit. **Please save before exporting!**"
   ]
  },
  {
   "cell_type": "code",
   "execution_count": null,
   "metadata": {
    "deletable": false,
    "editable": false
   },
   "outputs": [],
   "source": [
    "# Save your notebook first, then run this cell to export your submission.\n",
    "grader.export(pdf=False)"
   ]
  },
  {
   "cell_type": "markdown",
   "metadata": {},
   "source": [
    " "
   ]
  }
 ],
 "metadata": {
  "@webio": {
   "lastCommId": null,
   "lastKernelId": null
  },
  "kernelspec": {
   "display_name": "Python 3",
   "language": "python",
   "name": "python3"
  },
  "language_info": {
   "codemirror_mode": {
    "name": "ipython",
    "version": 3
   },
   "file_extension": ".py",
   "mimetype": "text/x-python",
   "name": "python",
   "nbconvert_exporter": "python",
   "pygments_lexer": "ipython3",
   "version": "3.8.8"
  }
 },
 "nbformat": 4,
 "nbformat_minor": 4
}
