{
 "cells": [
  {
   "cell_type": "markdown",
   "metadata": {},
   "source": [
    "# Creating a Demand Curve"
   ]
  },
  {
   "cell_type": "code",
   "execution_count": 1,
   "metadata": {},
   "outputs": [
    {
     "name": "stdout",
     "output_type": "stream",
     "text": [
      "Requirement already satisfied: oauth2client in /opt/conda/lib/python3.9/site-packages (4.1.3)\n",
      "Requirement already satisfied: six>=1.6.1 in /opt/conda/lib/python3.9/site-packages (from oauth2client) (1.16.0)\n",
      "Requirement already satisfied: httplib2>=0.9.1 in /opt/conda/lib/python3.9/site-packages (from oauth2client) (0.20.2)\n",
      "Requirement already satisfied: pyasn1-modules>=0.0.5 in /opt/conda/lib/python3.9/site-packages (from oauth2client) (0.2.8)\n",
      "Requirement already satisfied: rsa>=3.1.4 in /opt/conda/lib/python3.9/site-packages (from oauth2client) (4.8)\n",
      "Requirement already satisfied: pyasn1>=0.1.7 in /opt/conda/lib/python3.9/site-packages (from oauth2client) (0.4.8)\n",
      "Requirement already satisfied: pyparsing!=3.0.0,!=3.0.1,!=3.0.2,!=3.0.3,<4,>=2.4.2; python_version > \"3.0\" in /opt/conda/lib/python3.9/site-packages (from httplib2>=0.9.1->oauth2client) (3.0.7)\n"
     ]
    }
   ],
   "source": [
    "!pip install oauth2client\n",
    "import pandas as pd\n",
    "import gspread\n",
    "import os\n",
    "import json\n",
    "from oauth2client.service_account import ServiceAccountCredentials\n",
    "import numpy as np\n",
    "from datascience import *\n",
    "from ipywidgets import interact, interactive, fixed, interact_manual\n",
    "import ipywidgets as widgets\n",
    "%matplotlib inline\n",
    "import pandas as pd\n",
    "import matplotlib.pyplot as plt\n",
    "import warnings\n",
    "warnings.filterwarnings(\"ignore\")\n"
   ]
  },
  {
   "cell_type": "markdown",
   "metadata": {},
   "source": [
    "We will create a few demand curves based on the class. Start by filling in the form at https://forms.gle/LrHEoLCakuhKtM9J8!"
   ]
  },
  {
   "cell_type": "code",
   "execution_count": 2,
   "metadata": {},
   "outputs": [
    {
     "data": {
      "text/html": [
       "<table border=\"1\" class=\"dataframe\">\n",
       "    <thead>\n",
       "        <tr>\n",
       "            <th>Masks</th> <th>Burrito</th> <th>GreekTix</th> <th>Iphone</th>\n",
       "        </tr>\n",
       "    </thead>\n",
       "    <tbody>\n",
       "        <tr>\n",
       "            <td>1    </td> <td>10     </td> <td>100     </td> <td>1000  </td>\n",
       "        </tr>\n",
       "    </tbody>\n",
       "</table>"
      ],
      "text/plain": [
       "Masks | Burrito | GreekTix | Iphone\n",
       "1     | 10      | 100      | 1000"
      ]
     },
     "execution_count": 2,
     "metadata": {},
     "output_type": "execute_result"
    }
   ],
   "source": [
    "# This cell loads in the data from the google form and saves it to a table called demand_table - don't worry about the code!\n",
    "scope = ['https://spreadsheets.google.com/feeds', 'https://www.googleapis.com/auth/drive']\n",
    "creds = ServiceAccountCredentials.from_json_keyfile_dict(json.loads(os.environ['GOOGLE_SHEETS_READONLY_KEY']), scope)\n",
    "gc = gspread.authorize(creds)\n",
    "\n",
    "url = 'https://docs.google.com/spreadsheets/d/1Qjb5_meC0gEEUCbyc77yKeSBxOL0xz9OTSrG8M7y-BI/edit?usp=sharing'\n",
    "\n",
    "sheet = gc.open_by_url(url)\n",
    "ws = sheet.worksheet('Form Responses 1')\n",
    "df = pd.DataFrame(ws.get_all_records())\n",
    "\n",
    "demand_table = Table.from_df(df)\n",
    "demand_table = demand_table.drop('Timestamp')\n",
    "demand_table\n"
   ]
  },
  {
   "cell_type": "markdown",
   "metadata": {},
   "source": [
    "Let's try graphing all our different responses!"
   ]
  },
  {
   "cell_type": "code",
   "execution_count": 3,
   "metadata": {},
   "outputs": [
    {
     "data": {
      "image/png": "[encoded data removed]",
      "text/plain": [
       "<Figure size 432x288 with 1 Axes>"
      ]
     },
     "metadata": {
      "needs_background": "light"
     },
     "output_type": "display_data"
    },
    {
     "data": {
      "image/png": "[encoded data removed]",
      "text/plain": [
       "<Figure size 432x288 with 1 Axes>"
      ]
     },
     "metadata": {
      "needs_background": "light"
     },
     "output_type": "display_data"
    },
    {
     "data": {
      "image/png": "[encoded data removed]",
      "text/plain": [
       "<Figure size 432x288 with 1 Axes>"
      ]
     },
     "metadata": {
      "needs_background": "light"
     },
     "output_type": "display_data"
    },
    {
     "data": {
      "image/png": "[encoded data removed]",
      "text/plain": [
       "<Figure size 432x288 with 1 Axes>"
      ]
     },
     "metadata": {
      "needs_background": "light"
     },
     "output_type": "display_data"
    }
   ],
   "source": [
    "for i in demand_table.labels:\n",
    "    demand_table.hist(i);\n"
   ]
  },
  {
   "cell_type": "markdown",
   "metadata": {},
   "source": [
    "Let's start by looking at the demand for green tea kit kats. How many people would buy green tea kit kats at a given price? Let's assume that a person would be willing to buy the good at a price less than their bid price.  "
   ]
  },
  {
   "cell_type": "code",
   "execution_count": 4,
   "metadata": {},
   "outputs": [
    {
     "data": {
      "text/html": [
       "<table border=\"1\" class=\"dataframe\">\n",
       "    <thead>\n",
       "        <tr>\n",
       "            <th>Masks</th>\n",
       "        </tr>\n",
       "    </thead>\n",
       "    <tbody>\n",
       "        <tr>\n",
       "            <td>1    </td>\n",
       "        </tr>\n",
       "    </tbody>\n",
       "</table>"
      ],
      "text/plain": [
       "Masks\n",
       "1"
      ]
     },
     "execution_count": 4,
     "metadata": {},
     "output_type": "execute_result"
    }
   ],
   "source": [
    "# This is a column of bid values for Greeen Tea Kitkats that you've all inputted. \n",
    "masks = demand_table.select('Masks')\n",
    "masks"
   ]
  },
  {
   "cell_type": "code",
   "execution_count": 5,
   "metadata": {},
   "outputs": [
    {
     "data": {
      "text/html": [
       "<table border=\"1\" class=\"dataframe\">\n",
       "    <thead>\n",
       "        <tr>\n",
       "            <th>price</th> <th>quantity</th>\n",
       "        </tr>\n",
       "    </thead>\n",
       "    <tbody>\n",
       "        <tr>\n",
       "            <td>0.25 </td> <td>1       </td>\n",
       "        </tr>\n",
       "        <tr>\n",
       "            <td>0.5  </td> <td>1       </td>\n",
       "        </tr>\n",
       "        <tr>\n",
       "            <td>0.75 </td> <td>1       </td>\n",
       "        </tr>\n",
       "        <tr>\n",
       "            <td>1    </td> <td>1       </td>\n",
       "        </tr>\n",
       "        <tr>\n",
       "            <td>1.25 </td> <td>0       </td>\n",
       "        </tr>\n",
       "        <tr>\n",
       "            <td>1.5  </td> <td>0       </td>\n",
       "        </tr>\n",
       "        <tr>\n",
       "            <td>1.75 </td> <td>0       </td>\n",
       "        </tr>\n",
       "        <tr>\n",
       "            <td>2    </td> <td>0       </td>\n",
       "        </tr>\n",
       "    </tbody>\n",
       "</table>"
      ],
      "text/plain": [
       "price | quantity\n",
       "0.25  | 1\n",
       "0.5   | 1\n",
       "0.75  | 1\n",
       "1     | 1\n",
       "1.25  | 0\n",
       "1.5   | 0\n",
       "1.75  | 0\n",
       "2     | 0"
      ]
     },
     "execution_count": 5,
     "metadata": {},
     "output_type": "execute_result"
    }
   ],
   "source": [
    "# This cell does some python magic. You do not need to worry about what's going on. \n",
    "prices = pd.DataFrame({'price':[0.25, 0.5, 0.75, 1.00, 1.25, 1.5,1.75,2]})\n",
    "MasksByPrice = masks.group(\"Masks\")\n",
    "mbp = MasksByPrice.to_df()\n",
    "mask = (\n",
    "    prices\n",
    "    .merge(mbp, left_on='price', how='left', right_on='Masks')\n",
    "    .fillna(0).drop('Masks', axis=1)\n",
    ")\n",
    "masks_table = Table.from_df(mask)\n",
    "Q_demand = np.flip(np.cumsum(np.flip(masks_table.group(\"price\", sum).column(1))))\n",
    "masks_demand = Table().with_columns(\n",
    "    'price', prices.price, \n",
    "    'quantity', Q_demand\n",
    ")\n",
    "masks_demand"
   ]
  },
  {
   "cell_type": "code",
   "execution_count": 6,
   "metadata": {},
   "outputs": [
    {
     "data": {
      "image/png": "[encoded data removed]",
      "text/plain": [
       "<Figure size 360x360 with 1 Axes>"
      ]
     },
     "metadata": {
      "needs_background": "light"
     },
     "output_type": "display_data"
    }
   ],
   "source": [
    "# Let's graph our results\n",
    "masks_demand.scatter(\"quantity\", \"price\")\n",
    "plt.xlabel('Quantity')\n",
    "plt.ylabel('Price')\n",
    "plt.title('Demand for a pack of surgical masks');"
   ]
  },
  {
   "cell_type": "markdown",
   "metadata": {},
   "source": [
    "Now let's find the slope and intercept of the line of best fit. The cell below defines some functions that you'll learn about in the later portions of Data 8."
   ]
  },
  {
   "cell_type": "code",
   "execution_count": 7,
   "metadata": {},
   "outputs": [],
   "source": [
    "std_units = lambda a: (a - np.mean(a)) / np.std(a)\n",
    "corr = lambda x, y: np.mean(std_units(x) * std_units(y))\n",
    "slope = lambda x, y: corr(x, y) * np.std(y) / np.std(x)\n",
    "intercept = lambda x, y: np.mean(y) - slope(x, y) * np.mean(x)"
   ]
  },
  {
   "cell_type": "code",
   "execution_count": 8,
   "metadata": {
    "scrolled": true
   },
   "outputs": [
    {
     "data": {
      "text/plain": [
       "-1.0"
      ]
     },
     "execution_count": 8,
     "metadata": {},
     "output_type": "execute_result"
    }
   ],
   "source": [
    "slope(masks_demand[\"quantity\"], masks_demand[\"price\"])"
   ]
  },
  {
   "cell_type": "code",
   "execution_count": 9,
   "metadata": {},
   "outputs": [
    {
     "data": {
      "text/plain": [
       "1.625"
      ]
     },
     "execution_count": 9,
     "metadata": {},
     "output_type": "execute_result"
    }
   ],
   "source": [
    "intercept(masks_demand[\"quantity\"], masks_demand[\"price\"])"
   ]
  },
  {
   "cell_type": "markdown",
   "metadata": {},
   "source": [
    "We can use the same code as above to create demand curves for our other products as well!"
   ]
  },
  {
   "cell_type": "code",
   "execution_count": 10,
   "metadata": {},
   "outputs": [
    {
     "name": "stdout",
     "output_type": "stream",
     "text": [
      "Slope: -10.0\n",
      "Intercept: 16.25\n"
     ]
    }
   ],
   "source": [
    "#Gourmet Burrito\n",
    "prices_burrito = pd.DataFrame({'price':[2.50, 5, 7.50, 10, 12.5, 15,17.5,20]})\n",
    "\n",
    "burritos = demand_table.select('Burrito')\n",
    "burritosByPrice = burritos.group(\"Burrito\")\n",
    "bbp = burritosByPrice.to_df()\n",
    "gb = (\n",
    "    prices_burrito\n",
    "    .merge(bbp, left_on='price', how='left', right_on='Burrito')\n",
    "    .fillna(0).drop('Burrito', axis=1)\n",
    ")\n",
    "\n",
    "burritos_table = Table.from_df(gb)\n",
    "Q_demand_burrito = np.flip(np.cumsum(np.flip(burritos_table.group(\"price\", sum).column(1))))\n",
    "\n",
    "gb_demand = Table().with_columns(\n",
    "    'price', prices_burrito.price, \n",
    "    'quantity', Q_demand_burrito\n",
    ")\n",
    "\n",
    "burrito_slope = slope(gb_demand[\"quantity\"], gb_demand[\"price\"])\n",
    "burrito_intercept = intercept(gb_demand[\"quantity\"], gb_demand[\"price\"])\n",
    "print(\"Slope: \" + str(burrito_slope))\n",
    "print(\"Intercept: \" +  str(burrito_intercept))"
   ]
  },
  {
   "cell_type": "code",
   "execution_count": 11,
   "metadata": {},
   "outputs": [
    {
     "name": "stdout",
     "output_type": "stream",
     "text": [
      "Slope: -100.0\n",
      "Intercept: 162.5\n"
     ]
    }
   ],
   "source": [
    "#Greek Theatre Tickets\n",
    "prices_tickets = pd.DataFrame({'price':[25, 50, 75, 100, 125, 150,175,200]})\n",
    "\n",
    "tickets = demand_table.select('GreekTix')\n",
    "ticketsByPrice = tickets.group(\"GreekTix\")\n",
    "tbp = ticketsByPrice.to_df()\n",
    "gt = (\n",
    "    prices_tickets\n",
    "    .merge(tbp, left_on='price', how='left', right_on='GreekTix')\n",
    "    .fillna(0).drop('GreekTix', axis=1)\n",
    ")\n",
    "\n",
    "tickets_table = Table.from_df(gt)\n",
    "Q_demand_tickets = np.flip(np.cumsum(np.flip(tickets_table.group(\"price\", sum).column(1))))\n",
    "\n",
    "gt_demand = Table().with_columns(\n",
    "    'price', prices_tickets.price, \n",
    "    'quantity', Q_demand_tickets\n",
    ")\n",
    "\n",
    "tickets_slope = slope(gt_demand[\"quantity\"], gt_demand[\"price\"])\n",
    "tickets_intercept = intercept(gt_demand[\"quantity\"], gt_demand[\"price\"])\n",
    "print(\"Slope: \" + str(tickets_slope))\n",
    "print(\"Intercept: \" +  str(tickets_intercept))\n"
   ]
  },
  {
   "cell_type": "code",
   "execution_count": 12,
   "metadata": {},
   "outputs": [
    {
     "name": "stdout",
     "output_type": "stream",
     "text": [
      "Slope: -1500.0\n",
      "Intercept: 2125.0\n"
     ]
    }
   ],
   "source": [
    "#Iphone 14\n",
    "prices_iphone = pd.DataFrame({'price':[250, 500, 750, 1000, 1250, 1500,1750,2000, 2250, 2500, 2750, 3000]})\n",
    "\n",
    "iphones = demand_table.select('Iphone')\n",
    "iphonesByPrice = iphones.group(\"Iphone\")\n",
    "ibp = iphonesByPrice.to_df()\n",
    "iphone14 = (\n",
    "    prices_iphone\n",
    "    .merge(ibp, left_on='price', how='left', right_on=\"Iphone\")\n",
    "    .fillna(0).drop(\"Iphone\", axis=1)\n",
    ")\n",
    "\n",
    "iphones_table = Table.from_df(iphone14)\n",
    "Q_demand_iphones = np.flip(np.cumsum(np.flip(iphones_table.group(\"price\", sum).column(1))))\n",
    "\n",
    "iphone14_demand = Table().with_columns(\n",
    "    'price', prices_iphone.price, \n",
    "    'quantity', Q_demand_iphones\n",
    ")\n",
    "\n",
    "iphones_slope = slope(iphone14_demand[\"quantity\"], iphone14_demand[\"price\"])\n",
    "iphones_intercept = intercept(iphone14_demand[\"quantity\"], iphone14_demand[\"price\"])\n",
    "print(\"Slope: \" + str(iphones_slope))\n",
    "print(\"Intercept: \" +  str(iphones_intercept))"
   ]
  },
  {
   "cell_type": "markdown",
   "metadata": {},
   "source": [
    "Comparing the demand curves for our four products, what similarities or differences do you notice? In particular, think about what the slopes of the curves might reveal to us about consumer preferences. "
   ]
  },
  {
   "cell_type": "code",
   "execution_count": 13,
   "metadata": {},
   "outputs": [
    {
     "data": {
      "image/png": "[encoded data removed]",
      "text/plain": [
       "<Figure size 360x360 with 1 Axes>"
      ]
     },
     "metadata": {
      "needs_background": "light"
     },
     "output_type": "display_data"
    },
    {
     "data": {
      "image/png": "[encoded data removed]",
      "text/plain": [
       "<Figure size 360x360 with 1 Axes>"
      ]
     },
     "metadata": {
      "needs_background": "light"
     },
     "output_type": "display_data"
    },
    {
     "data": {
      "image/png": "[encoded data removed]",
      "text/plain": [
       "<Figure size 360x360 with 1 Axes>"
      ]
     },
     "metadata": {
      "needs_background": "light"
     },
     "output_type": "display_data"
    },
    {
     "data": {
      "image/png": "[encoded data removed]",
      "text/plain": [
       "<Figure size 360x360 with 1 Axes>"
      ]
     },
     "metadata": {
      "needs_background": "light"
     },
     "output_type": "display_data"
    }
   ],
   "source": [
    "masks_demand.scatter(\"quantity\", \"price\")\n",
    "plt.xlabel('Quantity')\n",
    "plt.ylabel('Price')\n",
    "plt.title('Demand for a pack of surgical masks');\n",
    "\n",
    "gb_demand.scatter(\"quantity\", \"price\")\n",
    "plt.xlabel('Quantity')\n",
    "plt.ylabel('Price')\n",
    "plt.title('Demand for Gourmet Burritos');\n",
    "\n",
    "gt_demand.scatter(\"quantity\", \"price\")\n",
    "plt.xlabel('Quantity')\n",
    "plt.ylabel('Price')\n",
    "plt.title('Demand for Greek Theatre Tickets');\n",
    "\n",
    "iphone14_demand.scatter(\"quantity\", \"price\")\n",
    "plt.xlabel('Quantity')\n",
    "plt.ylabel('Price')\n",
    "plt.title('Demand for Iphone14');"
   ]
  },
  {
   "cell_type": "markdown",
   "metadata": {},
   "source": [
    " "
   ]
  }
 ],
 "metadata": {
  "@webio": {
   "lastCommId": null,
   "lastKernelId": null
  },
  "kernelspec": {
   "display_name": "Python 3 (ipykernel)",
   "language": "python",
   "name": "python3"
  },
  "language_info": {
   "codemirror_mode": {
    "name": "ipython",
    "version": 3
   },
   "file_extension": ".py",
   "mimetype": "text/x-python",
   "name": "python",
   "nbconvert_exporter": "python",
   "pygments_lexer": "ipython3",
   "version": "3.9.9"
  }
 },
 "nbformat": 4,
 "nbformat_minor": 4
}
