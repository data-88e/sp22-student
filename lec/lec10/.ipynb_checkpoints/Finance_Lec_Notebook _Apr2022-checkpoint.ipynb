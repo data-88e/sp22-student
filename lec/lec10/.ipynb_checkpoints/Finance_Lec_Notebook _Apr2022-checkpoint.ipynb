{
 "cells": [
  {
   "cell_type": "markdown",
   "id": "02c17921",
   "metadata": {},
   "source": [
    "<table style=\"width: 100%;\">\n",
    "    <tr style=\"background-color: transparent;\"><td>\n",
    "        <img src=\"https://data-88e.github.io/assets/images/blue_text.png\" width=\"250px\" style=\"margin-left: 0;\" />\n",
    "    </td><td>\n",
    "        <p style=\"text-align: right; font-size: 10pt;\"><strong>Economic Models</strong>, Spring 2022<br>\n",
    "            Dr. Eric Van Dusen <br>\n",
    "        Sreeja Apparaju</p></td></tr>\n",
    "</table>"
   ]
  },
  {
   "cell_type": "markdown",
   "id": "fae93242",
   "metadata": {},
   "source": [
    "## This notebook takes a look at some simple tools for looking at the stock market\n",
    " - Previously Yahooo finance had a free API for reading in historical data on stocks\n",
    " - However the Yahoo API got discontiued\n",
    " - An awesome quant made a python package that recreated this functionality by scraping the information\n",
    " \n",
    "Check out the documentation for [Yfinance package](https://pypi.org/project/yfinance/)"
   ]
  },
  {
   "cell_type": "markdown",
   "id": "15ad6f14",
   "metadata": {},
   "source": [
    " The package - called yfinance is not on the datahub so first we need to install it"
   ]
  },
  {
   "cell_type": "code",
   "execution_count": null,
   "id": "d45bc119",
   "metadata": {
    "scrolled": true
   },
   "outputs": [],
   "source": [
    "pip install yfinance"
   ]
  },
  {
   "cell_type": "code",
   "execution_count": null,
   "id": "d3d062d7",
   "metadata": {},
   "outputs": [],
   "source": [
    "import yfinance as yf\n",
    "import numpy as np\n",
    "import matplotlib.pyplot as plt\n",
    "import matplotlib.patches as patches\n",
    "import sympy\n",
    "from ipywidgets import interact, interactive, fixed, interact_manual\n",
    "import ipywidgets as widgets\n",
    "from IPython.display import display\n",
    "from scipy import stats\n",
    "import warnings\n",
    "from datascience import *\n",
    "warnings.filterwarnings('ignore')\n",
    "plt.style.use(\"seaborn-muted\")\n",
    "%matplotlib inline"
   ]
  },
  {
   "cell_type": "markdown",
   "id": "05a23a94",
   "metadata": {},
   "source": [
    "The yfinance package allows us to download by stock ticker and make a Pandas Dataframe - here we will pull in by the market-wide tickers for the S&P 500 and the Nasdaq"
   ]
  },
  {
   "cell_type": "code",
   "execution_count": null,
   "id": "55783e66",
   "metadata": {},
   "outputs": [],
   "source": [
    "data_SPNQ = yf.download((\"^GSPC\", '^IXIC'), start=\"1993-01-29\", end=\"2022-04-05\")\n"
   ]
  },
  {
   "cell_type": "markdown",
   "id": "cc0c9cb8",
   "metadata": {},
   "source": [
    "The following section uses the dataframe to build out a new dataframe with returns - the amount earned each day on the previous days close"
   ]
  },
  {
   "cell_type": "code",
   "execution_count": null,
   "id": "593bcd5f",
   "metadata": {},
   "outputs": [],
   "source": [
    "data_SN = data_SPNQ.iloc[:, [2,3]]\n",
    "data_SP =data_SPNQ.iloc[:, 0]\n",
    "data_NQ = data_SPNQ.iloc[:, 1]\n",
    "dSP = np.array(len(data_SP)-1)\n",
    "for i in range(len(data_SP)-1):\n",
    "    dat = ((data_SP[i] - data_SP[i+1])/data_SP[i])*100\n",
    "    dSP = np.append(dSP,dat)\n",
    "dNQ = np.array(len(data_NQ)-1)\n",
    "for i in range(len(data_NQ)-1):\n",
    "    dat = ((data_NQ[i] - data_NQ[i+1])/data_NQ[i])*100\n",
    "    dNQ = np.append(dNQ,dat)\n",
    "data_SN['SP Returns'] = dSP\n",
    "data_SN['NQ Returns'] = dNQ"
   ]
  },
  {
   "cell_type": "code",
   "execution_count": null,
   "id": "7733df85",
   "metadata": {
    "scrolled": true
   },
   "outputs": [],
   "source": [
    "data_SN.iloc[:,[0,1]].plot(color = ('blue', 'red'), figsize=(10,8), alpha =0.3);\n"
   ]
  },
  {
   "cell_type": "code",
   "execution_count": null,
   "id": "21949bf2",
   "metadata": {},
   "outputs": [],
   "source": [
    "data_SN[['SP Returns', 'NQ Returns']].iloc[1:].plot(color = ('blue', 'red'), figsize=(10,8), alpha = 0.3);\n"
   ]
  },
  {
   "cell_type": "markdown",
   "id": "4e701944",
   "metadata": {},
   "source": [
    "## QuantStats Package\n",
    "The same developer made a more recent package that draws on Yfinance but makes a whole set of summary tables \n",
    "\n",
    "Check out the documentation for the [QuantStats Package](https://pypi.org/project/QuantStats/)"
   ]
  },
  {
   "cell_type": "markdown",
   "id": "e0d9b044-fe9c-46f5-8a77-c87ad0254e7d",
   "metadata": {},
   "source": [
    "First install the package"
   ]
  },
  {
   "cell_type": "code",
   "execution_count": null,
   "id": "c00faa97",
   "metadata": {},
   "outputs": [],
   "source": [
    "!pip install quantstats"
   ]
  },
  {
   "cell_type": "code",
   "execution_count": null,
   "id": "c0ab2684",
   "metadata": {},
   "outputs": [],
   "source": [
    "import quantstats as qs\n",
    "\n",
    "# fetch the daily returns for a stock - here for example Facebook\n",
    "stock = qs.utils.download_returns('FB')\n",
    "\n",
    "# show sharpe ratio\n",
    "qs.stats.sharpe(stock)"
   ]
  },
  {
   "cell_type": "markdown",
   "id": "1f148aa2",
   "metadata": {},
   "source": [
    "### QuantStats can make a \"Snapshot\" of stock performance"
   ]
  },
  {
   "cell_type": "code",
   "execution_count": null,
   "id": "75a314df",
   "metadata": {},
   "outputs": [],
   "source": [
    "qs.plots.snapshot(stock, title='Facebook Performance')"
   ]
  },
  {
   "cell_type": "markdown",
   "id": "73f5c6b3",
   "metadata": {},
   "source": [
    "### QuantStats can also make a more extensive analysis of stock performance -\n",
    "and here compared to a Benchmark Index - SP 500"
   ]
  },
  {
   "cell_type": "code",
   "execution_count": null,
   "id": "9dd894e9",
   "metadata": {},
   "outputs": [],
   "source": [
    "qs.reports.full(stock, \"SPY\")\n"
   ]
  },
  {
   "cell_type": "code",
   "execution_count": null,
   "id": "fb5ef511",
   "metadata": {},
   "outputs": [],
   "source": []
  }
 ],
 "metadata": {
  "kernelspec": {
   "display_name": "Python 3",
   "language": "python",
   "name": "python3"
  },
  "language_info": {
   "codemirror_mode": {
    "name": "ipython",
    "version": 3
   },
   "file_extension": ".py",
   "mimetype": "text/x-python",
   "name": "python",
   "nbconvert_exporter": "python",
   "pygments_lexer": "ipython3",
   "version": "3.8.8"
  }
 },
 "nbformat": 4,
 "nbformat_minor": 5
}
