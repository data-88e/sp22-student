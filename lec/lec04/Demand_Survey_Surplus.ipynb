{
 "cells": [
  {
   "cell_type": "markdown",
   "metadata": {},
   "source": [
    "## Demand Survey and Surplus ##\n",
    "\n",
    "The idea for this mini-lab is to derive a Demand curve from student input from the first day of class, and to use that to motivate the concept of surplus.\n"
   ]
  },
  {
   "cell_type": "code",
   "execution_count": null,
   "metadata": {},
   "outputs": [],
   "source": [
    "from datascience import *\n",
    "import pandas as pd\n",
    "import numpy as np\n",
    "import matplotlib.pyplot as plt\n",
    "%matplotlib inline\n",
    "import matplotlib.patches as patches\n",
    "import sympy\n",
    "solve = lambda x,y: sympy.solve(x-y)[0] if len(sympy.solve(x-y))==1 else \"Not Single Solution\"\n",
    "from ipywidgets import interact, interactive, fixed, interact_manual\n",
    "import ipywidgets as widgets\n",
    "from IPython.display import display\n",
    "import warnings\n",
    "warnings.filterwarnings('ignore')\n",
    "plt.style.use(\"seaborn-muted\")\n",
    "\n",
    "!pip install oauth2client\n",
    "import pandas as pd\n",
    "import gspread\n",
    "import os\n",
    "import json\n",
    "from oauth2client.service_account import ServiceAccountCredentials\n",
    "import numpy as np\n",
    "from datascience import *\n",
    "from ipywidgets import interact, interactive, fixed, interact_manual\n",
    "import ipywidgets as widgets\n",
    "%matplotlib inline\n",
    "import pandas as pd\n",
    "import matplotlib.pyplot as plt\n",
    "import warnings\n",
    "warnings.filterwarnings(\"ignore\")\n"
   ]
  },
  {
   "cell_type": "markdown",
   "metadata": {},
   "source": [
    "Lets start off with the demand from a student survey:\n",
    " - we had 4 \"goods\" and a range of prices available for each good\n",
    " - students made bids on their willingness to pay for each of the 4 goods\n",
    " - the dataset for Fall 2021 has something like 83 observations\n",
    " - this dataset has been exported and we have to read it in here:"
   ]
  },
  {
   "cell_type": "code",
   "execution_count": null,
   "metadata": {},
   "outputs": [],
   "source": [
    "# This cell loads in the data from the google form and saves it to a table called demand_table - don't worry about the code!\n",
    "scope = ['https://spreadsheets.google.com/feeds', 'https://www.googleapis.com/auth/drive']\n",
    "creds = ServiceAccountCredentials.from_json_keyfile_dict(json.loads(os.environ['GOOGLE_SHEETS_READONLY_KEY']), scope)\n",
    "gc = gspread.authorize(creds)\n",
    "\n",
    "url = 'https://docs.google.com/spreadsheets/d/16iLCfbeLQRG_GiEM5Tc0t4VYxsl9-pTIm-Kx4LaZxGI/edit?usp=sharing'\n",
    "\n",
    "sheet = gc.open_by_url(url)\n",
    "ws = sheet.worksheet('Form Responses 1')\n",
    "df = pd.DataFrame(ws.get_all_records())\n",
    "\n",
    "DemandTable = Table.from_df(df)\n",
    "DemandTable = DemandTable.drop('Timestamp')\n",
    "DemandTable\n"
   ]
  },
  {
   "cell_type": "code",
   "execution_count": null,
   "metadata": {},
   "outputs": [],
   "source": [
    "for i in DemandTable.labels:\n",
    "    DemandTable.hist(i);"
   ]
  },
  {
   "cell_type": "markdown",
   "metadata": {},
   "source": [
    "Lets start by looking at just a burrito\n",
    "\n",
    "And let's try to figure how how many people would buy a gourmet burrito at a given price? Let's assume that a person would be willing to buy the good at a price less than their bid price.  "
   ]
  },
  {
   "cell_type": "code",
   "execution_count": null,
   "metadata": {},
   "outputs": [],
   "source": [
    "BurritosTable=DemandTable.select('Burrito')\n",
    "BurritosTable"
   ]
  },
  {
   "cell_type": "code",
   "execution_count": null,
   "metadata": {},
   "outputs": [],
   "source": [
    "# Count how many people are in each answer pool\n",
    "BurritosTable.group(\"Burrito\")"
   ]
  },
  {
   "cell_type": "markdown",
   "metadata": {},
   "source": [
    "Now the number of each isnt the right quantity - we want to know the number of people who would pay at any given price or any lower price\n",
    " - people will pay \"up to their bid price\"\n",
    " - we consider the bid the maximum they are willing to pay, but will pay anything less\n",
    " - the bid was for a single unit, so for now we will disregard individuals buying multiple units\n",
    " \n",
    " We are going to do this by \n",
    "  1) flipping the order of the count column\n",
    "  2) doing a cumulative function of all prices below\n",
    "  3) flipping it back"
   ]
  },
  {
   "cell_type": "code",
   "execution_count": null,
   "metadata": {},
   "outputs": [],
   "source": [
    "#Cumulative Sum of how many people are willing to pay at a agiven price\n",
    "Qdemand = np.flip(np.cumsum(np.flip(BurritosTable.group(\"Burrito\").column(\"count\"))))"
   ]
  },
  {
   "cell_type": "code",
   "execution_count": null,
   "metadata": {},
   "outputs": [],
   "source": [
    "# Combine the two into a single table\n",
    "DemandBurr= Table().with_columns([\n",
    "    'priceBurr',[2.5, 5, 7.5, 10.00, 12.5, 15,17.5],\n",
    "    'Qdemand',Qdemand\n",
    "])\n",
    "DemandBurr"
   ]
  },
  {
   "cell_type": "markdown",
   "metadata": {},
   "source": [
    "## Lets looks at this Table and think about Consumer Surplus\n",
    "Lets start from by flipping the order so that it is descending\n",
    "\n",
    "And then let's suppose the price is $10 and lets measure how many people that were willing to pay more are getting a \"surplus\" by getting to by at this price that is lower than their \"Willingness to Pay\" / \" Bid Price\"\n"
   ]
  },
  {
   "cell_type": "code",
   "execution_count": null,
   "metadata": {},
   "outputs": [],
   "source": [
    "DemandBurr.sort(\"priceBurr\", descending = True)"
   ]
  },
  {
   "cell_type": "markdown",
   "metadata": {},
   "source": [
    "It looks like \n",
    "- 28 people would have been willing to pay up to $ 12.5\n",
    "\n",
    "- 6 people would have been willing to pay up to $ 15.0\n",
    "\n",
    "- 1 person would have been willing to pay up to $ 17.5\n",
    "\n",
    "- 0 people would have been willing to pay up to $ 20.0\n",
    "\n",
    "Lets add up these values\n"
   ]
  },
  {
   "cell_type": "code",
   "execution_count": null,
   "metadata": {},
   "outputs": [],
   "source": [
    "CS_counting = 28*2.5+6*5+1*7.5+0*10\n",
    "print('The consumer surplus from counting consumers is ', CS_counting )"
   ]
  },
  {
   "cell_type": "code",
   "execution_count": null,
   "metadata": {},
   "outputs": [],
   "source": [
    "DemandBurr.plot(\"Qdemand\", \"priceBurr\")\n",
    "plt.xlabel('Quantity')\n",
    "plt.ylabel('Price')\n",
    "plt.title('Demand for Gourmet Burrito');"
   ]
  },
  {
   "cell_type": "code",
   "execution_count": null,
   "metadata": {},
   "outputs": [],
   "source": [
    "DemandBurr.scatter(\"Qdemand\", \"priceBurr\")\n",
    "plt.xlabel('Quantity')\n",
    "plt.ylabel('Price')\n",
    "plt.title('Demand for Gourmet Burrito');"
   ]
  },
  {
   "cell_type": "markdown",
   "metadata": {},
   "source": [
    "Now that we have a demand curve - Let's create for a model that makes a linear approximation like we did in lecture 2"
   ]
  },
  {
   "cell_type": "code",
   "execution_count": null,
   "metadata": {},
   "outputs": [],
   "source": [
    "#What are the slope and intercept of the fit line\n",
    "std_units = lambda a: (a - np.mean(a)) / np.std(a)\n",
    "corr = lambda x, y: np.mean(std_units(x) * std_units(y))\n",
    "slope = lambda x, y: corr(x, y) * np.std(y) / np.std(x)\n",
    "intercept = lambda x, y: np.mean(y) - slope(x, y) * np.mean(x)"
   ]
  },
  {
   "cell_type": "code",
   "execution_count": null,
   "metadata": {},
   "outputs": [],
   "source": [
    "burr_slope = slope(DemandBurr[\"Qdemand\"], DemandBurr[\"priceBurr\"])\n",
    "burr_slope"
   ]
  },
  {
   "cell_type": "code",
   "execution_count": null,
   "metadata": {},
   "outputs": [],
   "source": [
    "burr_intercept = intercept(DemandBurr[\"Qdemand\"], DemandBurr[\"priceBurr\"])\n",
    "burr_intercept"
   ]
  },
  {
   "cell_type": "code",
   "execution_count": null,
   "metadata": {},
   "outputs": [],
   "source": [
    "DemandBurr.plot(\"Qdemand\", \"priceBurr\")\n",
    "plt.xlabel('Quantity')\n",
    "plt.ylabel('Price')\n",
    "plt.title('Demand for Burrito');\n",
    "plt.plot(np.arange(0,81,0.01), burr_slope * np.arange(0,81,0.01) + burr_intercept);"
   ]
  },
  {
   "cell_type": "code",
   "execution_count": null,
   "metadata": {},
   "outputs": [],
   "source": [
    "#How many people does the Model think would buy at $10\n",
    "solve = lambda x,y: sympy.solve(x-y)[0] if len(sympy.solve(x-y))==1 else \"Not Single Solution\"\n",
    "Q = sympy.Symbol(\"Q\")\n",
    "demand = burr_slope * Q + burr_intercept\n",
    "supply = 10\n",
    "Q_Star=solve(demand,supply)\n",
    "#Q_star = solve(demand, supply) # our version of solve is simplified for single solution systems\n",
    "Q_Star"
   ]
  },
  {
   "cell_type": "code",
   "execution_count": null,
   "metadata": {},
   "outputs": [],
   "source": [
    "DemandBurr.plot(\"Qdemand\", \"priceBurr\")\n",
    "plt.xlabel('Quantity')\n",
    "plt.ylabel('Price')\n",
    "plt.title('Demand for Burrito')\n",
    "plt.plot(np.arange(0,82,0.01), burr_slope * np.arange(0,82,0.01) + burr_intercept)\n",
    "plt.hlines(10,0,45, color ='r')\n",
    "#plt.hlines(y = 1, xmin = 0, xmax = 82, color ='r')\n",
    "\n",
    "#model_q= burr_slope *1 + burr_intercept)\n",
    "triangle1 = patches.Polygon([[0,10],[Q_Star,10],[0,17.15]],True,color=\"green\")\n",
    "currentAxis = plt.gca()\n",
    "currentAxis.add_patch(triangle1)\n",
    "\n",
    "print(\"Consumer surplus is equal to green triangle: \"+str(0.5*(17.15-10)*45))\n"
   ]
  },
  {
   "cell_type": "code",
   "execution_count": null,
   "metadata": {},
   "outputs": [],
   "source": [
    "DemandBurr.sort(\"priceBurr\", descending = True)"
   ]
  },
  {
   "cell_type": "markdown",
   "metadata": {},
   "source": [
    "##  Let's try again for Greek Theater Tickets "
   ]
  },
  {
   "cell_type": "code",
   "execution_count": null,
   "metadata": {},
   "outputs": [],
   "source": [
    "GreekTixTable=DemandTable.select('GreekTix')\n",
    "GreekTixTable\n"
   ]
  },
  {
   "cell_type": "code",
   "execution_count": null,
   "metadata": {},
   "outputs": [],
   "source": [
    "Qdemand = np.flip(np.cumsum(np.flip(GreekTixTable.group(\"GreekTix\").column(\"count\"))))\n"
   ]
  },
  {
   "cell_type": "code",
   "execution_count": null,
   "metadata": {},
   "outputs": [],
   "source": [
    "DemandGreekTix= Table().with_columns([\n",
    "    'priceTix',[25, 50, 75, 100, 125, 150,175, 200],\n",
    "    'Qdemand',Qdemand\n",
    "])\n",
    "DemandGreekTix"
   ]
  },
  {
   "cell_type": "code",
   "execution_count": null,
   "metadata": {},
   "outputs": [],
   "source": [
    "DemandGreekTix.plot(\"Qdemand\", \"priceTix\")\n",
    "plt.xlabel('Quantity')\n",
    "plt.ylabel('Price')\n",
    "plt.title('Demand for Greek Theater Tickets');"
   ]
  },
  {
   "cell_type": "markdown",
   "metadata": {},
   "source": [
    "## Section 2  - fun with widgets"
   ]
  },
  {
   "cell_type": "code",
   "execution_count": null,
   "metadata": {},
   "outputs": [],
   "source": [
    "import sympy\n",
    "import matplotlib.pyplot as plt\n",
    "import matplotlib.patches as patches\n",
    "p = sympy.Symbol(\"p\")\n",
    "def Equilibrium(demandParam, supplyParam, priceStart):\n",
    "    demandEquation = demandParam - p\n",
    "    # change the slope\n",
    "    supplyEquation = p * (supplyParam/10)\n",
    "    priceEnd = sympy.solve(demandEquation)[0]\n",
    "    prices = []\n",
    "    demandQ = []\n",
    "    supplyQ = []\n",
    "    for price in range(priceStart,priceEnd+1):\n",
    "        prices += [price]\n",
    "        demandQ += [demandEquation.subs(p,price)]\n",
    "        supplyQ += [supplyEquation.subs(p,price)]\n",
    "    \n",
    "    equilibriumP = sympy.solve(demandEquation-supplyEquation)[0]\n",
    "    equilibriumQ = demandEquation.subs(p,equilibriumP)\n",
    "    \n",
    "    \n",
    "    \n",
    "    triangle1 = patches.Polygon([[equilibriumQ,equilibriumP],[0,equilibriumP],[0,priceEnd]],True,color=\"green\")\n",
    "    triangle2 = patches.Polygon([[equilibriumQ,equilibriumP],[0,equilibriumP],[0,0]],True,color=\"red\")\n",
    "    currentAxis = plt.gca()\n",
    "    currentAxis.add_patch(triangle1)\n",
    "    currentAxis.add_patch(triangle2)\n",
    "    \n",
    "    plt.plot(demandQ,prices)\n",
    "    plt.plot(supplyQ,prices)\n",
    "    plt.legend([\"Demand\",\"Supply\"])\n",
    "    plt.plot(equilibriumQ,equilibriumP, 'ro')\n",
    "    plt.xlabel(\"Supply and Demand Quantity\")\n",
    "    plt.ylabel(\"Price\")\n",
    "    plt.ylim(0, 15)\n",
    "    plt.xlim(0, 10)\n",
    "    plt.show()\n",
    "    print(\"The equilibrium price is \"+str(round(equilibriumP,2))+\" and equilibrium quantity is \"+str(round(equilibriumQ,2))+\".\")\n",
    "    print(\"The consumer surplus at this equilibrium \"+str((priceEnd-equilibriumP)*(equilibriumQ)*.5))\n",
    "    print(\"The producer surplus at this equilibrium \"+str((equilibriumP)*(equilibriumQ)*.5))\n",
    "# you can change the range here\n",
    "slider1 = widgets.IntSlider(min=5, max=15,step=1,value=10)\n",
    "slider2 = widgets.IntSlider(min=1, max=20,step=1,value=10)\n",
    "slider3 = widgets.IntSlider(min=-5, max=5,step=1,value=0)\n",
    "display(widgets.interactive(Equilibrium, demandParam=slider1, supplyParam=slider2, priceStart=slider3))"
   ]
  },
  {
   "cell_type": "code",
   "execution_count": null,
   "metadata": {},
   "outputs": [],
   "source": [
    "def eqSolve(eq1,eq2,tax):\n",
    "    demandP = sympy.solve(eq1-q,p)[0]\n",
    "    supplyP = sympy.solve(eq2-q,p)[0]\n",
    "    demandP = demandP-cTax\n",
    "    supplyP = supplyP+pTax\n",
    "\n",
    "    demandQ = sympy.solve(demandP-p,q)[0]\n",
    "    supplyQ = sympy.solve(supplyP-p,q)[0]\n",
    "    \n",
    "    return sympy.solve((demandP-supplyP, demandQ-supplyQ,tax-cTax-pTax), q,p,cTax,pTax)[q]"
   ]
  },
  {
   "cell_type": "code",
   "execution_count": null,
   "metadata": {},
   "outputs": [],
   "source": [
    "import sympy\n",
    "import matplotlib.pyplot as plt\n",
    "import matplotlib.patches as patches\n",
    "p = sympy.Symbol(\"p\")\n",
    "q = sympy.Symbol(\"q\")\n",
    "cTax = sympy.Symbol(\"cTax\")\n",
    "pTax = sympy.Symbol(\"pTax\")\n",
    "\n",
    "def EquilibriumTax(demandParam,supplyParam,priceStart,priceEnd,tax):\n",
    "    demandEquation = demandParam - p\n",
    "    supplyEquation = p * (supplyParam/10)\n",
    "    prices = []\n",
    "    demand = []\n",
    "    supply = []\n",
    "    for price in range(priceStart,priceEnd+1):\n",
    "        prices += [price]\n",
    "        demand += [demandEquation.subs(p,price)]\n",
    "        supply += [supplyEquation.subs(p,price)]\n",
    "        \n",
    "    \n",
    "    \n",
    "    nonTaxPrice = sympy.solve(demandEquation-supplyEquation)[0]\n",
    "    nonTaxQ = demandEquation.subs(p,nonTaxPrice)\n",
    "\n",
    "    \n",
    "    equilibriumQ = eqSolve(demandEquation,supplyEquation,tax)\n",
    "    equilibriumP1 = sympy.solve(demandEquation-equilibriumQ)[0]\n",
    "    equilibriumP2 = sympy.solve(supplyEquation-equilibriumQ)[0]\n",
    "    \n",
    "    triangle1 = patches.Polygon([[nonTaxQ,nonTaxPrice],[equilibriumQ,nonTaxPrice],[equilibriumQ,equilibriumP1]],True,color=\"green\")\n",
    "    triangle2 = patches.Polygon([[nonTaxQ,nonTaxPrice],[equilibriumQ,nonTaxPrice],[equilibriumQ,equilibriumP2]],True)\n",
    "    currentAxis = plt.gca()\n",
    "    currentAxis.add_patch(triangle1)\n",
    "    currentAxis.add_patch(triangle2)\n",
    "    \n",
    "    \n",
    "    rect1 = patches.Rectangle((0,nonTaxPrice),equilibriumQ,equilibriumP1-nonTaxPrice,linewidth=1,facecolor=\"red\")\n",
    "    rect2 = patches.Rectangle((0,nonTaxPrice),equilibriumQ,equilibriumP2-nonTaxPrice,linewidth=1,facecolor=\"yellow\")\n",
    "    currentAxis.add_patch(rect1)\n",
    "    currentAxis.add_patch(rect2)\n",
    "    \n",
    "    plt.plot(demand,prices)\n",
    "    plt.plot(supply,prices)\n",
    "    \n",
    "    \n",
    "    plt.legend([rect1,rect2,triangle1,triangle2], [\"Consumer Tax\",\"Producer Tax\",\"Consumer Deadweight Loss\",\"Producer Deadweight Loss\"])\n",
    "    plt.plot(equilibriumQ,equilibriumP1, 'ro')\n",
    "    plt.plot(equilibriumQ,equilibriumP2, 'ro')\n",
    "    plt.xlabel(\"Supply and Demand Quantity\")\n",
    "    plt.ylabel(\"Price\")\n",
    "    plt.ylim(0, 15)\n",
    "    plt.xlim(0, 10)\n",
    "    plt.show()\n",
    "    print(\"Without Tax - the equilibrium price is \"+str(round(nonTaxPrice,2))+\" and equilibrium quantity is \"+str(round(nonTaxQ,2)))\n",
    "    print(\"With Tax - Price paid by consumers is \"+str(equilibriumP1)+\" Price received by suppliers is \"+str(round(equilibriumP2,2))+\" and equilibrium quantity is \"+str(equilibriumQ)+\".\")\n",
    "    print(\"Taxes raised from consumers equals \"+str(round(equilibriumQ*(equilibriumP1-nonTaxPrice),2)))\n",
    "    print(\"Taxes raised from producers equals \"+str(round(equilibriumQ*(nonTaxPrice-equilibriumP2),2)))\n",
    "    print(\"Total taxes raised equals \"+str(equilibriumQ*tax))\n",
    "\n",
    "slider1 = widgets.IntSlider(min=5, max=15,step=1,value=10)\n",
    "slider2 = widgets.IntSlider(min=1, max=20,step=1,value=10)\n",
    "slider3 = widgets.IntSlider(min=-5, max=5,step=1,value=0)\n",
    "slider4 = widgets.IntSlider(min=5, max=20,step=1,value=10)\n",
    "slider5 = widgets.IntSlider(min=0, max=8,step=1,value=4)\n",
    "display(widgets.interactive(EquilibriumTax, demandParam=slider1, supplyParam=slider2, priceStart=slider3, priceEnd=slider4, tax=slider5))"
   ]
  },
  {
   "cell_type": "code",
   "execution_count": null,
   "metadata": {},
   "outputs": [],
   "source": []
  },
  {
   "cell_type": "code",
   "execution_count": null,
   "metadata": {},
   "outputs": [],
   "source": []
  }
 ],
 "metadata": {
  "kernelspec": {
   "display_name": "Python 3",
   "language": "python",
   "name": "python3"
  },
  "language_info": {
   "codemirror_mode": {
    "name": "ipython",
    "version": 3
   },
   "file_extension": ".py",
   "mimetype": "text/x-python",
   "name": "python",
   "nbconvert_exporter": "python",
   "pygments_lexer": "ipython3",
   "version": "3.8.8"
  }
 },
 "nbformat": 4,
 "nbformat_minor": 4
}
